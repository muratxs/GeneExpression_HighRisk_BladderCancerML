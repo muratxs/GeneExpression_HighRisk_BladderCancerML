{
 "cells": [
  {
   "cell_type": "markdown",
   "metadata": {},
   "source": [
    "# Gen Kitle Veri Çerçevesi İncelemesi"
   ]
  },
  {
   "cell_type": "markdown",
   "metadata": {},
   "source": [
    "## Veri Çerçevesini Tanımak"
   ]
  },
  {
   "cell_type": "markdown",
   "metadata": {},
   "source": [
    "veri seti ile ilgili bilgiler"
   ]
  },
  {
   "cell_type": "markdown",
   "metadata": {},
   "source": [
    "## R için Gerekli Kütüphaneleri Yüklemek"
   ]
  },
  {
   "cell_type": "markdown",
   "metadata": {},
   "source": [
    "Bu çekirdekte; gen verilerini indirmek, yüklemek, ön işleme tabii tutmak, normalize etmek, filtrelemek ve eksik gen verilerini manipüle etmek gibi pek çok işlemi kolaylıkla gerçekleştireceğimiz R dilini ve kütüphanelerini kullanacağız. Ayrıca R üzerinde gen verileri ile ilgili yapacağımız tüm işlemlerde kullanmamız gereken Bioconductor platformunu ve kütüphanelerini de yükleyerek çekirdeğe dahil ediyoruz."
   ]
  },
  {
   "cell_type": "code",
   "execution_count": null,
   "metadata": {},
   "outputs": [],
   "source": [
    "BiocManager::install()"
   ]
  },
  {
   "cell_type": "code",
   "execution_count": 75,
   "metadata": {},
   "outputs": [],
   "source": [
    "library(Biobase)\n",
    "library(ggplot2)\n",
    "library(klaR)\n",
    "library(caret)\n",
    "library(pROC)\n",
    "library(C50)\n",
    "library(partykit)\n",
    "library(RWeka)\n",
    "library(pROC)\n",
    "library(kernlab)\n",
    "library(CMA)\n",
    "library(ALL)\n",
    "library(genefilter)\n",
    "library(randomForest)\n",
    "library(org.Hs.eg.db)\n",
    "library(hgu95av2.db)\n",
    "library(hgu133plus2.db)\n",
    "library(affyPLM)\n",
    "library(impute)\n",
    "library(GEOquery)"
   ]
  },
  {
   "cell_type": "markdown",
   "metadata": {},
   "source": [
    "R ile ilgili kullanacağımız kütüphaneleri de yükleyerek çekirdeğe dahil ediyoruz."
   ]
  },
  {
   "cell_type": "markdown",
   "metadata": {},
   "source": [
    "## Veri Çerçevelerini Dahil Etmek"
   ]
  },
  {
   "cell_type": "markdown",
   "metadata": {},
   "source": [
    "Çekirdeğe dahil etmemiz gereken iki veri çerçevesi vardır. Bunlardan ilki gen ifade verilerini içeren binlerce öznitelikten ve örneklemin sayısı kadar gözlemden oluşan veri çerçevesidir. İkincisi ise bu gen verilerini içeren gözlemlerin karşılık bulduğu kanserin kötü veya iyi huylu olduğu, yaşı, cinsiyeti gibi fenotip özelliklerini barındıran veri çerçevesidir."
   ]
  },
  {
   "cell_type": "markdown",
   "metadata": {},
   "source": [
    "### Gen Veri Çerçevesini Dahil Etmek"
   ]
  },
  {
   "cell_type": "markdown",
   "metadata": {},
   "source": [
    "Gen verilerini dahil etmek için getGEO() kütüphanesi kullanılır ve gds nesnesine atanır. Bu nesneyi okunabilir bir ExpressionSet nesnesine dönüştürmek için ise GDS2eSet() fonksiyonu kullanılır."
   ]
  },
  {
   "cell_type": "code",
   "execution_count": 76,
   "metadata": {},
   "outputs": [
    {
     "name": "stderr",
     "output_type": "stream",
     "text": [
      "Using locally cached version of GDS4456 found here:\n",
      "C:\\Users\\Murat\\AppData\\Local\\Temp\\Rtmpe48ozr/GDS4456.soft.gz \n",
      "Parsed with column specification:\n",
      "cols(\n",
      "  .default = col_double(),\n",
      "  ID_REF = col_character(),\n",
      "  IDENTIFIER = col_character()\n",
      ")\n",
      "See spec(...) for full column specifications.\n",
      "Using locally cached version of GPL570 found here:\n",
      "C:\\Users\\Murat\\AppData\\Local\\Temp\\Rtmpe48ozr/GPL570.annot.gz \n",
      "Warning message:\n",
      "\"62 parsing failures.\n",
      "  row             col           expected    actual         file\n",
      "54614 Platform_SPOTID 1/0/T/F/TRUE/FALSE --Control literal data\n",
      "54615 Platform_SPOTID 1/0/T/F/TRUE/FALSE --Control literal data\n",
      "54616 Platform_SPOTID 1/0/T/F/TRUE/FALSE --Control literal data\n",
      "54617 Platform_SPOTID 1/0/T/F/TRUE/FALSE --Control literal data\n",
      "54618 Platform_SPOTID 1/0/T/F/TRUE/FALSE --Control literal data\n",
      "..... ............... .................. ......... ............\n",
      "See problems(...) for more details.\n",
      "\""
     ]
    }
   ],
   "source": [
    "gds <- getGEO(\"GDS4456\")\n",
    "eset <- GDS2eSet(gds, do.log2 = TRUE)"
   ]
  },
  {
   "cell_type": "markdown",
   "metadata": {},
   "source": [
    "### Fenotip Veri Çerçevesini Dahil Etmek"
   ]
  },
  {
   "cell_type": "markdown",
   "metadata": {},
   "source": [
    "Dahil etmemiz gereken ikinci veri çerçevesi ise gen veri çerçevesinde bulunan gözlemlere karşılık gelen örneklemin cinsiyetini, iyi veya kötü huylu kitle taşıdığını, yaşu gibi özellikleri barındıran fenotip veri çerçevesidir."
   ]
  },
  {
   "cell_type": "code",
   "execution_count": 77,
   "metadata": {},
   "outputs": [],
   "source": [
    "pVeri <- pData(eset)"
   ]
  },
  {
   "cell_type": "markdown",
   "metadata": {},
   "source": [
    "## Veri Çerçevelerine İlk Bakış"
   ]
  },
  {
   "cell_type": "markdown",
   "metadata": {},
   "source": [
    "Aşağıda bulunan eset kod çıktısı eset nesnesi hakkında bize yüzeysel temel bilgileri sunar."
   ]
  },
  {
   "cell_type": "code",
   "execution_count": 78,
   "metadata": {},
   "outputs": [
    {
     "data": {
      "text/plain": [
       "ExpressionSet (storageMode: lockedEnvironment)\n",
       "assayData: 54675 features, 93 samples \n",
       "  element names: exprs \n",
       "protocolData: none\n",
       "phenoData\n",
       "  sampleNames: GSM786527 GSM786539 ... GSM786546 (93 total)\n",
       "  varLabels: sample specimen disease.state description\n",
       "  varMetadata: labelDescription\n",
       "featureData\n",
       "  featureNames: 1007_s_at 1053_at ... AFFX-TrpnX-M_at (54675 total)\n",
       "  fvarLabels: ID Gene title ... GO:Component ID (21 total)\n",
       "  fvarMetadata: Column labelDescription\n",
       "experimentData: use 'experimentData(object)'\n",
       "  pubMedIds: 22228636 \n",
       "Annotation:  "
      ]
     },
     "metadata": {},
     "output_type": "display_data"
    }
   ],
   "source": [
    "eset"
   ]
  },
  {
   "cell_type": "markdown",
   "metadata": {},
   "source": [
    "Yarattığımız \"eset\" nesnesi doğrudan okunabilir değildir, exprs() fonksiyonu ile okunabilir hale getirilir. "
   ]
  },
  {
   "cell_type": "code",
   "execution_count": 79,
   "metadata": {},
   "outputs": [
    {
     "data": {
      "text/html": [
       "<table>\n",
       "<thead><tr><th></th><th scope=col>GSM786527</th><th scope=col>GSM786539</th><th scope=col>GSM786541</th><th scope=col>GSM786556</th><th scope=col>GSM786523</th><th scope=col>GSM786497</th><th scope=col>GSM786501</th><th scope=col>GSM786517</th><th scope=col>GSM786534</th><th scope=col>GSM786555</th><th scope=col>...</th><th scope=col>GSM786494</th><th scope=col>GSM786504</th><th scope=col>GSM786510</th><th scope=col>GSM786514</th><th scope=col>GSM786516</th><th scope=col>GSM786520</th><th scope=col>GSM786521</th><th scope=col>GSM786536</th><th scope=col>GSM786542</th><th scope=col>GSM786546</th></tr></thead>\n",
       "<tbody>\n",
       "\t<tr><th scope=row>1007_s_at</th><td>3.436602</td><td>3.525042</td><td>3.564500</td><td>3.570426</td><td>3.446177</td><td>3.303810</td><td>3.473008</td><td>3.500330</td><td>3.492007</td><td>3.613178</td><td>...     </td><td>3.162109</td><td>3.241979</td><td>3.548523</td><td>3.408291</td><td>3.394075</td><td>3.410409</td><td>3.224636</td><td>3.478351</td><td>3.245156</td><td>3.223690</td></tr>\n",
       "\t<tr><th scope=row>1053_at</th><td>2.846343</td><td>3.110801</td><td>2.696606</td><td>2.093591</td><td>2.465815</td><td>2.992203</td><td>3.048642</td><td>3.029516</td><td>2.779632</td><td>3.179242</td><td>...     </td><td>3.027223</td><td>3.027784</td><td>3.066189</td><td>3.054428</td><td>2.677596</td><td>3.305695</td><td>3.160625</td><td>2.798061</td><td>2.457466</td><td>2.867968</td></tr>\n",
       "\t<tr><th scope=row>117_at</th><td>1.911550</td><td>2.026407</td><td>1.759377</td><td>2.180154</td><td>1.874152</td><td>1.927221</td><td>1.881488</td><td>2.745405</td><td>1.849803</td><td>1.829362</td><td>...     </td><td>2.066186</td><td>2.446828</td><td>1.839815</td><td>2.068017</td><td>2.465123</td><td>2.371255</td><td>2.258045</td><td>2.066186</td><td>2.066186</td><td>2.060694</td></tr>\n",
       "\t<tr><th scope=row>121_at</th><td>2.459384</td><td>2.440599</td><td>2.440599</td><td>3.486161</td><td>2.440599</td><td>2.440599</td><td>2.440599</td><td>2.440599</td><td>2.440599</td><td>3.028412</td><td>...     </td><td>2.455689</td><td>2.620713</td><td>2.440599</td><td>2.534938</td><td>2.440599</td><td>2.440599</td><td>2.440599</td><td>2.440599</td><td>2.440599</td><td>2.440599</td></tr>\n",
       "\t<tr><th scope=row>1255_g_at</th><td>1.157794</td><td>1.157794</td><td>1.157794</td><td>1.157794</td><td>1.157794</td><td>1.157794</td><td>1.157794</td><td>1.157794</td><td>1.157794</td><td>1.157794</td><td>...     </td><td>1.157794</td><td>1.161559</td><td>1.157794</td><td>1.157794</td><td>1.157794</td><td>1.201170</td><td>1.157794</td><td>1.157794</td><td>1.157794</td><td>1.157794</td></tr>\n",
       "\t<tr><th scope=row>1294_at</th><td>1.479588</td><td>2.054529</td><td>2.365040</td><td>2.425645</td><td>1.499486</td><td>1.684047</td><td>1.681184</td><td>1.609930</td><td>2.020396</td><td>2.738822</td><td>...     </td><td>1.511200</td><td>1.524465</td><td>1.878949</td><td>2.127244</td><td>1.610473</td><td>1.609930</td><td>1.525753</td><td>1.536083</td><td>1.609930</td><td>1.531020</td></tr>\n",
       "</tbody>\n",
       "</table>\n"
      ],
      "text/latex": [
       "\\begin{tabular}{r|lllllllllllllllllllllllllllllllllllllllllllllllllllllllllllllllllllllllllllllllllllllllllllll}\n",
       "  & GSM786527 & GSM786539 & GSM786541 & GSM786556 & GSM786523 & GSM786497 & GSM786501 & GSM786517 & GSM786534 & GSM786555 & ... & GSM786494 & GSM786504 & GSM786510 & GSM786514 & GSM786516 & GSM786520 & GSM786521 & GSM786536 & GSM786542 & GSM786546\\\\\n",
       "\\hline\n",
       "\t1007\\_s\\_at & 3.436602 & 3.525042 & 3.564500 & 3.570426 & 3.446177 & 3.303810 & 3.473008 & 3.500330 & 3.492007 & 3.613178 & ...      & 3.162109 & 3.241979 & 3.548523 & 3.408291 & 3.394075 & 3.410409 & 3.224636 & 3.478351 & 3.245156 & 3.223690\\\\\n",
       "\t1053\\_at & 2.846343 & 3.110801 & 2.696606 & 2.093591 & 2.465815 & 2.992203 & 3.048642 & 3.029516 & 2.779632 & 3.179242 & ...      & 3.027223 & 3.027784 & 3.066189 & 3.054428 & 2.677596 & 3.305695 & 3.160625 & 2.798061 & 2.457466 & 2.867968\\\\\n",
       "\t117\\_at & 1.911550 & 2.026407 & 1.759377 & 2.180154 & 1.874152 & 1.927221 & 1.881488 & 2.745405 & 1.849803 & 1.829362 & ...      & 2.066186 & 2.446828 & 1.839815 & 2.068017 & 2.465123 & 2.371255 & 2.258045 & 2.066186 & 2.066186 & 2.060694\\\\\n",
       "\t121\\_at & 2.459384 & 2.440599 & 2.440599 & 3.486161 & 2.440599 & 2.440599 & 2.440599 & 2.440599 & 2.440599 & 3.028412 & ...      & 2.455689 & 2.620713 & 2.440599 & 2.534938 & 2.440599 & 2.440599 & 2.440599 & 2.440599 & 2.440599 & 2.440599\\\\\n",
       "\t1255\\_g\\_at & 1.157794 & 1.157794 & 1.157794 & 1.157794 & 1.157794 & 1.157794 & 1.157794 & 1.157794 & 1.157794 & 1.157794 & ...      & 1.157794 & 1.161559 & 1.157794 & 1.157794 & 1.157794 & 1.201170 & 1.157794 & 1.157794 & 1.157794 & 1.157794\\\\\n",
       "\t1294\\_at & 1.479588 & 2.054529 & 2.365040 & 2.425645 & 1.499486 & 1.684047 & 1.681184 & 1.609930 & 2.020396 & 2.738822 & ...      & 1.511200 & 1.524465 & 1.878949 & 2.127244 & 1.610473 & 1.609930 & 1.525753 & 1.536083 & 1.609930 & 1.531020\\\\\n",
       "\\end{tabular}\n"
      ],
      "text/markdown": [
       "\n",
       "| <!--/--> | GSM786527 | GSM786539 | GSM786541 | GSM786556 | GSM786523 | GSM786497 | GSM786501 | GSM786517 | GSM786534 | GSM786555 | ... | GSM786494 | GSM786504 | GSM786510 | GSM786514 | GSM786516 | GSM786520 | GSM786521 | GSM786536 | GSM786542 | GSM786546 |\n",
       "|---|---|---|---|---|---|---|---|---|---|---|---|---|---|---|---|---|---|---|---|---|---|\n",
       "| 1007_s_at | 3.436602 | 3.525042 | 3.564500 | 3.570426 | 3.446177 | 3.303810 | 3.473008 | 3.500330 | 3.492007 | 3.613178 | ...      | 3.162109 | 3.241979 | 3.548523 | 3.408291 | 3.394075 | 3.410409 | 3.224636 | 3.478351 | 3.245156 | 3.223690 |\n",
       "| 1053_at | 2.846343 | 3.110801 | 2.696606 | 2.093591 | 2.465815 | 2.992203 | 3.048642 | 3.029516 | 2.779632 | 3.179242 | ...      | 3.027223 | 3.027784 | 3.066189 | 3.054428 | 2.677596 | 3.305695 | 3.160625 | 2.798061 | 2.457466 | 2.867968 |\n",
       "| 117_at | 1.911550 | 2.026407 | 1.759377 | 2.180154 | 1.874152 | 1.927221 | 1.881488 | 2.745405 | 1.849803 | 1.829362 | ...      | 2.066186 | 2.446828 | 1.839815 | 2.068017 | 2.465123 | 2.371255 | 2.258045 | 2.066186 | 2.066186 | 2.060694 |\n",
       "| 121_at | 2.459384 | 2.440599 | 2.440599 | 3.486161 | 2.440599 | 2.440599 | 2.440599 | 2.440599 | 2.440599 | 3.028412 | ...      | 2.455689 | 2.620713 | 2.440599 | 2.534938 | 2.440599 | 2.440599 | 2.440599 | 2.440599 | 2.440599 | 2.440599 |\n",
       "| 1255_g_at | 1.157794 | 1.157794 | 1.157794 | 1.157794 | 1.157794 | 1.157794 | 1.157794 | 1.157794 | 1.157794 | 1.157794 | ...      | 1.157794 | 1.161559 | 1.157794 | 1.157794 | 1.157794 | 1.201170 | 1.157794 | 1.157794 | 1.157794 | 1.157794 |\n",
       "| 1294_at | 1.479588 | 2.054529 | 2.365040 | 2.425645 | 1.499486 | 1.684047 | 1.681184 | 1.609930 | 2.020396 | 2.738822 | ...      | 1.511200 | 1.524465 | 1.878949 | 2.127244 | 1.610473 | 1.609930 | 1.525753 | 1.536083 | 1.609930 | 1.531020 |\n",
       "\n"
      ],
      "text/plain": [
       "          GSM786527 GSM786539 GSM786541 GSM786556 GSM786523 GSM786497 GSM786501\n",
       "1007_s_at 3.436602  3.525042  3.564500  3.570426  3.446177  3.303810  3.473008 \n",
       "1053_at   2.846343  3.110801  2.696606  2.093591  2.465815  2.992203  3.048642 \n",
       "117_at    1.911550  2.026407  1.759377  2.180154  1.874152  1.927221  1.881488 \n",
       "121_at    2.459384  2.440599  2.440599  3.486161  2.440599  2.440599  2.440599 \n",
       "1255_g_at 1.157794  1.157794  1.157794  1.157794  1.157794  1.157794  1.157794 \n",
       "1294_at   1.479588  2.054529  2.365040  2.425645  1.499486  1.684047  1.681184 \n",
       "          GSM786517 GSM786534 GSM786555 ... GSM786494 GSM786504 GSM786510\n",
       "1007_s_at 3.500330  3.492007  3.613178  ... 3.162109  3.241979  3.548523 \n",
       "1053_at   3.029516  2.779632  3.179242  ... 3.027223  3.027784  3.066189 \n",
       "117_at    2.745405  1.849803  1.829362  ... 2.066186  2.446828  1.839815 \n",
       "121_at    2.440599  2.440599  3.028412  ... 2.455689  2.620713  2.440599 \n",
       "1255_g_at 1.157794  1.157794  1.157794  ... 1.157794  1.161559  1.157794 \n",
       "1294_at   1.609930  2.020396  2.738822  ... 1.511200  1.524465  1.878949 \n",
       "          GSM786514 GSM786516 GSM786520 GSM786521 GSM786536 GSM786542 GSM786546\n",
       "1007_s_at 3.408291  3.394075  3.410409  3.224636  3.478351  3.245156  3.223690 \n",
       "1053_at   3.054428  2.677596  3.305695  3.160625  2.798061  2.457466  2.867968 \n",
       "117_at    2.068017  2.465123  2.371255  2.258045  2.066186  2.066186  2.060694 \n",
       "121_at    2.534938  2.440599  2.440599  2.440599  2.440599  2.440599  2.440599 \n",
       "1255_g_at 1.157794  1.157794  1.201170  1.157794  1.157794  1.157794  1.157794 \n",
       "1294_at   2.127244  1.610473  1.609930  1.525753  1.536083  1.609930  1.531020 "
      ]
     },
     "metadata": {},
     "output_type": "display_data"
    }
   ],
   "source": [
    "head(exprs(eset))"
   ]
  },
  {
   "cell_type": "markdown",
   "metadata": {},
   "source": [
    "\"eset\" nesnesinin kaç gözlem ve kaç öznitelikten oluştuğuna bakmak için dim() fonksiyonu kullanılabilir."
   ]
  },
  {
   "cell_type": "code",
   "execution_count": 80,
   "metadata": {},
   "outputs": [
    {
     "data": {
      "text/html": [
       "<dl class=dl-horizontal>\n",
       "\t<dt>Features</dt>\n",
       "\t\t<dd>54675</dd>\n",
       "\t<dt>Samples</dt>\n",
       "\t\t<dd>93</dd>\n",
       "</dl>\n"
      ],
      "text/latex": [
       "\\begin{description*}\n",
       "\\item[Features] 54675\n",
       "\\item[Samples] 93\n",
       "\\end{description*}\n"
      ],
      "text/markdown": [
       "Features\n",
       ":   54675Samples\n",
       ":   93\n",
       "\n"
      ],
      "text/plain": [
       "Features  Samples \n",
       "   54675       93 "
      ]
     },
     "metadata": {},
     "output_type": "display_data"
    }
   ],
   "source": [
    "dim(eset)"
   ]
  },
  {
   "cell_type": "markdown",
   "metadata": {},
   "source": [
    "Örneklemin 93 kişiyi barındırdığı ve 54.675 adet gen verisinden oluştuğu anlaşılıyor."
   ]
  },
  {
   "cell_type": "markdown",
   "metadata": {},
   "source": [
    "Fenotip verinin öznitelik ve gözlemleri hakkında özet bilgileri almak için summary() fonksiyonu kullanılabilir."
   ]
  },
  {
   "cell_type": "code",
   "execution_count": 81,
   "metadata": {},
   "outputs": [
    {
     "data": {
      "text/plain": [
       "       sample        specimen            disease.state description       \n",
       " GSM786491: 1   stage pT1:10   no recurrence/DOD:54    Length:93         \n",
       " GSM786492: 1   stage pT2:17   recurrence/DOD   :39    Class :character  \n",
       " GSM786493: 1   stage pT3:42                           Mode  :character  \n",
       " GSM786494: 1   stage pT4:19                                             \n",
       " GSM786495: 1   stage pTa: 5                                             \n",
       " GSM786496: 1                                                            \n",
       " (Other)  :87                                                            "
      ]
     },
     "metadata": {},
     "output_type": "display_data"
    }
   ],
   "source": [
    "summary(pVeri)"
   ]
  },
  {
   "cell_type": "markdown",
   "metadata": {},
   "source": [
    "Hedef özniteliğimiz, mesane kanserinin nüksedip nüksetmediğini bize veren \"disease.state\" özniteliğidir."
   ]
  },
  {
   "cell_type": "code",
   "execution_count": 82,
   "metadata": {},
   "outputs": [
    {
     "data": {
      "text/html": [
       "<table>\n",
       "<thead><tr><th></th><th scope=col>sample</th><th scope=col>specimen</th><th scope=col>disease.state</th><th scope=col>description</th></tr></thead>\n",
       "<tbody>\n",
       "\t<tr><th scope=row>GSM786527</th><td>GSM786527                                       </td><td>stage pTa                                       </td><td>no recurrence/DOD                               </td><td>Value for GSM786527: 37_pTa; src: Bladder Cancer</td></tr>\n",
       "\t<tr><th scope=row>GSM786539</th><td>GSM786539                                       </td><td>stage pTa                                       </td><td>no recurrence/DOD                               </td><td>Value for GSM786539: 49_pTa; src: Bladder Cancer</td></tr>\n",
       "\t<tr><th scope=row>GSM786541</th><td>GSM786541                                       </td><td>stage pTa                                       </td><td>no recurrence/DOD                               </td><td>Value for GSM786541: 51_pTa; src: Bladder Cancer</td></tr>\n",
       "\t<tr><th scope=row>GSM786556</th><td>GSM786556                                       </td><td>stage pTa                                       </td><td>no recurrence/DOD                               </td><td>Value for GSM786556: 66_pTa; src: Bladder Cancer</td></tr>\n",
       "\t<tr><th scope=row>GSM786523</th><td>GSM786523                                       </td><td>stage pTa                                       </td><td>recurrence/DOD                                  </td><td>Value for GSM786523: 33_pTa; src: Bladder Cancer</td></tr>\n",
       "\t<tr><th scope=row>GSM786497</th><td>GSM786497                                       </td><td>stage pT1                                       </td><td>no recurrence/DOD                               </td><td>Value for GSM786497: 7_pT1; src: Bladder Cancer </td></tr>\n",
       "</tbody>\n",
       "</table>\n"
      ],
      "text/latex": [
       "\\begin{tabular}{r|llll}\n",
       "  & sample & specimen & disease.state & description\\\\\n",
       "\\hline\n",
       "\tGSM786527 & GSM786527                                          & stage pTa                                          & no recurrence/DOD                                  & Value for GSM786527: 37\\_pTa; src: Bladder Cancer\\\\\n",
       "\tGSM786539 & GSM786539                                          & stage pTa                                          & no recurrence/DOD                                  & Value for GSM786539: 49\\_pTa; src: Bladder Cancer\\\\\n",
       "\tGSM786541 & GSM786541                                          & stage pTa                                          & no recurrence/DOD                                  & Value for GSM786541: 51\\_pTa; src: Bladder Cancer\\\\\n",
       "\tGSM786556 & GSM786556                                          & stage pTa                                          & no recurrence/DOD                                  & Value for GSM786556: 66\\_pTa; src: Bladder Cancer\\\\\n",
       "\tGSM786523 & GSM786523                                          & stage pTa                                          & recurrence/DOD                                     & Value for GSM786523: 33\\_pTa; src: Bladder Cancer\\\\\n",
       "\tGSM786497 & GSM786497                                          & stage pT1                                          & no recurrence/DOD                                  & Value for GSM786497: 7\\_pT1; src: Bladder Cancer \\\\\n",
       "\\end{tabular}\n"
      ],
      "text/markdown": [
       "\n",
       "| <!--/--> | sample | specimen | disease.state | description |\n",
       "|---|---|---|---|---|\n",
       "| GSM786527 | GSM786527                                        | stage pTa                                        | no recurrence/DOD                                | Value for GSM786527: 37_pTa; src: Bladder Cancer |\n",
       "| GSM786539 | GSM786539                                        | stage pTa                                        | no recurrence/DOD                                | Value for GSM786539: 49_pTa; src: Bladder Cancer |\n",
       "| GSM786541 | GSM786541                                        | stage pTa                                        | no recurrence/DOD                                | Value for GSM786541: 51_pTa; src: Bladder Cancer |\n",
       "| GSM786556 | GSM786556                                        | stage pTa                                        | no recurrence/DOD                                | Value for GSM786556: 66_pTa; src: Bladder Cancer |\n",
       "| GSM786523 | GSM786523                                        | stage pTa                                        | recurrence/DOD                                   | Value for GSM786523: 33_pTa; src: Bladder Cancer |\n",
       "| GSM786497 | GSM786497                                        | stage pT1                                        | no recurrence/DOD                                | Value for GSM786497: 7_pT1; src: Bladder Cancer  |\n",
       "\n"
      ],
      "text/plain": [
       "          sample    specimen  disease.state    \n",
       "GSM786527 GSM786527 stage pTa no recurrence/DOD\n",
       "GSM786539 GSM786539 stage pTa no recurrence/DOD\n",
       "GSM786541 GSM786541 stage pTa no recurrence/DOD\n",
       "GSM786556 GSM786556 stage pTa no recurrence/DOD\n",
       "GSM786523 GSM786523 stage pTa recurrence/DOD   \n",
       "GSM786497 GSM786497 stage pT1 no recurrence/DOD\n",
       "          description                                     \n",
       "GSM786527 Value for GSM786527: 37_pTa; src: Bladder Cancer\n",
       "GSM786539 Value for GSM786539: 49_pTa; src: Bladder Cancer\n",
       "GSM786541 Value for GSM786541: 51_pTa; src: Bladder Cancer\n",
       "GSM786556 Value for GSM786556: 66_pTa; src: Bladder Cancer\n",
       "GSM786523 Value for GSM786523: 33_pTa; src: Bladder Cancer\n",
       "GSM786497 Value for GSM786497: 7_pT1; src: Bladder Cancer "
      ]
     },
     "metadata": {},
     "output_type": "display_data"
    }
   ],
   "source": [
    "head(pVeri)"
   ]
  },
  {
   "cell_type": "code",
   "execution_count": 83,
   "metadata": {},
   "outputs": [
    {
     "data": {
      "text/html": [
       "<ol class=list-inline>\n",
       "\t<li>93</li>\n",
       "\t<li>4</li>\n",
       "</ol>\n"
      ],
      "text/latex": [
       "\\begin{enumerate*}\n",
       "\\item 93\n",
       "\\item 4\n",
       "\\end{enumerate*}\n"
      ],
      "text/markdown": [
       "1. 93\n",
       "2. 4\n",
       "\n",
       "\n"
      ],
      "text/plain": [
       "[1] 93  4"
      ]
     },
     "metadata": {},
     "output_type": "display_data"
    }
   ],
   "source": [
    "dim(pVeri)"
   ]
  },
  {
   "cell_type": "markdown",
   "metadata": {},
   "source": [
    "Beklenilidği gibi fenotip veri de 93 gözlemden(hastadan) oluşmakta."
   ]
  },
  {
   "cell_type": "markdown",
   "metadata": {},
   "source": [
    "# Veri Ön İşleme"
   ]
  },
  {
   "cell_type": "markdown",
   "metadata": {},
   "source": [
    "## Eksik Verileri İşlemek"
   ]
  },
  {
   "cell_type": "markdown",
   "metadata": {},
   "source": [
    "Gen veri çerçevemizde eksik veri olup olmadığına bakmak için \"eset\" nesnesini \"exprs( )\" fonksiyonu ile açıp \"is.na( )\" fonksiyonunu kullanabiliriz."
   ]
  },
  {
   "cell_type": "code",
   "execution_count": 84,
   "metadata": {},
   "outputs": [
    {
     "data": {
      "text/html": [
       "0"
      ],
      "text/latex": [
       "0"
      ],
      "text/markdown": [
       "0"
      ],
      "text/plain": [
       "[1] 0"
      ]
     },
     "metadata": {},
     "output_type": "display_data"
    }
   ],
   "source": [
    "sum(is.na(exprs(eset)))"
   ]
  },
  {
   "cell_type": "markdown",
   "metadata": {},
   "source": [
    "Gen veri çerçevemizde hiç eksik veri yok. Fenotip veri çerçevemizi de kontrol etmek için aynı yöntemi uygularız."
   ]
  },
  {
   "cell_type": "code",
   "execution_count": 85,
   "metadata": {},
   "outputs": [
    {
     "data": {
      "text/html": [
       "0"
      ],
      "text/latex": [
       "0"
      ],
      "text/markdown": [
       "0"
      ],
      "text/plain": [
       "[1] 0"
      ]
     },
     "metadata": {},
     "output_type": "display_data"
    }
   ],
   "source": [
    "sum(is.na(pVeri))"
   ]
  },
  {
   "cell_type": "markdown",
   "metadata": {},
   "source": [
    "Fenotip veri çerçevemizde de hiç eksik veri bulunmamakta. O halde gen verilerini normalize etme ve filtreleme işlemlerine geçebiliriz."
   ]
  },
  {
   "cell_type": "markdown",
   "metadata": {},
   "source": [
    "## Gen Verilerini Normalize Etmek"
   ]
  },
  {
   "cell_type": "markdown",
   "metadata": {},
   "source": [
    "Genelde makine öğrenme algoritmasına sokmadan önce kullanacağımız veri çerçevesindeki gözlem değerlerini normalize ederiz. Normalize etmemizin amacı farklı dünyalardan olan verilerin varyansını bozmadan aynı ölçekte sıkıştırmaktır. Örneğin; kilo, boy ve yaş gibi sayısal öznitelikler birbirlerinden farklı ölçeklerdedir. "
   ]
  },
  {
   "cell_type": "markdown",
   "metadata": {},
   "source": [
    "Normalizasyon çeşitleri olarak minimum/maksiumum ölçeklendirme, ondalık ölçeklendirme, z-skor ölçeklendirme gibi pek çok ölçeklendirme çeşidi olsa da biz gen verileri için en uygun gördüğümüz fonksiyonu kullanacağız. Önce gen verilerinin bize normalize halde gelip gelmediğini kontrol etmek için kutu grafiği çizdiriyoruz."
   ]
  },
  {
   "cell_type": "code",
   "execution_count": 86,
   "metadata": {},
   "outputs": [
    {
     "data": {
      "image/png": "[encoded data removed]",
      "text/plain": [
       "plot without title"
      ]
     },
     "metadata": {},
     "output_type": "display_data"
    }
   ],
   "source": [
    "boxplot(eset)"
   ]
  },
  {
   "cell_type": "markdown",
   "metadata": {},
   "source": [
    "Gen verileri ölçeklendirilmemiş ve doğrudan eset nesnesini normalize( ) fonksiyonu ile ölçeklendiriyoruz."
   ]
  },
  {
   "cell_type": "code",
   "execution_count": 87,
   "metadata": {},
   "outputs": [],
   "source": [
    "eset <- normalize(eset)"
   ]
  },
  {
   "cell_type": "code",
   "execution_count": 88,
   "metadata": {},
   "outputs": [
    {
     "data": {
      "image/png": "[encoded data removed]",
      "text/plain": [
       "plot without title"
      ]
     },
     "metadata": {},
     "output_type": "display_data"
    }
   ],
   "source": [
    "boxplot(eset)"
   ]
  },
  {
   "cell_type": "markdown",
   "metadata": {},
   "source": [
    "Kontrolü için tekrardan kutu grafik çizdirdiğimizde normalizasyonun başarılı olduğunu görüntüleyebiliriz."
   ]
  },
  {
   "cell_type": "markdown",
   "metadata": {},
   "source": [
    "## Gen Verilerini Filtrelemek"
   ]
  },
  {
   "cell_type": "markdown",
   "metadata": {},
   "source": [
    "Pek çok gen veri çerçevesinin yaklaşık olarak 50.000 öznitelikten oluştuğu biliniyor. Bu kadar fazla öznitelikten oluşan veri çerçevelerini, geliştirdiğimiz makine öğrenmesi modellerine filtrelenmeden soktuğumuzda, bilgisayarların işlem kapasitesini yoran ve günler süren bir eğitim sürecini başlatmış olabiliriz. Özellikle makine öğrenmesi algoritmalarına parametre optimizasyonu yapmak istediğimizde bu normal bir bilgisayar için haftalar sürebilecek derecede uzun ve yorucu bir süreç olabilir."
   ]
  },
  {
   "cell_type": "markdown",
   "metadata": {},
   "source": [
    "Ayrıca, her gen verisi modelleme için değerli olmadığı gibi birbilerini tekrarlayan gen verileri de veri çerçevemizde bulunuyor olabilir. Bu durum modelleme için elverişli bir şey olmadığı gibi öznitelik seçimi yaparak gözlemler arasında en az değişiklik gösteren, düşük sinyaller veren öznitelikler filtrelenerek atılabilir."
   ]
  },
  {
   "cell_type": "markdown",
   "metadata": {},
   "source": [
    "Veri çerçevesindeki verileri filtrelemek için pek çok seçeneğimiz bulunmaktadır. Söz konusu gen verileri ise  en elverişli tekniğin \"geneFilter\" paketi içerisinde yer alan \"nsFilter( )\" fonksiyonu olduğu düşünülmektedir. Gen verilerini filtrelemek için Bioconductor platformunun bize sunduğu bu fonksiyon veri çerçevesinin anotasyon(annotation) paketindeki bilgileri kullanarak ve varyansa göre sıralama yaparak gen verisi tekrarını da önlemeyi amaçlar."
   ]
  },
  {
   "cell_type": "code",
   "execution_count": 89,
   "metadata": {},
   "outputs": [
    {
     "name": "stdout",
     "output_type": "stream",
     "text": [
      "character(0)\n"
     ]
    }
   ],
   "source": [
    "print(annotation(eset))"
   ]
  },
  {
   "cell_type": "markdown",
   "metadata": {},
   "source": [
    "Dahil ettiğimiz eset nesnesinin anotasyon paketinin olup olmadığına bakmak için \"annotation( )\" fonksiyonunu kullandık ve olmadığını gördük."
   ]
  },
  {
   "cell_type": "code",
   "execution_count": 90,
   "metadata": {},
   "outputs": [],
   "source": [
    "annotation(eset) <- \"hgu133plus2.db\""
   ]
  },
  {
   "cell_type": "markdown",
   "metadata": {},
   "source": [
    "Bu yüzden anotasyon olarak Bioconductor platformunun sağladığı açıklama paketini \"hgu133plus2.db\" atama yapabiliriz. Artık filtreleme için hazırız."
   ]
  },
  {
   "cell_type": "code",
   "execution_count": 91,
   "metadata": {},
   "outputs": [],
   "source": [
    "filtrelenmis <- nsFilter(eset)\n",
    "filtrelenmis <- filtrelenmis$eset"
   ]
  },
  {
   "cell_type": "markdown",
   "metadata": {},
   "source": [
    "Filtrelendikten sonra gen verilerinin boyutunu tekrardan kontrol ederiz ve gözlemlerin sabit kaldığını, özniteliklerde ise ciddi bir azalma olduğunu görebiliriz."
   ]
  },
  {
   "cell_type": "code",
   "execution_count": 92,
   "metadata": {},
   "outputs": [
    {
     "data": {
      "text/html": [
       "<dl class=dl-horizontal>\n",
       "\t<dt>Features</dt>\n",
       "\t\t<dd>10091</dd>\n",
       "\t<dt>Samples</dt>\n",
       "\t\t<dd>93</dd>\n",
       "</dl>\n"
      ],
      "text/latex": [
       "\\begin{description*}\n",
       "\\item[Features] 10091\n",
       "\\item[Samples] 93\n",
       "\\end{description*}\n"
      ],
      "text/markdown": [
       "Features\n",
       ":   10091Samples\n",
       ":   93\n",
       "\n"
      ],
      "text/plain": [
       "Features  Samples \n",
       "   10091       93 "
      ]
     },
     "metadata": {},
     "output_type": "display_data"
    }
   ],
   "source": [
    "dim(filtrelenmis)"
   ]
  },
  {
   "cell_type": "markdown",
   "metadata": {},
   "source": [
    "## Hedef Öznitelik Manipülasyon İşlemleri"
   ]
  },
  {
   "cell_type": "markdown",
   "metadata": {},
   "source": [
    "Fenotip veri çerçevesi içerisinde hedef öznitelik olarak belirlediğimiz \"disease.state\" değişkenini \"factor\" tipine çevirerek durum isimli oluşturduğumuz değişkene atarız."
   ]
  },
  {
   "cell_type": "code",
   "execution_count": 93,
   "metadata": {},
   "outputs": [
    {
     "data": {
      "text/html": [
       "<ol class=list-inline>\n",
       "\t<li>no recurrence/DOD</li>\n",
       "\t<li>no recurrence/DOD</li>\n",
       "\t<li>no recurrence/DOD</li>\n",
       "\t<li>no recurrence/DOD</li>\n",
       "\t<li>recurrence/DOD</li>\n",
       "\t<li>no recurrence/DOD</li>\n",
       "</ol>\n",
       "\n",
       "<details>\n",
       "\t<summary style=display:list-item;cursor:pointer>\n",
       "\t\t<strong>Levels</strong>:\n",
       "\t</summary>\n",
       "\t<ol class=list-inline>\n",
       "\t\t<li>'no recurrence/DOD'</li>\n",
       "\t\t<li>'recurrence/DOD'</li>\n",
       "\t</ol>\n",
       "</details>"
      ],
      "text/latex": [
       "\\begin{enumerate*}\n",
       "\\item no recurrence/DOD\n",
       "\\item no recurrence/DOD\n",
       "\\item no recurrence/DOD\n",
       "\\item no recurrence/DOD\n",
       "\\item recurrence/DOD\n",
       "\\item no recurrence/DOD\n",
       "\\end{enumerate*}\n",
       "\n",
       "\\emph{Levels}: \\begin{enumerate*}\n",
       "\\item 'no recurrence/DOD'\n",
       "\\item 'recurrence/DOD'\n",
       "\\end{enumerate*}\n"
      ],
      "text/markdown": [
       "1. no recurrence/DOD\n",
       "2. no recurrence/DOD\n",
       "3. no recurrence/DOD\n",
       "4. no recurrence/DOD\n",
       "5. recurrence/DOD\n",
       "6. no recurrence/DOD\n",
       "\n",
       "\n",
       "\n",
       "**Levels**: 1. 'no recurrence/DOD'\n",
       "2. 'recurrence/DOD'\n",
       "\n",
       "\n"
      ],
      "text/plain": [
       "[1] no recurrence/DOD no recurrence/DOD no recurrence/DOD no recurrence/DOD\n",
       "[5] recurrence/DOD    no recurrence/DOD\n",
       "Levels: no recurrence/DOD recurrence/DOD"
      ]
     },
     "metadata": {},
     "output_type": "display_data"
    }
   ],
   "source": [
    "durum <- factor(pData(eset)$disease.state)\n",
    "head(durum)"
   ]
  },
  {
   "cell_type": "markdown",
   "metadata": {},
   "source": [
    "Durum değişkenine ait iki kategori bulunmaktadır. Bu kategorileri daha anlaşılır kılmak için yeniden adlandırırız."
   ]
  },
  {
   "cell_type": "code",
   "execution_count": 94,
   "metadata": {},
   "outputs": [
    {
     "data": {
      "text/html": [
       "<ol class=list-inline>\n",
       "\t<li>'Normal'</li>\n",
       "\t<li>'Kanser'</li>\n",
       "</ol>\n"
      ],
      "text/latex": [
       "\\begin{enumerate*}\n",
       "\\item 'Normal'\n",
       "\\item 'Kanser'\n",
       "\\end{enumerate*}\n"
      ],
      "text/markdown": [
       "1. 'Normal'\n",
       "2. 'Kanser'\n",
       "\n",
       "\n"
      ],
      "text/plain": [
       "[1] \"Normal\" \"Kanser\""
      ]
     },
     "metadata": {},
     "output_type": "display_data"
    }
   ],
   "source": [
    "levels(durum)[levels(durum)==\"no recurrence/DOD\"] <- \"Normal\"\n",
    "levels(durum)[levels(durum)==\"recurrence/DOD\"] <- \"Kanser\"\n",
    "levels(durum)"
   ]
  },
  {
   "cell_type": "markdown",
   "metadata": {},
   "source": [
    "Elimizdeki veri çerçevesinin ne kadar dengeli olduğunu sorgulamak için table( ) fonksiyonuna durum değişkenini parametre olarak girebiliriz. Dağılım, dengeli olmadığı gibi tam olarak dengesiz de değildir."
   ]
  },
  {
   "cell_type": "code",
   "execution_count": 95,
   "metadata": {},
   "outputs": [
    {
     "data": {
      "text/plain": [
       "durum\n",
       "Normal Kanser \n",
       "    54     39 "
      ]
     },
     "metadata": {},
     "output_type": "display_data"
    }
   ],
   "source": [
    "table(durum)"
   ]
  },
  {
   "cell_type": "markdown",
   "metadata": {},
   "source": [
    "## Modelleme Öncesi Veri Çerçevesini Hazırlama"
   ]
  },
  {
   "cell_type": "markdown",
   "metadata": {},
   "source": [
    "R ve Bioconductor teknolojilerinin getirdiği kolaylıklarla gen veri çerçevemizi artık modellemeye hazır hale getirmiş sayılırız. Ancak makine öğrenmesi modellemelerini, modellerin parametre optimizasyonlarını, modellerin başarı metriklerini değerlendirme ve skorlama gibi kısımları Python aracılığıyla yapacağımız için veri çerçevesini \"csv\" olarak yazdırıp Python çekirdeğinde işlemlere devam edeceğiz."
   ]
  },
  {
   "cell_type": "code",
   "execution_count": 97,
   "metadata": {},
   "outputs": [],
   "source": [
    "df <- data.frame(t(exprs(filtrelenmis)))\n",
    "df$durum <- durum"
   ]
  },
  {
   "cell_type": "markdown",
   "metadata": {},
   "source": [
    "Oluşturduğumuz veri çerçevesi gen verilerinden ibaretti. Son öznitelik olarak durum isminde hedef değişkenimizi de ekledik. Veri çerçevesi 93 gözlem ve 10091 öznitelikten oluşurken durum değişkeni ile birlikte 10092 özniteliğe yükselmiş oldu."
   ]
  },
  {
   "cell_type": "code",
   "execution_count": 113,
   "metadata": {},
   "outputs": [
    {
     "data": {
      "text/html": [
       "<ol class=list-inline>\n",
       "\t<li>93</li>\n",
       "\t<li>10092</li>\n",
       "</ol>\n"
      ],
      "text/latex": [
       "\\begin{enumerate*}\n",
       "\\item 93\n",
       "\\item 10092\n",
       "\\end{enumerate*}\n"
      ],
      "text/markdown": [
       "1. 93\n",
       "2. 10092\n",
       "\n",
       "\n"
      ],
      "text/plain": [
       "[1]    93 10092"
      ]
     },
     "metadata": {},
     "output_type": "display_data"
    }
   ],
   "source": [
    "dim(df)"
   ]
  },
  {
   "cell_type": "markdown",
   "metadata": {},
   "source": [
    "Son haline getirdiğimiz veri çerçevesinde dilediğimiz 7 gözlemi ve 8 özniteliği yazdırıyoruz."
   ]
  },
  {
   "cell_type": "code",
   "execution_count": 116,
   "metadata": {},
   "outputs": [
    {
     "data": {
      "text/html": [
       "<table>\n",
       "<thead><tr><th></th><th scope=col>X203301_s_at</th><th scope=col>X201130_s_at</th><th scope=col>X223596_at</th><th scope=col>X207223_s_at</th><th scope=col>X214198_s_at</th><th scope=col>X222201_s_at</th><th scope=col>X205241_at</th><th scope=col>durum</th></tr></thead>\n",
       "<tbody>\n",
       "\t<tr><th scope=row>GSM786580</th><td>3.397218</td><td>1.168577</td><td>1.386954</td><td>1.276967</td><td>3.130278</td><td>3.365637</td><td>2.538495</td><td>Normal  </td></tr>\n",
       "\t<tr><th scope=row>GSM786581</th><td>3.267292</td><td>1.275972</td><td>1.332537</td><td>1.730278</td><td>3.420391</td><td>3.143409</td><td>3.257337</td><td>Normal  </td></tr>\n",
       "\t<tr><th scope=row>GSM786583</th><td>3.443423</td><td>1.255108</td><td>1.410793</td><td>1.686167</td><td>3.350143</td><td>3.106522</td><td>2.877735</td><td>Normal  </td></tr>\n",
       "\t<tr><th scope=row>GSM786492</th><td>3.412878</td><td>1.263399</td><td>1.368861</td><td>1.157794</td><td>3.368400</td><td>3.268134</td><td>3.086549</td><td>Kanser  </td></tr>\n",
       "\t<tr><th scope=row>GSM786493</th><td>3.423147</td><td>1.848541</td><td>1.456441</td><td>2.013867</td><td>3.406400</td><td>3.221872</td><td>3.147212</td><td>Kanser  </td></tr>\n",
       "\t<tr><th scope=row>GSM786499</th><td>3.343821</td><td>1.302124</td><td>1.245706</td><td>1.258994</td><td>3.394820</td><td>3.138808</td><td>2.943549</td><td>Kanser  </td></tr>\n",
       "\t<tr><th scope=row>GSM786502</th><td>3.220836</td><td>2.948273</td><td>1.251121</td><td>2.416711</td><td>3.328583</td><td>3.222488</td><td>2.665015</td><td>Kanser  </td></tr>\n",
       "</tbody>\n",
       "</table>\n"
      ],
      "text/latex": [
       "\\begin{tabular}{r|llllllll}\n",
       "  & X203301\\_s\\_at & X201130\\_s\\_at & X223596\\_at & X207223\\_s\\_at & X214198\\_s\\_at & X222201\\_s\\_at & X205241\\_at & durum\\\\\n",
       "\\hline\n",
       "\tGSM786580 & 3.397218 & 1.168577 & 1.386954 & 1.276967 & 3.130278 & 3.365637 & 2.538495 & Normal  \\\\\n",
       "\tGSM786581 & 3.267292 & 1.275972 & 1.332537 & 1.730278 & 3.420391 & 3.143409 & 3.257337 & Normal  \\\\\n",
       "\tGSM786583 & 3.443423 & 1.255108 & 1.410793 & 1.686167 & 3.350143 & 3.106522 & 2.877735 & Normal  \\\\\n",
       "\tGSM786492 & 3.412878 & 1.263399 & 1.368861 & 1.157794 & 3.368400 & 3.268134 & 3.086549 & Kanser  \\\\\n",
       "\tGSM786493 & 3.423147 & 1.848541 & 1.456441 & 2.013867 & 3.406400 & 3.221872 & 3.147212 & Kanser  \\\\\n",
       "\tGSM786499 & 3.343821 & 1.302124 & 1.245706 & 1.258994 & 3.394820 & 3.138808 & 2.943549 & Kanser  \\\\\n",
       "\tGSM786502 & 3.220836 & 2.948273 & 1.251121 & 2.416711 & 3.328583 & 3.222488 & 2.665015 & Kanser  \\\\\n",
       "\\end{tabular}\n"
      ],
      "text/markdown": [
       "\n",
       "| <!--/--> | X203301_s_at | X201130_s_at | X223596_at | X207223_s_at | X214198_s_at | X222201_s_at | X205241_at | durum |\n",
       "|---|---|---|---|---|---|---|---|---|\n",
       "| GSM786580 | 3.397218 | 1.168577 | 1.386954 | 1.276967 | 3.130278 | 3.365637 | 2.538495 | Normal   |\n",
       "| GSM786581 | 3.267292 | 1.275972 | 1.332537 | 1.730278 | 3.420391 | 3.143409 | 3.257337 | Normal   |\n",
       "| GSM786583 | 3.443423 | 1.255108 | 1.410793 | 1.686167 | 3.350143 | 3.106522 | 2.877735 | Normal   |\n",
       "| GSM786492 | 3.412878 | 1.263399 | 1.368861 | 1.157794 | 3.368400 | 3.268134 | 3.086549 | Kanser   |\n",
       "| GSM786493 | 3.423147 | 1.848541 | 1.456441 | 2.013867 | 3.406400 | 3.221872 | 3.147212 | Kanser   |\n",
       "| GSM786499 | 3.343821 | 1.302124 | 1.245706 | 1.258994 | 3.394820 | 3.138808 | 2.943549 | Kanser   |\n",
       "| GSM786502 | 3.220836 | 2.948273 | 1.251121 | 2.416711 | 3.328583 | 3.222488 | 2.665015 | Kanser   |\n",
       "\n"
      ],
      "text/plain": [
       "          X203301_s_at X201130_s_at X223596_at X207223_s_at X214198_s_at\n",
       "GSM786580 3.397218     1.168577     1.386954   1.276967     3.130278    \n",
       "GSM786581 3.267292     1.275972     1.332537   1.730278     3.420391    \n",
       "GSM786583 3.443423     1.255108     1.410793   1.686167     3.350143    \n",
       "GSM786492 3.412878     1.263399     1.368861   1.157794     3.368400    \n",
       "GSM786493 3.423147     1.848541     1.456441   2.013867     3.406400    \n",
       "GSM786499 3.343821     1.302124     1.245706   1.258994     3.394820    \n",
       "GSM786502 3.220836     2.948273     1.251121   2.416711     3.328583    \n",
       "          X222201_s_at X205241_at durum \n",
       "GSM786580 3.365637     2.538495   Normal\n",
       "GSM786581 3.143409     3.257337   Normal\n",
       "GSM786583 3.106522     2.877735   Normal\n",
       "GSM786492 3.268134     3.086549   Kanser\n",
       "GSM786493 3.221872     3.147212   Kanser\n",
       "GSM786499 3.138808     2.943549   Kanser\n",
       "GSM786502 3.222488     2.665015   Kanser"
      ]
     },
     "metadata": {},
     "output_type": "display_data"
    }
   ],
   "source": [
    "df[24:30,10085:10092]"
   ]
  },
  {
   "cell_type": "markdown",
   "metadata": {},
   "source": [
    "Veri çerçevesini istediğimiz konumda ve \"csv\" formatında bir belge haline getirmek için \"write.csv( )\" fonksiyonunu kullanırız."
   ]
  },
  {
   "cell_type": "code",
   "execution_count": 117,
   "metadata": {},
   "outputs": [],
   "source": [
    "write.csv(df, 'df.csv' , row.names = FALSE)"
   ]
  }
 ],
 "metadata": {
  "kernelspec": {
   "display_name": "R",
   "language": "R",
   "name": "ir"
  },
  "language_info": {
   "codemirror_mode": "r",
   "file_extension": ".r",
   "mimetype": "text/x-r-source",
   "name": "R",
   "pygments_lexer": "r",
   "version": "3.6.0"
  }
 },
 "nbformat": 4,
 "nbformat_minor": 4
}
