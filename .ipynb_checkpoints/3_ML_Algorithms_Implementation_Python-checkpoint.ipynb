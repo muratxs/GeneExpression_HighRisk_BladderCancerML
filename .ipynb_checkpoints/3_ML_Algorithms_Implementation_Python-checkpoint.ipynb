{
 "cells": [
  {
   "cell_type": "markdown",
   "metadata": {},
   "source": [
    "# Veri Çerçevesini ve Kütüphaneleri Yüklemek"
   ]
  },
  {
   "cell_type": "markdown",
   "metadata": {},
   "source": [
    "İhtiyacımız olacak tüm python kütüphanelerini yükleriz."
   ]
  },
  {
   "cell_type": "code",
   "execution_count": 1,
   "metadata": {
    "scrolled": true
   },
   "outputs": [],
   "source": [
    "import pandas as pd\n",
    "import numpy as np\n",
    "import seaborn as sns\n",
    "import matplotlib.pyplot as plt\n",
    "import missingno as msno\n",
    "import statsmodels.api as sm\n",
    "import statsmodels.formula.api as smf\n",
    "from sklearn import metrics\n",
    "from sklearn.preprocessing import StandardScaler\n",
    "from sklearn.preprocessing import scale\n",
    "from sklearn.model_selection import train_test_split, GridSearchCV, cross_val_score\n",
    "from sklearn.metrics import confusion_matrix, accuracy_score, classification_report, balanced_accuracy_score\n",
    "from sklearn.metrics import roc_auc_score, roc_curve, recall_score, f1_score, log_loss, brier_score_loss, jaccard_score\n",
    "from sklearn.neighbors import KNeighborsClassifier\n",
    "from sklearn.discriminant_analysis import LinearDiscriminantAnalysis\n",
    "from sklearn.linear_model import LogisticRegression\n",
    "from sklearn.svm import SVC\n",
    "from sklearn.naive_bayes import GaussianNB\n",
    "from sklearn import tree\n",
    "from sklearn.ensemble import RandomForestClassifier\n",
    "from sklearn.ensemble import GradientBoostingClassifier\n",
    "from xgboost import XGBClassifier\n",
    "from lightgbm import LGBMClassifier\n",
    "from catboost import CatBoostClassifier\n",
    "from sklearn.impute import SimpleImputer\n",
    "from pandas.api.types import CategoricalDtype\n",
    "from sklearn.neural_network import MLPClassifier\n",
    "\n",
    "from warnings import filterwarnings\n",
    "filterwarnings('ignore')"
   ]
  },
  {
   "cell_type": "markdown",
   "metadata": {},
   "source": [
    "R Studio tarafında hazırladığımız ve normalize ettiğimiz gen verilerini, bulunduğumuz dizine \"csv\" formatında kaydetmiştik. Dizinimizde bulunan \"csv\" formatındaki veri çerçevesinin bir kopyasını \"df\" isimli değişkene atarız."
   ]
  },
  {
   "cell_type": "code",
   "execution_count": 2,
   "metadata": {},
   "outputs": [],
   "source": [
    "df = pd.read_csv(\"2_GDS4456_Datas.csv\").copy()"
   ]
  },
  {
   "cell_type": "markdown",
   "metadata": {},
   "source": [
    "Veri çerçevemizin düzgün yüklenip yüklenmediğini kontrol amaçlı ilk 5 gözlemini yazdıralım."
   ]
  },
  {
   "cell_type": "code",
   "execution_count": 3,
   "metadata": {},
   "outputs": [
    {
     "data": {
      "text/html": [
       "<div>\n",
       "<style scoped>\n",
       "    .dataframe tbody tr th:only-of-type {\n",
       "        vertical-align: middle;\n",
       "    }\n",
       "\n",
       "    .dataframe tbody tr th {\n",
       "        vertical-align: top;\n",
       "    }\n",
       "\n",
       "    .dataframe thead th {\n",
       "        text-align: right;\n",
       "    }\n",
       "</style>\n",
       "<table border=\"1\" class=\"dataframe\">\n",
       "  <thead>\n",
       "    <tr style=\"text-align: right;\">\n",
       "      <th></th>\n",
       "      <th>X204639_at</th>\n",
       "      <th>X203440_at</th>\n",
       "      <th>X212607_at</th>\n",
       "      <th>X207078_at</th>\n",
       "      <th>X228647_at</th>\n",
       "      <th>X236514_at</th>\n",
       "      <th>X202382_s_at</th>\n",
       "      <th>X227647_at</th>\n",
       "      <th>X203256_at</th>\n",
       "      <th>X210458_s_at</th>\n",
       "      <th>...</th>\n",
       "      <th>X204064_at</th>\n",
       "      <th>X209068_at</th>\n",
       "      <th>X203301_s_at</th>\n",
       "      <th>X201130_s_at</th>\n",
       "      <th>X223596_at</th>\n",
       "      <th>X207223_s_at</th>\n",
       "      <th>X214198_s_at</th>\n",
       "      <th>X222201_s_at</th>\n",
       "      <th>X205241_at</th>\n",
       "      <th>durum</th>\n",
       "    </tr>\n",
       "  </thead>\n",
       "  <tbody>\n",
       "    <tr>\n",
       "      <th>0</th>\n",
       "      <td>2.291414</td>\n",
       "      <td>2.443634</td>\n",
       "      <td>2.661341</td>\n",
       "      <td>1.905501</td>\n",
       "      <td>1.628142</td>\n",
       "      <td>1.564820</td>\n",
       "      <td>3.343999</td>\n",
       "      <td>3.004556</td>\n",
       "      <td>2.997684</td>\n",
       "      <td>2.574439</td>\n",
       "      <td>...</td>\n",
       "      <td>3.210223</td>\n",
       "      <td>2.964025</td>\n",
       "      <td>3.391365</td>\n",
       "      <td>1.728399</td>\n",
       "      <td>1.413638</td>\n",
       "      <td>1.663117</td>\n",
       "      <td>3.137566</td>\n",
       "      <td>3.271901</td>\n",
       "      <td>2.893899</td>\n",
       "      <td>Normal</td>\n",
       "    </tr>\n",
       "    <tr>\n",
       "      <th>1</th>\n",
       "      <td>2.709424</td>\n",
       "      <td>1.883548</td>\n",
       "      <td>1.992817</td>\n",
       "      <td>2.337363</td>\n",
       "      <td>2.565132</td>\n",
       "      <td>1.550302</td>\n",
       "      <td>3.476624</td>\n",
       "      <td>2.753971</td>\n",
       "      <td>3.448757</td>\n",
       "      <td>3.049078</td>\n",
       "      <td>...</td>\n",
       "      <td>3.067483</td>\n",
       "      <td>3.008929</td>\n",
       "      <td>3.330359</td>\n",
       "      <td>3.126254</td>\n",
       "      <td>2.121778</td>\n",
       "      <td>2.229163</td>\n",
       "      <td>3.422146</td>\n",
       "      <td>2.747009</td>\n",
       "      <td>3.075835</td>\n",
       "      <td>Normal</td>\n",
       "    </tr>\n",
       "    <tr>\n",
       "      <th>2</th>\n",
       "      <td>2.235472</td>\n",
       "      <td>2.276434</td>\n",
       "      <td>1.739417</td>\n",
       "      <td>2.914035</td>\n",
       "      <td>1.692840</td>\n",
       "      <td>1.516153</td>\n",
       "      <td>3.510556</td>\n",
       "      <td>2.250363</td>\n",
       "      <td>3.376113</td>\n",
       "      <td>1.908548</td>\n",
       "      <td>...</td>\n",
       "      <td>3.196651</td>\n",
       "      <td>2.786343</td>\n",
       "      <td>3.568262</td>\n",
       "      <td>1.241520</td>\n",
       "      <td>1.382294</td>\n",
       "      <td>1.729909</td>\n",
       "      <td>3.502777</td>\n",
       "      <td>2.903459</td>\n",
       "      <td>3.131900</td>\n",
       "      <td>Normal</td>\n",
       "    </tr>\n",
       "    <tr>\n",
       "      <th>3</th>\n",
       "      <td>2.276094</td>\n",
       "      <td>1.972782</td>\n",
       "      <td>2.270191</td>\n",
       "      <td>2.886399</td>\n",
       "      <td>2.137851</td>\n",
       "      <td>1.479544</td>\n",
       "      <td>3.487669</td>\n",
       "      <td>1.750649</td>\n",
       "      <td>3.387864</td>\n",
       "      <td>2.304900</td>\n",
       "      <td>...</td>\n",
       "      <td>3.264787</td>\n",
       "      <td>2.843982</td>\n",
       "      <td>3.556793</td>\n",
       "      <td>1.220109</td>\n",
       "      <td>1.339546</td>\n",
       "      <td>1.683737</td>\n",
       "      <td>3.494415</td>\n",
       "      <td>2.787419</td>\n",
       "      <td>2.835088</td>\n",
       "      <td>Normal</td>\n",
       "    </tr>\n",
       "    <tr>\n",
       "      <th>4</th>\n",
       "      <td>2.632482</td>\n",
       "      <td>2.331569</td>\n",
       "      <td>3.037295</td>\n",
       "      <td>2.577180</td>\n",
       "      <td>2.258299</td>\n",
       "      <td>1.510198</td>\n",
       "      <td>3.266018</td>\n",
       "      <td>3.037828</td>\n",
       "      <td>3.385733</td>\n",
       "      <td>2.261447</td>\n",
       "      <td>...</td>\n",
       "      <td>3.164215</td>\n",
       "      <td>3.061518</td>\n",
       "      <td>3.476061</td>\n",
       "      <td>1.236189</td>\n",
       "      <td>1.375516</td>\n",
       "      <td>1.431783</td>\n",
       "      <td>3.269210</td>\n",
       "      <td>2.617221</td>\n",
       "      <td>2.673414</td>\n",
       "      <td>Kanser</td>\n",
       "    </tr>\n",
       "  </tbody>\n",
       "</table>\n",
       "<p>5 rows × 10092 columns</p>\n",
       "</div>"
      ],
      "text/plain": [
       "   X204639_at  X203440_at  X212607_at  X207078_at  X228647_at  X236514_at  \\\n",
       "0    2.291414    2.443634    2.661341    1.905501    1.628142    1.564820   \n",
       "1    2.709424    1.883548    1.992817    2.337363    2.565132    1.550302   \n",
       "2    2.235472    2.276434    1.739417    2.914035    1.692840    1.516153   \n",
       "3    2.276094    1.972782    2.270191    2.886399    2.137851    1.479544   \n",
       "4    2.632482    2.331569    3.037295    2.577180    2.258299    1.510198   \n",
       "\n",
       "   X202382_s_at  X227647_at  X203256_at  X210458_s_at  ...  X204064_at  \\\n",
       "0      3.343999    3.004556    2.997684      2.574439  ...    3.210223   \n",
       "1      3.476624    2.753971    3.448757      3.049078  ...    3.067483   \n",
       "2      3.510556    2.250363    3.376113      1.908548  ...    3.196651   \n",
       "3      3.487669    1.750649    3.387864      2.304900  ...    3.264787   \n",
       "4      3.266018    3.037828    3.385733      2.261447  ...    3.164215   \n",
       "\n",
       "   X209068_at  X203301_s_at  X201130_s_at  X223596_at  X207223_s_at  \\\n",
       "0    2.964025      3.391365      1.728399    1.413638      1.663117   \n",
       "1    3.008929      3.330359      3.126254    2.121778      2.229163   \n",
       "2    2.786343      3.568262      1.241520    1.382294      1.729909   \n",
       "3    2.843982      3.556793      1.220109    1.339546      1.683737   \n",
       "4    3.061518      3.476061      1.236189    1.375516      1.431783   \n",
       "\n",
       "   X214198_s_at  X222201_s_at  X205241_at   durum  \n",
       "0      3.137566      3.271901    2.893899  Normal  \n",
       "1      3.422146      2.747009    3.075835  Normal  \n",
       "2      3.502777      2.903459    3.131900  Normal  \n",
       "3      3.494415      2.787419    2.835088  Normal  \n",
       "4      3.269210      2.617221    2.673414  Kanser  \n",
       "\n",
       "[5 rows x 10092 columns]"
      ]
     },
     "execution_count": 3,
     "metadata": {},
     "output_type": "execute_result"
    }
   ],
   "source": [
    "df.head()"
   ]
  },
  {
   "cell_type": "markdown",
   "metadata": {},
   "source": [
    "Genlerden oluşan veri çerçevemizin son özniteliği \"durum\" değişkeni ile birlikte kaç adet satır ve sütundan oluştuğuna bakalım."
   ]
  },
  {
   "cell_type": "code",
   "execution_count": 4,
   "metadata": {},
   "outputs": [
    {
     "data": {
      "text/plain": [
       "(93, 10092)"
      ]
     },
     "execution_count": 4,
     "metadata": {},
     "output_type": "execute_result"
    }
   ],
   "source": [
    "df.shape"
   ]
  },
  {
   "cell_type": "markdown",
   "metadata": {},
   "source": [
    "93 hastamızın olduğunu ve genlerin R tarafında hazırlanıp normalize edildikten sonra 10.091 özniteliğe düştüğünü görüyoruz. Sonuncu öznitelik hastanın kanser olup olmadığını temsil eden \"durum\" değişkenidir. Kontrol etmek için \"durum\" değişkeninin rastgele 7 değerini yazdıralım."
   ]
  },
  {
   "cell_type": "code",
   "execution_count": 5,
   "metadata": {},
   "outputs": [
    {
     "data": {
      "text/plain": [
       "13    Normal\n",
       "50    Normal\n",
       "54    Kanser\n",
       "56    Kanser\n",
       "21    Normal\n",
       "42    Normal\n",
       "86    Kanser\n",
       "Name: durum, dtype: object"
      ]
     },
     "execution_count": 5,
     "metadata": {},
     "output_type": "execute_result"
    }
   ],
   "source": [
    "df[\"durum\"].sample(7)"
   ]
  },
  {
   "cell_type": "markdown",
   "metadata": {},
   "source": [
    "Durum özniteliğinde değer olarak \"Kanser\" veya \"Normal\" yazmasını istemiyoruz. Bu değişkeni modele sokabilmek için kanser ise 1, kanser değilse 0 olacak şekilde revize etmek istiyoruz. Bunun için \"get_dummies( )\" fonksiyonu kullanabiliriz."
   ]
  },
  {
   "cell_type": "code",
   "execution_count": 6,
   "metadata": {},
   "outputs": [],
   "source": [
    "df[\"durum\"] = pd.get_dummies(df[\"durum\"])[\"Kanser\"]"
   ]
  },
  {
   "cell_type": "markdown",
   "metadata": {},
   "source": [
    "Kontrol etmek için \"durum\" değişkeninin değerlerini saydıralım ve makine öğrenmesi modellemeye geçelim."
   ]
  },
  {
   "cell_type": "code",
   "execution_count": 7,
   "metadata": {},
   "outputs": [
    {
     "data": {
      "text/plain": [
       "0    54\n",
       "1    39\n",
       "Name: durum, dtype: int64"
      ]
     },
     "execution_count": 7,
     "metadata": {},
     "output_type": "execute_result"
    }
   ],
   "source": [
    "df[\"durum\"].value_counts()"
   ]
  },
  {
   "cell_type": "markdown",
   "metadata": {},
   "source": [
    "# Makine Öğrenmesi Modellemeye Hazırlık"
   ]
  },
  {
   "cell_type": "markdown",
   "metadata": {},
   "source": [
    "## Bağımlı ve Bağımsız Değişken Bölütleme"
   ]
  },
  {
   "cell_type": "markdown",
   "metadata": {},
   "source": [
    "Makine öğrenmesi modelleri inşa etmeden önce test ve eğitim gözetmeksizin veri çerçevemizi bağımlı ve bağımsız değişkenler olmak üzere 2 parçaya ayırıyoruz. \"y\" değişkeni sadece etiket değerlerini, yani hastanın \"durum\" özniteliğini temsil ediyor. \"X\" değişkeni ise durum özniteliği hariç tüm değişkenleri temsil ediyor."
   ]
  },
  {
   "cell_type": "code",
   "execution_count": 8,
   "metadata": {},
   "outputs": [],
   "source": [
    "y = df[\"durum\"]\n",
    "X = df.drop([\"durum\"], axis = 1)"
   ]
  },
  {
   "cell_type": "markdown",
   "metadata": {},
   "source": [
    "## Eğitim ve Test Bölümlemesi"
   ]
  },
  {
   "cell_type": "markdown",
   "metadata": {},
   "source": [
    "Makine öğrenmesi modelleri için veri çerçevemizi bağımlı ve bağımsız olmak üzere (X ve y olarak) ayırdıktan sonra eğitim ve test olmak üzere veri çerçevemizi tekrardan ikiye böleriz. Böylelikle veri çerçevemiz dört parçaya ayrılmış oluyor. Test için %25'lik bir alan ayırıyoruz."
   ]
  },
  {
   "cell_type": "code",
   "execution_count": 9,
   "metadata": {},
   "outputs": [],
   "source": [
    "X_train, X_test, y_train, y_test = train_test_split(X, y, test_size = 0.25, random_state = 42)"
   ]
  },
  {
   "cell_type": "markdown",
   "metadata": {},
   "source": [
    "## Modelleri Skorlama Veri Çerçevesi"
   ]
  },
  {
   "cell_type": "markdown",
   "metadata": {},
   "source": [
    "Makine öğrenmesi için toplamda 11 adet algoritma kullanmış olacağız. Makine öğrenmesi modellerinin tamamını gerçekleştirdikten sonra modelleri mukayese edebilmek için bir skorlama sistemi uygulayacağız. Bu skorlama için sonuclar isimli bir veri çerçevesi oluşturuyoruz."
   ]
  },
  {
   "cell_type": "code",
   "execution_count": 10,
   "metadata": {},
   "outputs": [],
   "source": [
    "sonuclar = pd.DataFrame(columns = [\"Model\",\n",
    "                                   \"ConfusionMatrixScore\",\n",
    "                                   \"CrossValScore\",\n",
    "                                   \"ROC_AUC_Score\",\n",
    "                                   \"AUC\",\n",
    "                                   \"RecallScore\",\n",
    "                                   \"F1Score\",\n",
    "                                   \"PrecisionScore\",\n",
    "                                   \"JaccardScore\",\n",
    "                                   \"BrierScore\",\n",
    "                                   \"BalancedAccuracyScore\",\n",
    "                                   \"LogLoss\"])"
   ]
  },
  {
   "cell_type": "markdown",
   "metadata": {},
   "source": [
    "# Makine Öğrenmesi Modelleme"
   ]
  },
  {
   "cell_type": "markdown",
   "metadata": {},
   "source": [
    "## Lojistik Regresyon"
   ]
  },
  {
   "cell_type": "markdown",
   "metadata": {},
   "source": [
    "### Lojistik Regresyon Modeli İnşası ve Eğitimi"
   ]
  },
  {
   "cell_type": "markdown",
   "metadata": {},
   "source": [
    "Lojistik regresyon algoritmasını \"LogisticRegression()\" fonksiyonunu çağırarak tanımlayabiliriz."
   ]
  },
  {
   "cell_type": "code",
   "execution_count": 11,
   "metadata": {
    "scrolled": true
   },
   "outputs": [],
   "source": [
    "lojistik = LogisticRegression()"
   ]
  },
  {
   "cell_type": "markdown",
   "metadata": {},
   "source": [
    "Sınıflandırma problemi için lojistik regresyon modelini 2 parçaya ayırdığımız eğitim değişkenlerini kullanarak inşa edebiliriz."
   ]
  },
  {
   "cell_type": "code",
   "execution_count": 12,
   "metadata": {},
   "outputs": [],
   "source": [
    "lojistikModel = lojistik.fit(X_train, y_train)"
   ]
  },
  {
   "cell_type": "markdown",
   "metadata": {},
   "source": [
    "Lojistik regresyon algoritması için parametre optimizasyonu yapmayacağız. Bu algoritma için kritik ve kayda değer bir parametre olmadığı gibi başarı skorlarında radikal bir değişiklik de olmamakta. Lojistik regresyon algoritmasında hiçbir parametre vermediğimizde varsayılan olarak girilen parametreler aşağıda görüntülenmektedir."
   ]
  },
  {
   "cell_type": "code",
   "execution_count": 13,
   "metadata": {
    "scrolled": true
   },
   "outputs": [
    {
     "data": {
      "text/plain": [
       "LogisticRegression(C=1.0, class_weight=None, dual=False, fit_intercept=True,\n",
       "                   intercept_scaling=1, l1_ratio=None, max_iter=100,\n",
       "                   multi_class='auto', n_jobs=None, penalty='l2',\n",
       "                   random_state=None, solver='lbfgs', tol=0.0001, verbose=0,\n",
       "                   warm_start=False)"
      ]
     },
     "execution_count": 13,
     "metadata": {},
     "output_type": "execute_result"
    }
   ],
   "source": [
    "lojistikModel"
   ]
  },
  {
   "cell_type": "markdown",
   "metadata": {},
   "source": [
    "Lojistik regresyon modelini kurduk ve eğitim verilerini parametre olarak girerek modeli eğittik."
   ]
  },
  {
   "cell_type": "markdown",
   "metadata": {},
   "source": [
    "### Lojistik Regresyon Modeli Tahminleri ve Başarı Metrikleri"
   ]
  },
  {
   "cell_type": "markdown",
   "metadata": {},
   "source": [
    "Tahmin için kurduğumuz modelin \"predict()\" fonksiyonuna daha önce hiç görmediği \"X_test\" değişkenini parametre vererek modelden tahminlerde bulunmasını isteyeceğiz."
   ]
  },
  {
   "cell_type": "code",
   "execution_count": 14,
   "metadata": {},
   "outputs": [],
   "source": [
    "y_pred = lojistikModel.predict(X_test)"
   ]
  },
  {
   "cell_type": "markdown",
   "metadata": {},
   "source": [
    "Tahmin değerlerini \"y_pred\" değişkenine atadık. Gerçek test sonuçlarımız ise \"y_test\" değişkeninde barınıyor. Böylelikle tahmin değerleri ile gerçek değerlerin arasındaki başarıyı gözlemleyebileceğimiz karmaşıklık matrisini çizdirebiliriz."
   ]
  },
  {
   "cell_type": "code",
   "execution_count": 15,
   "metadata": {},
   "outputs": [
    {
     "name": "stdout",
     "output_type": "stream",
     "text": [
      "[[10  2]\n",
      " [ 9  3]]\n"
     ]
    }
   ],
   "source": [
    "karmasiklik_matrisi = confusion_matrix(y_test, y_pred)\n",
    "print(karmasiklik_matrisi)"
   ]
  },
  {
   "cell_type": "markdown",
   "metadata": {},
   "source": [
    "Karmaşıklık matrisi ile modelin doğru ve yanlış tahminlerini mukayese edebiliriz. Sol üst kısım ve sağ alt kısım doğru tahmin sayılarını temsil eder. Diğer köşegen kısımlar yanlış tahmin sayılarıdır. Aşağıda yapılan işlemler sonucu modelin karmaşıklık matrisi üzerinden hesapladığımız başarı skoru yüzdelik ölçekte görüntülenmektedir."
   ]
  },
  {
   "cell_type": "code",
   "execution_count": 16,
   "metadata": {},
   "outputs": [
    {
     "data": {
      "text/plain": [
       "54.166666666666664"
      ]
     },
     "execution_count": 16,
     "metadata": {},
     "output_type": "execute_result"
    }
   ],
   "source": [
    "ConfusionMatrixScore = (karmasiklik_matrisi[0][0] + karmasiklik_matrisi[1][1]) / (karmasiklik_matrisi[0][0] + karmasiklik_matrisi[1][1] + karmasiklik_matrisi[1][0] + karmasiklik_matrisi[0][1])\n",
    "ConfusionMatrixScore  = ConfusionMatrixScore*100\n",
    "ConfusionMatrixScore"
   ]
  },
  {
   "cell_type": "markdown",
   "metadata": {},
   "source": [
    "Hazır fonksiyon olan \"accuracy_score()\" ile aynı çıktıyı alırsak skorun sağlamasını yapmış olacağız."
   ]
  },
  {
   "cell_type": "code",
   "execution_count": 17,
   "metadata": {},
   "outputs": [
    {
     "data": {
      "text/plain": [
       "0.5416666666666666"
      ]
     },
     "execution_count": 17,
     "metadata": {},
     "output_type": "execute_result"
    }
   ],
   "source": [
    "accuracy_score(y_test, y_pred)"
   ]
  },
  {
   "cell_type": "markdown",
   "metadata": {},
   "source": [
    "Öte yandan sınıflandırma raporu olarak da bilinen \"classification_report()\" fonksiyonu bize model hakkında pek çok ayrıntılı bilgiyi detaylı olarak sunar. Modelin başarı durumunu özetleyen, doğruluk, duyarlılık, destek, ağırlıklı ortalama, F istatistikleri gibi pek çok başarı metriğine sınıflandırma raporunu kullanarak erişebiliriz."
   ]
  },
  {
   "cell_type": "code",
   "execution_count": 18,
   "metadata": {},
   "outputs": [
    {
     "name": "stdout",
     "output_type": "stream",
     "text": [
      "              precision    recall  f1-score   support\n",
      "\n",
      "           0       0.53      0.83      0.65        12\n",
      "           1       0.60      0.25      0.35        12\n",
      "\n",
      "    accuracy                           0.54        24\n",
      "   macro avg       0.56      0.54      0.50        24\n",
      "weighted avg       0.56      0.54      0.50        24\n",
      "\n"
     ]
    }
   ],
   "source": [
    "print(classification_report(y_test, y_pred))"
   ]
  },
  {
   "cell_type": "markdown",
   "metadata": {},
   "source": [
    "Sınıflandırma algoritmalarında kullanılan pek çok başarı metriği bazı durumlarda yanıltıcı olabilmektedir. Bu gibi durumlar için ROC - AUC grafiği çizdirilir ve ROC eğrisinin(mavi çizgi) altında kalan alanın büyüklüğü modelin doğruluğu hakkında bize fikir verir. Kırmızı kesikli çizgi ise modelin başarısının %50 olduğu durumu temsil eder. "
   ]
  },
  {
   "cell_type": "code",
   "execution_count": 19,
   "metadata": {},
   "outputs": [
    {
     "data": {
      "image/png": "[encoded data removed]",
      "text/plain": [
       "<Figure size 720x504 with 1 Axes>"
      ]
     },
     "metadata": {
      "needs_background": "light"
     },
     "output_type": "display_data"
    }
   ],
   "source": [
    "logit_roc_auc = roc_auc_score(y_test, lojistikModel.predict(X_test))\n",
    "\n",
    "fpr, tpr, thresholds = roc_curve(y_test, lojistikModel.predict_proba(X_test)[:,1])\n",
    "plt.figure(figsize=(10,7)) \n",
    "plt.plot(fpr, tpr, label='AUC (area = %0.2f)' % logit_roc_auc)\n",
    "plt.plot([0, 1], [0, 1],'r--')\n",
    "plt.xlim([0.0, 1.0])\n",
    "plt.ylim([0.0, 1.05])\n",
    "plt.xlabel('False Positive Oranı')\n",
    "plt.ylabel('True Positive Oranı')\n",
    "plt.title('ROC')\n",
    "plt.show()"
   ]
  },
  {
   "cell_type": "markdown",
   "metadata": {},
   "source": [
    "Burada önemli olan AUC(area under curve) dediğimiz, çizginin altında kalan alanın büyüklüğüdür. Söz konusu alan 1'e ne kadar yakınsa model o kadar başarılı sayılır. AUC değerini hesaplayıp diğer başarı metrikleri gibi bunu da yüzdelik biçime çevirerek yazdıralım."
   ]
  },
  {
   "cell_type": "code",
   "execution_count": 20,
   "metadata": {},
   "outputs": [
    {
     "data": {
      "text/plain": [
       "52.77777777777778"
      ]
     },
     "execution_count": 20,
     "metadata": {},
     "output_type": "execute_result"
    }
   ],
   "source": [
    "AUC = metrics.auc(fpr, tpr)\n",
    "AUC = AUC * 100\n",
    "AUC"
   ]
  },
  {
   "cell_type": "markdown",
   "metadata": {},
   "source": [
    "Tek bir defa başarı skoruna bakmak, model hakkında karar vermek için çok erken ve yanıltıcıdır. Modeli farklı test ve eğitim olacak şekilde kombinleyerek defalarca skorlamak daha sağlıklı olacaktır."
   ]
  },
  {
   "cell_type": "code",
   "execution_count": 21,
   "metadata": {},
   "outputs": [
    {
     "data": {
      "text/plain": [
       "array([0.66666667, 0.33333333, 0.66666667, 0.33333333, 0.5       ,\n",
       "       1.        , 0.5       , 1.        , 0.        , 1.        ])"
      ]
     },
     "execution_count": 21,
     "metadata": {},
     "output_type": "execute_result"
    }
   ],
   "source": [
    "cross_val_score(lojistikModel, X_test, y_test, cv = 10)"
   ]
  },
  {
   "cell_type": "markdown",
   "metadata": {},
   "source": [
    "Modeli 10 defa skorladık, bunların ortalamasını alarak daha kesin bir sonuç elde edebiliriz."
   ]
  },
  {
   "cell_type": "code",
   "execution_count": 22,
   "metadata": {},
   "outputs": [
    {
     "data": {
      "text/plain": [
       "60.0"
      ]
     },
     "execution_count": 22,
     "metadata": {},
     "output_type": "execute_result"
    }
   ],
   "source": [
    "CrossValScore = cross_val_score(lojistikModel, X_test, y_test, cv = 10).mean()\n",
    "CrossValScore = CrossValScore * 100\n",
    "CrossValScore"
   ]
  },
  {
   "cell_type": "markdown",
   "metadata": {},
   "source": [
    "Modelin kesinlik skorunu hesaplayıp yüzdelik ölçekte yazdıralım."
   ]
  },
  {
   "cell_type": "code",
   "execution_count": 23,
   "metadata": {},
   "outputs": [
    {
     "data": {
      "text/plain": [
       "56.315789473684205"
      ]
     },
     "execution_count": 23,
     "metadata": {},
     "output_type": "execute_result"
    }
   ],
   "source": [
    "PrecisionScore = metrics.precision_score(y_test, y_pred, average='weighted')\n",
    "PrecisionScore = PrecisionScore * 100\n",
    "PrecisionScore"
   ]
  },
  {
   "cell_type": "markdown",
   "metadata": {},
   "source": [
    "Modelin duyarlılık skorunu hesaplayıp yüzdelik ölçekte yazdıralım."
   ]
  },
  {
   "cell_type": "code",
   "execution_count": 24,
   "metadata": {},
   "outputs": [
    {
     "data": {
      "text/plain": [
       "54.166666666666664"
      ]
     },
     "execution_count": 24,
     "metadata": {},
     "output_type": "execute_result"
    }
   ],
   "source": [
    "RecallScore = recall_score(y_test, y_pred, average='weighted')\n",
    "RecallScore = RecallScore * 100\n",
    "RecallScore"
   ]
  },
  {
   "cell_type": "markdown",
   "metadata": {},
   "source": [
    "Modelin F1 skorunu hesaplayıp yüzdelik ölçekte yazdıralım."
   ]
  },
  {
   "cell_type": "code",
   "execution_count": 25,
   "metadata": {},
   "outputs": [
    {
     "data": {
      "text/plain": [
       "49.905123339658445"
      ]
     },
     "execution_count": 25,
     "metadata": {},
     "output_type": "execute_result"
    }
   ],
   "source": [
    "F1Score = f1_score(y_test, y_pred, average='weighted')  \n",
    "F1Score = F1Score * 100\n",
    "F1Score"
   ]
  },
  {
   "cell_type": "markdown",
   "metadata": {},
   "source": [
    "Modelin ROC - AUC skorunu hesaplayıp yüzdelik ölçekte yazdıralım."
   ]
  },
  {
   "cell_type": "code",
   "execution_count": 26,
   "metadata": {},
   "outputs": [
    {
     "data": {
      "text/plain": [
       "54.16666666666667"
      ]
     },
     "execution_count": 26,
     "metadata": {},
     "output_type": "execute_result"
    }
   ],
   "source": [
    "ROC_AUC_Score = roc_auc_score(y_test, y_pred)\n",
    "ROC_AUC_Score = ROC_AUC_Score * 100\n",
    "ROC_AUC_Score"
   ]
  },
  {
   "cell_type": "markdown",
   "metadata": {},
   "source": [
    "Modelin Log Loss skorunu hesaplayıp yazdıralım."
   ]
  },
  {
   "cell_type": "code",
   "execution_count": 27,
   "metadata": {},
   "outputs": [
    {
     "data": {
      "text/plain": [
       "15.830339147453245"
      ]
     },
     "execution_count": 27,
     "metadata": {},
     "output_type": "execute_result"
    }
   ],
   "source": [
    "LogLoss = log_loss(y_test, y_pred)\n",
    "LogLoss"
   ]
  },
  {
   "cell_type": "markdown",
   "metadata": {},
   "source": [
    "Modelin Brier skorunu hesaplayıp yüzdelik ölçekte yazdıralım."
   ]
  },
  {
   "cell_type": "code",
   "execution_count": 28,
   "metadata": {},
   "outputs": [
    {
     "data": {
      "text/plain": [
       "99.54166666666667"
      ]
     },
     "execution_count": 28,
     "metadata": {},
     "output_type": "execute_result"
    }
   ],
   "source": [
    "BrierScore = brier_score_loss(y_test, y_pred)\n",
    "BrierScore = 100 - BrierScore\n",
    "BrierScore"
   ]
  },
  {
   "cell_type": "markdown",
   "metadata": {},
   "source": [
    "Modelin dengeli doğruluk skorunu hesaplayıp yüzdelik ölçekte yazdıralım."
   ]
  },
  {
   "cell_type": "code",
   "execution_count": 29,
   "metadata": {},
   "outputs": [
    {
     "data": {
      "text/plain": [
       "54.16666666666667"
      ]
     },
     "execution_count": 29,
     "metadata": {},
     "output_type": "execute_result"
    }
   ],
   "source": [
    "BalancedAccuracyScore = balanced_accuracy_score(y_test, y_pred)\n",
    "BalancedAccuracyScore = BalancedAccuracyScore * 100\n",
    "BalancedAccuracyScore"
   ]
  },
  {
   "cell_type": "markdown",
   "metadata": {},
   "source": [
    "Modelin Jaccard skorunu hesaplayıp yüzdelik ölçekte yazdıralım."
   ]
  },
  {
   "cell_type": "code",
   "execution_count": 30,
   "metadata": {},
   "outputs": [
    {
     "data": {
      "text/plain": [
       "21.428571428571427"
      ]
     },
     "execution_count": 30,
     "metadata": {},
     "output_type": "execute_result"
    }
   ],
   "source": [
    "JaccardScore = jaccard_score(y_test, y_pred)\n",
    "JaccardScore = JaccardScore * 100\n",
    "JaccardScore"
   ]
  },
  {
   "cell_type": "markdown",
   "metadata": {},
   "source": [
    "Modelin bu makine öğrenmesi modeli için verdiği tüm başarı metriklerini \"sonuc\" veri çerçevemize gözlem olarak ekleyelim."
   ]
  },
  {
   "cell_type": "code",
   "execution_count": 31,
   "metadata": {
    "scrolled": true
   },
   "outputs": [],
   "source": [
    "sonuc = pd.DataFrame([[\"LojistikRegresyon\", ConfusionMatrixScore, CrossValScore, ROC_AUC_Score, AUC, RecallScore, F1Score, PrecisionScore, JaccardScore, BrierScore, BalancedAccuracyScore, LogLoss]], columns= [\"Model\", \"ConfusionMatrixScore\", \"CrossValScore\", \"ROC_AUC_Score\", \"AUC\", \"RecallScore\", \"F1Score\", \"PrecisionScore\", \"JaccardScore\",\"BrierScore\",\"BalancedAccuracyScore\", \"LogLoss\"])\n",
    "sonuclar = sonuclar.append(sonuc)"
   ]
  },
  {
   "cell_type": "markdown",
   "metadata": {},
   "source": [
    "## Gaussian Navie Bayes"
   ]
  },
  {
   "cell_type": "markdown",
   "metadata": {},
   "source": [
    "### Gaussian Navie Bayes Modeli İnşası ve Eğitimi"
   ]
  },
  {
   "cell_type": "markdown",
   "metadata": {},
   "source": [
    "Gaussian Navie Bayes modelini kurar ve eğitiriz."
   ]
  },
  {
   "cell_type": "code",
   "execution_count": 32,
   "metadata": {
    "scrolled": true
   },
   "outputs": [],
   "source": [
    "nb = GaussianNB()"
   ]
  },
  {
   "cell_type": "code",
   "execution_count": 33,
   "metadata": {},
   "outputs": [],
   "source": [
    "nb_model = nb.fit(X_train, y_train)"
   ]
  },
  {
   "cell_type": "markdown",
   "metadata": {},
   "source": [
    "Bu modelde için herhangi bir parametre optimizasyonu yapmıyoruz. Modelin parametreleri sadece iki tane ve radikal bir değişikliğe sebebiyet verecek kadar kritik değiller. Modelin varsayılan parametrelerini görüntüleyelim."
   ]
  },
  {
   "cell_type": "code",
   "execution_count": 34,
   "metadata": {
    "scrolled": true
   },
   "outputs": [
    {
     "data": {
      "text/plain": [
       "GaussianNB(priors=None, var_smoothing=1e-09)"
      ]
     },
     "execution_count": 34,
     "metadata": {},
     "output_type": "execute_result"
    }
   ],
   "source": [
    "nb_model"
   ]
  },
  {
   "cell_type": "markdown",
   "metadata": {},
   "source": [
    "### Gaussian Navie Bayes Modeli Tahminleri ve Başarı Metrikleri"
   ]
  },
  {
   "cell_type": "markdown",
   "metadata": {},
   "source": [
    "Tahmin için kurduğumuz modelin \"predict()\" fonksiyonuna test için ayırdığımız \"X_test\" parametresini vereceğiz. "
   ]
  },
  {
   "cell_type": "code",
   "execution_count": 35,
   "metadata": {},
   "outputs": [],
   "source": [
    "y_pred = nb_model.predict(X_test)"
   ]
  },
  {
   "cell_type": "markdown",
   "metadata": {},
   "source": [
    "Bu sayede tahmin değerleri ile gerçek değerleri gözlemleyebileceğimiz karmaşıklık matrisini çizdirebiliriz. "
   ]
  },
  {
   "cell_type": "code",
   "execution_count": 36,
   "metadata": {},
   "outputs": [
    {
     "name": "stdout",
     "output_type": "stream",
     "text": [
      "[[11  1]\n",
      " [ 7  5]]\n"
     ]
    }
   ],
   "source": [
    "karmasiklik_matrisi = confusion_matrix(y_test, y_pred)\n",
    "print(karmasiklik_matrisi)"
   ]
  },
  {
   "cell_type": "markdown",
   "metadata": {},
   "source": [
    "Karmaşıklık matrisi ile modelin doğru ve yanlış tahminlerini mukayese edebiliriz. Sol üst kısım ve sağ alt kısım doğru tahmin sayıları iken, diğer köşegen yanlış tahmin sayılarıdır. Aşağıda yapılan işlemler sonucu modelin karmaşıklık matris için başarı skoru yüzdelik ölçekte görüntülenmektedir."
   ]
  },
  {
   "cell_type": "code",
   "execution_count": 37,
   "metadata": {},
   "outputs": [
    {
     "data": {
      "text/plain": [
       "66.66666666666666"
      ]
     },
     "execution_count": 37,
     "metadata": {},
     "output_type": "execute_result"
    }
   ],
   "source": [
    "ConfusionMatrixScore = (karmasiklik_matrisi[0][0] + karmasiklik_matrisi[1][1]) / (karmasiklik_matrisi[0][0] + karmasiklik_matrisi[1][1] + karmasiklik_matrisi[1][0] + karmasiklik_matrisi[0][1])\n",
    "ConfusionMatrixScore  = ConfusionMatrixScore*100\n",
    "ConfusionMatrixScore"
   ]
  },
  {
   "cell_type": "markdown",
   "metadata": {},
   "source": [
    "Hazır fonksiyon olan \"accuracy_score()\" ile de aynı çıktıyı alırsak skorun sağlamasını yapmış olacağız."
   ]
  },
  {
   "cell_type": "code",
   "execution_count": 38,
   "metadata": {},
   "outputs": [
    {
     "data": {
      "text/plain": [
       "0.6666666666666666"
      ]
     },
     "execution_count": 38,
     "metadata": {},
     "output_type": "execute_result"
    }
   ],
   "source": [
    "accuracy_score(y_test, y_pred)"
   ]
  },
  {
   "cell_type": "markdown",
   "metadata": {},
   "source": [
    "Öte yandan sınıflandırma raporu olarak da bilinen \"classification_report()\" fonksiyonu bize model hakkında pek çok ayrıntılı bilgiyi detaylı olarak sunar. Modelin başarı durumunu özetleyen, doğruluk, duyarlılık, destek, ağırlıklı ortalama, F istatistikleri gibi pek çok başarı metriğine sınıflandırma raporunu kullanarak erişebiliriz."
   ]
  },
  {
   "cell_type": "code",
   "execution_count": 39,
   "metadata": {
    "scrolled": true
   },
   "outputs": [
    {
     "name": "stdout",
     "output_type": "stream",
     "text": [
      "              precision    recall  f1-score   support\n",
      "\n",
      "           0       0.61      0.92      0.73        12\n",
      "           1       0.83      0.42      0.56        12\n",
      "\n",
      "    accuracy                           0.67        24\n",
      "   macro avg       0.72      0.67      0.64        24\n",
      "weighted avg       0.72      0.67      0.64        24\n",
      "\n"
     ]
    }
   ],
   "source": [
    "print(classification_report(y_test, y_pred))"
   ]
  },
  {
   "cell_type": "markdown",
   "metadata": {},
   "source": [
    "Sınıflandırma algoritmalarında kullanılan pek çok başarı metriği bazı durumlarda yanıltıcı olabilmektedir. Bu gibi durumlar için ROC - AUC grafiği çizdirilir ve ROC eğrisinin(mavi çizgi) altında kalan alanın büyüklüğü modelin doğruluğu hakkında bize fikir verir. Kırmızı kesikli çizgi ise modelin başarısının %50 olduğu durumu temsil eder. "
   ]
  },
  {
   "cell_type": "code",
   "execution_count": 40,
   "metadata": {},
   "outputs": [
    {
     "data": {
      "image/png": "[encoded data removed]",
      "text/plain": [
       "<Figure size 720x504 with 1 Axes>"
      ]
     },
     "metadata": {
      "needs_background": "light"
     },
     "output_type": "display_data"
    }
   ],
   "source": [
    "logit_roc_auc = roc_auc_score(y_test, nb_model.predict(X_test))\n",
    "\n",
    "fpr, tpr, thresholds = roc_curve(y_test, nb_model.predict_proba(X_test)[:,1])\n",
    "plt.figure(figsize=(10,7))\n",
    "plt.plot(fpr, tpr, label='AUC (area = %0.2f)' % logit_roc_auc)\n",
    "plt.plot([0, 1], [0, 1],'r--')\n",
    "plt.xlim([0.0, 1.0])\n",
    "plt.ylim([0.0, 1.05])\n",
    "plt.xlabel('False Positive Oranı')\n",
    "plt.ylabel('True Positive Oranı')\n",
    "plt.title('ROC')\n",
    "plt.show()"
   ]
  },
  {
   "cell_type": "markdown",
   "metadata": {},
   "source": [
    "Burada önemli olan AUC(area under curve) dediğimiz, çizginin altında kalan alanın büyüklüğüdür. Söz konusu alan 1'e ne kadar yakınsa model o kadar başarılı sayılır."
   ]
  },
  {
   "cell_type": "code",
   "execution_count": 41,
   "metadata": {},
   "outputs": [
    {
     "data": {
      "text/plain": [
       "69.44444444444446"
      ]
     },
     "execution_count": 41,
     "metadata": {},
     "output_type": "execute_result"
    }
   ],
   "source": [
    "AUC = metrics.auc(fpr, tpr)\n",
    "AUC = AUC * 100\n",
    "AUC"
   ]
  },
  {
   "cell_type": "markdown",
   "metadata": {},
   "source": [
    "Tek bir defa başarı skoruna bakmak, model hakkında karar vermek için çok erken ve yanıltıcıdır. Modeli defalarca farklı test ve eğitim olacak şekilde kombinleyerek skorlamak daha sağlıklı olacaktır."
   ]
  },
  {
   "cell_type": "code",
   "execution_count": 42,
   "metadata": {},
   "outputs": [
    {
     "data": {
      "text/plain": [
       "array([0.33333333, 0.33333333, 1.        , 0.33333333, 0.5       ,\n",
       "       1.        , 0.        , 0.5       , 0.5       , 0.5       ])"
      ]
     },
     "execution_count": 42,
     "metadata": {},
     "output_type": "execute_result"
    }
   ],
   "source": [
    "cross_val_score(nb_model, X_test, y_test, cv = 10)"
   ]
  },
  {
   "cell_type": "markdown",
   "metadata": {},
   "source": [
    "Modeli 10 defa skorladık, bunların ortalamasını alarak daha kesin bir sonuç elde edebiliriz."
   ]
  },
  {
   "cell_type": "code",
   "execution_count": 43,
   "metadata": {},
   "outputs": [
    {
     "data": {
      "text/plain": [
       "50.0"
      ]
     },
     "execution_count": 43,
     "metadata": {},
     "output_type": "execute_result"
    }
   ],
   "source": [
    "CrossValScore = cross_val_score(nb_model, X_test, y_test, cv = 10).mean()\n",
    "CrossValScore = CrossValScore * 100\n",
    "CrossValScore"
   ]
  },
  {
   "cell_type": "markdown",
   "metadata": {},
   "source": [
    "Modelin kesinlik skorunu hesaplayıp yüzdelik ölçekte yazdıralım."
   ]
  },
  {
   "cell_type": "code",
   "execution_count": 44,
   "metadata": {},
   "outputs": [
    {
     "data": {
      "text/plain": [
       "72.22222222222223"
      ]
     },
     "execution_count": 44,
     "metadata": {},
     "output_type": "execute_result"
    }
   ],
   "source": [
    "PrecisionScore = metrics.precision_score(y_test, y_pred, average='weighted')\n",
    "PrecisionScore = PrecisionScore * 100\n",
    "PrecisionScore"
   ]
  },
  {
   "cell_type": "markdown",
   "metadata": {},
   "source": [
    "Modelin duyarlılık skorunu hesaplayıp yüzdelik ölçekte yazdıralım."
   ]
  },
  {
   "cell_type": "code",
   "execution_count": 45,
   "metadata": {},
   "outputs": [
    {
     "data": {
      "text/plain": [
       "66.66666666666666"
      ]
     },
     "execution_count": 45,
     "metadata": {},
     "output_type": "execute_result"
    }
   ],
   "source": [
    "RecallScore = recall_score(y_test, y_pred, average='weighted')\n",
    "RecallScore = RecallScore * 100\n",
    "RecallScore"
   ]
  },
  {
   "cell_type": "markdown",
   "metadata": {},
   "source": [
    "Modelin F1 skorunu hesaplayıp yüzdelik ölçekte yazdıralım."
   ]
  },
  {
   "cell_type": "code",
   "execution_count": 46,
   "metadata": {},
   "outputs": [
    {
     "data": {
      "text/plain": [
       "64.44444444444444"
      ]
     },
     "execution_count": 46,
     "metadata": {},
     "output_type": "execute_result"
    }
   ],
   "source": [
    "F1Score = f1_score(y_test, y_pred, average = 'weighted')  \n",
    "F1Score = F1Score * 100\n",
    "F1Score"
   ]
  },
  {
   "cell_type": "markdown",
   "metadata": {},
   "source": [
    "Modelin ROC - AUC skorunu hesaplayıp yüzdelik ölçekte yazdıralım."
   ]
  },
  {
   "cell_type": "code",
   "execution_count": 47,
   "metadata": {},
   "outputs": [
    {
     "data": {
      "text/plain": [
       "66.66666666666667"
      ]
     },
     "execution_count": 47,
     "metadata": {},
     "output_type": "execute_result"
    }
   ],
   "source": [
    "ROC_AUC_Score = roc_auc_score(y_test, y_pred)\n",
    "ROC_AUC_Score = ROC_AUC_Score * 100\n",
    "ROC_AUC_Score"
   ]
  },
  {
   "cell_type": "markdown",
   "metadata": {},
   "source": [
    "Modelin Log Loss skorunu hesaplayıp yazdıralım."
   ]
  },
  {
   "cell_type": "code",
   "execution_count": 48,
   "metadata": {},
   "outputs": [
    {
     "data": {
      "text/plain": [
       "11.512958781529818"
      ]
     },
     "execution_count": 48,
     "metadata": {},
     "output_type": "execute_result"
    }
   ],
   "source": [
    "LogLoss = log_loss(y_test, y_pred)\n",
    "LogLoss"
   ]
  },
  {
   "cell_type": "markdown",
   "metadata": {},
   "source": [
    "Modelin Brier skorunu hesaplayıp yüzdelik ölçekte yazdıralım."
   ]
  },
  {
   "cell_type": "code",
   "execution_count": 49,
   "metadata": {},
   "outputs": [
    {
     "data": {
      "text/plain": [
       "99.66666666666667"
      ]
     },
     "execution_count": 49,
     "metadata": {},
     "output_type": "execute_result"
    }
   ],
   "source": [
    "BrierScore = brier_score_loss(y_test, y_pred)\n",
    "BrierScore = 100 - BrierScore\n",
    "BrierScore"
   ]
  },
  {
   "cell_type": "markdown",
   "metadata": {},
   "source": [
    "Modelin dengeli doğruluk skorunu hesaplayıp yüzdelik ölçekte yazdıralım."
   ]
  },
  {
   "cell_type": "code",
   "execution_count": 50,
   "metadata": {},
   "outputs": [
    {
     "data": {
      "text/plain": [
       "66.66666666666666"
      ]
     },
     "execution_count": 50,
     "metadata": {},
     "output_type": "execute_result"
    }
   ],
   "source": [
    "BalancedAccuracyScore = balanced_accuracy_score(y_test, y_pred)\n",
    "BalancedAccuracyScore = BalancedAccuracyScore * 100\n",
    "BalancedAccuracyScore"
   ]
  },
  {
   "cell_type": "markdown",
   "metadata": {},
   "source": [
    "Modelin Jaccard skorunu hesaplayıp yüzdelik ölçekte yazdıralım."
   ]
  },
  {
   "cell_type": "code",
   "execution_count": 51,
   "metadata": {},
   "outputs": [
    {
     "data": {
      "text/plain": [
       "38.46153846153847"
      ]
     },
     "execution_count": 51,
     "metadata": {},
     "output_type": "execute_result"
    }
   ],
   "source": [
    "JaccardScore = jaccard_score(y_test, y_pred)\n",
    "JaccardScore = JaccardScore * 100\n",
    "JaccardScore"
   ]
  },
  {
   "cell_type": "markdown",
   "metadata": {},
   "source": [
    "Modelin bu makine öğrenmesi modeli için verdiği tüm başarı metriklerini \"sonuc\" veri çerçevemize gözlem olarak ekleyelim."
   ]
  },
  {
   "cell_type": "code",
   "execution_count": 52,
   "metadata": {},
   "outputs": [],
   "source": [
    "sonuc = pd.DataFrame([[\"GaussianNB\", ConfusionMatrixScore, CrossValScore, ROC_AUC_Score, AUC, RecallScore, F1Score, PrecisionScore, JaccardScore, BrierScore, BalancedAccuracyScore, LogLoss]], columns= [\"Model\", \"ConfusionMatrixScore\", \"CrossValScore\", \"ROC_AUC_Score\", \"AUC\", \"RecallScore\", \"F1Score\", \"PrecisionScore\", \"JaccardScore\", \"BrierScore\", \"BalancedAccuracyScore\", \"LogLoss\"])\n",
    "sonuclar = sonuclar.append(sonuc)"
   ]
  },
  {
   "cell_type": "markdown",
   "metadata": {},
   "source": [
    "## K - Nearest Neighbors"
   ]
  },
  {
   "cell_type": "markdown",
   "metadata": {},
   "source": [
    "### KNN Modeli İnşası ve Eğitimi"
   ]
  },
  {
   "cell_type": "markdown",
   "metadata": {},
   "source": [
    "KNN modelinde \"n_neighbors\" denilen \"komşu sayısı\" parametresini optimize ederek en yüksek skoru hedefleyeceğiz."
   ]
  },
  {
   "cell_type": "code",
   "execution_count": 53,
   "metadata": {},
   "outputs": [],
   "source": [
    "knn = KNeighborsClassifier()"
   ]
  },
  {
   "cell_type": "code",
   "execution_count": 54,
   "metadata": {},
   "outputs": [
    {
     "data": {
      "text/plain": [
       "KNeighborsClassifier(algorithm='auto', leaf_size=30, metric='minkowski',\n",
       "                     metric_params=None, n_jobs=None, n_neighbors=5, p=2,\n",
       "                     weights='uniform')"
      ]
     },
     "execution_count": 54,
     "metadata": {},
     "output_type": "execute_result"
    }
   ],
   "source": [
    "knn"
   ]
  },
  {
   "cell_type": "markdown",
   "metadata": {},
   "source": [
    "KNN tanımı gereği en yakın komşulardan yola çıkarak tahmin yapan bir algoritmadır ve en yakın komşu sayısı algoritmanın başarısı için oldukça kritiktir. Görüldüğü üzere \"n_neighbors\" parametresi varsayılan olarak 5 girilmiştir. Fakat 5 en elverişli komşu sayısı olmayabilir. \"GridSearchCV\" fonksiyonu ile belirlediğimiz aralıkta komşu sayıları için modeli tekrar tekrar çalıştırıp en uygun komşu sayısı ile modeli eğiteceğiz."
   ]
  },
  {
   "cell_type": "code",
   "execution_count": 55,
   "metadata": {},
   "outputs": [],
   "source": [
    "knn_params = {\"n_neighbors\": np.arange(1,20)}"
   ]
  },
  {
   "cell_type": "code",
   "execution_count": 56,
   "metadata": {},
   "outputs": [],
   "source": [
    "knn_cv = GridSearchCV(knn, knn_params, cv = 10)"
   ]
  },
  {
   "cell_type": "code",
   "execution_count": 57,
   "metadata": {},
   "outputs": [
    {
     "data": {
      "text/plain": [
       "GridSearchCV(cv=10, error_score=nan,\n",
       "             estimator=KNeighborsClassifier(algorithm='auto', leaf_size=30,\n",
       "                                            metric='minkowski',\n",
       "                                            metric_params=None, n_jobs=None,\n",
       "                                            n_neighbors=5, p=2,\n",
       "                                            weights='uniform'),\n",
       "             iid='deprecated', n_jobs=None,\n",
       "             param_grid={'n_neighbors': array([ 1,  2,  3,  4,  5,  6,  7,  8,  9, 10, 11, 12, 13, 14, 15, 16, 17,\n",
       "       18, 19])},\n",
       "             pre_dispatch='2*n_jobs', refit=True, return_train_score=False,\n",
       "             scoring=None, verbose=0)"
      ]
     },
     "execution_count": 57,
     "metadata": {},
     "output_type": "execute_result"
    }
   ],
   "source": [
    "knn_cv.fit(X_train, y_train)"
   ]
  },
  {
   "cell_type": "markdown",
   "metadata": {},
   "source": [
    "Modelin sahip olabileceği en iyi skoru ve en iyi komşu sayısını görüntüleyelim."
   ]
  },
  {
   "cell_type": "code",
   "execution_count": 58,
   "metadata": {},
   "outputs": [
    {
     "name": "stdout",
     "output_type": "stream",
     "text": [
      "En iyi skor : 0.6261904761904761\n",
      "En iyi komşu sayısı : {'n_neighbors': 14}\n"
     ]
    }
   ],
   "source": [
    "print(\"En iyi skor : \" + str(knn_cv.best_score_))\n",
    "print(\"En iyi komşu sayısı : \" + str(knn_cv.best_params_))"
   ]
  },
  {
   "cell_type": "markdown",
   "metadata": {},
   "source": [
    "Modeli en iyi komşu sayısı ile kurup eğitelim."
   ]
  },
  {
   "cell_type": "code",
   "execution_count": 59,
   "metadata": {},
   "outputs": [],
   "source": [
    "knn = KNeighborsClassifier(n_neighbors = knn_cv.best_params_[\"n_neighbors\"])\n",
    "knn_tuned = knn.fit(X_train, y_train)"
   ]
  },
  {
   "cell_type": "markdown",
   "metadata": {},
   "source": [
    "### KNN Modeli Tahminleri ve Başarı Metrikleri"
   ]
  },
  {
   "cell_type": "markdown",
   "metadata": {},
   "source": [
    "Tahmin için kurduğumuz modelin \"predict()\" fonksiyonuna test için ayırdığımız \"X_test\" parametresini vereceğiz. "
   ]
  },
  {
   "cell_type": "code",
   "execution_count": 60,
   "metadata": {},
   "outputs": [],
   "source": [
    "y_pred = knn_tuned.predict(X_test)"
   ]
  },
  {
   "cell_type": "markdown",
   "metadata": {},
   "source": [
    "Bu sayede tahmin değerleri ile gerçek değerleri gözlemleyebileceğimiz karmaşıklık matrisini çizdirebiliriz. "
   ]
  },
  {
   "cell_type": "code",
   "execution_count": 61,
   "metadata": {},
   "outputs": [
    {
     "name": "stdout",
     "output_type": "stream",
     "text": [
      "[[12  0]\n",
      " [11  1]]\n"
     ]
    }
   ],
   "source": [
    "karmasiklik_matrisi = confusion_matrix(y_test, y_pred)\n",
    "print(karmasiklik_matrisi)"
   ]
  },
  {
   "cell_type": "markdown",
   "metadata": {},
   "source": [
    "Karmaşıklık matrisi ile modelin doğru ve yanlış tahminlerini mukayese edebiliriz. Sol üst kısım ve sağ alt kısım doğru tahmin sayıları iken, diğer köşegen yanlış tahmin sayılarıdır. Aşağıda yapılan işlemler sonucu modelin karmaşıklık matris için başarı skoru yüzdelik ölçekte görüntülenmektedir."
   ]
  },
  {
   "cell_type": "code",
   "execution_count": 62,
   "metadata": {},
   "outputs": [
    {
     "data": {
      "text/plain": [
       "54.166666666666664"
      ]
     },
     "execution_count": 62,
     "metadata": {},
     "output_type": "execute_result"
    }
   ],
   "source": [
    "ConfusionMatrixScore = (karmasiklik_matrisi[0][0] + karmasiklik_matrisi[1][1]) / (karmasiklik_matrisi[0][0] + karmasiklik_matrisi[1][1] + karmasiklik_matrisi[1][0] + karmasiklik_matrisi[0][1])\n",
    "ConfusionMatrixScore  = ConfusionMatrixScore*100\n",
    "ConfusionMatrixScore"
   ]
  },
  {
   "cell_type": "markdown",
   "metadata": {},
   "source": [
    "Hazır fonksiyon olan \"accuracy_score()\" ile de aynı çıktıyı alırsak skorun sağlamasını yapmış olacağız."
   ]
  },
  {
   "cell_type": "code",
   "execution_count": 63,
   "metadata": {},
   "outputs": [
    {
     "data": {
      "text/plain": [
       "0.5416666666666666"
      ]
     },
     "execution_count": 63,
     "metadata": {},
     "output_type": "execute_result"
    }
   ],
   "source": [
    "accuracy_score(y_test, y_pred)"
   ]
  },
  {
   "cell_type": "markdown",
   "metadata": {},
   "source": [
    "Öte yandan sınıflandırma raporu olarak da bilinen \"classification_report()\" fonksiyonu bize model hakkında pek çok ayrıntılı bilgiyi detaylı olarak sunar. Modelin başarı durumunu özetleyen, doğruluk, duyarlılık, destek, ağırlıklı ortalama, F istatistikleri gibi pek çok başarı metriğine sınıflandırma raporunu kullanarak erişebiliriz."
   ]
  },
  {
   "cell_type": "code",
   "execution_count": 64,
   "metadata": {},
   "outputs": [
    {
     "name": "stdout",
     "output_type": "stream",
     "text": [
      "              precision    recall  f1-score   support\n",
      "\n",
      "           0       0.52      1.00      0.69        12\n",
      "           1       1.00      0.08      0.15        12\n",
      "\n",
      "    accuracy                           0.54        24\n",
      "   macro avg       0.76      0.54      0.42        24\n",
      "weighted avg       0.76      0.54      0.42        24\n",
      "\n"
     ]
    }
   ],
   "source": [
    "print(classification_report(y_test, y_pred))"
   ]
  },
  {
   "cell_type": "markdown",
   "metadata": {},
   "source": [
    "Sınıflandırma algoritmalarında kullanılan pek çok başarı metriği bazı durumlarda yanıltıcı olabilmektedir. Bu gibi durumlar için ROC - AUC grafiği çizdirilir ve ROC eğrisinin(mavi çizgi) altında kalan alanın büyüklüğü modelin doğruluğu hakkında bize fikir verir. Kırmızı kesikli çizgi ise modelin başarısının %50 olduğu durumu temsil eder. "
   ]
  },
  {
   "cell_type": "code",
   "execution_count": 65,
   "metadata": {},
   "outputs": [
    {
     "data": {
      "image/png": "[encoded data removed]",
      "text/plain": [
       "<Figure size 720x504 with 1 Axes>"
      ]
     },
     "metadata": {
      "needs_background": "light"
     },
     "output_type": "display_data"
    }
   ],
   "source": [
    "logit_roc_auc = roc_auc_score(y_test, knn_tuned.predict(X_test))\n",
    "\n",
    "fpr, tpr, thresholds = roc_curve(y_test, knn_tuned.predict_proba(X_test)[:,1])\n",
    "plt.figure(figsize=(10,7))\n",
    "plt.plot(fpr, tpr, label='AUC (area = %0.2f)' % logit_roc_auc)\n",
    "plt.plot([0, 1], [0, 1],'r--')\n",
    "plt.xlim([0.0, 1.0])\n",
    "plt.ylim([0.0, 1.05])\n",
    "plt.xlabel('False Positive Oranı')\n",
    "plt.ylabel('True Positive Oranı')\n",
    "plt.title('ROC')\n",
    "plt.show()"
   ]
  },
  {
   "cell_type": "markdown",
   "metadata": {},
   "source": [
    "Burada önemli olan AUC(area under curve) dediğimiz, çizginin altında kalan alanın büyüklüğüdür. Söz konusu alan 1'e ne kadar yakınsa model o kadar başarılı sayılır."
   ]
  },
  {
   "cell_type": "code",
   "execution_count": 66,
   "metadata": {},
   "outputs": [
    {
     "data": {
      "text/plain": [
       "72.56944444444446"
      ]
     },
     "execution_count": 66,
     "metadata": {},
     "output_type": "execute_result"
    }
   ],
   "source": [
    "AUC = metrics.auc(fpr, tpr)\n",
    "AUC = AUC * 100\n",
    "AUC"
   ]
  },
  {
   "cell_type": "markdown",
   "metadata": {},
   "source": [
    "Tek bir defa başarı skoruna bakmak, model hakkında karar vermek için çok erken ve yanıltıcıdır. Modeli defalarca farklı test ve eğitim olacak şekilde kombinleyerek skorlamak daha sağlıklı olacaktır."
   ]
  },
  {
   "cell_type": "code",
   "execution_count": 67,
   "metadata": {},
   "outputs": [
    {
     "data": {
      "text/plain": [
       "array([0.66666667, 0.66666667, 0.66666667, 0.33333333, 0.5       ,\n",
       "       0.5       , 0.5       , 0.5       , 0.        , 1.        ])"
      ]
     },
     "execution_count": 67,
     "metadata": {},
     "output_type": "execute_result"
    }
   ],
   "source": [
    "cross_val_score(knn_tuned, X_test, y_test, cv = 10)"
   ]
  },
  {
   "cell_type": "markdown",
   "metadata": {},
   "source": [
    "Modeli 10 defa skorladık, bunların ortalamasını alarak daha kesin bir sonuç elde edebiliriz."
   ]
  },
  {
   "cell_type": "code",
   "execution_count": 68,
   "metadata": {},
   "outputs": [
    {
     "data": {
      "text/plain": [
       "53.333333333333336"
      ]
     },
     "execution_count": 68,
     "metadata": {},
     "output_type": "execute_result"
    }
   ],
   "source": [
    "CrossValScore = cross_val_score(knn_tuned, X_test, y_test, cv = 10).mean()\n",
    "CrossValScore = CrossValScore * 100\n",
    "CrossValScore"
   ]
  },
  {
   "cell_type": "markdown",
   "metadata": {},
   "source": [
    "Modelin kesinlik skorunu hesaplayıp yüzdelik ölçekte yazdıralım."
   ]
  },
  {
   "cell_type": "code",
   "execution_count": 69,
   "metadata": {},
   "outputs": [
    {
     "data": {
      "text/plain": [
       "76.08695652173913"
      ]
     },
     "execution_count": 69,
     "metadata": {},
     "output_type": "execute_result"
    }
   ],
   "source": [
    "PrecisionScore = metrics.precision_score(y_test, y_pred, average = 'weighted')\n",
    "PrecisionScore = PrecisionScore * 100\n",
    "PrecisionScore"
   ]
  },
  {
   "cell_type": "markdown",
   "metadata": {},
   "source": [
    "Modelin duyarlılık skorunu hesaplayıp yüzdelik ölçekte yazdıralım."
   ]
  },
  {
   "cell_type": "code",
   "execution_count": 70,
   "metadata": {},
   "outputs": [
    {
     "data": {
      "text/plain": [
       "54.166666666666664"
      ]
     },
     "execution_count": 70,
     "metadata": {},
     "output_type": "execute_result"
    }
   ],
   "source": [
    "RecallScore = recall_score(y_test, y_pred, average='weighted')\n",
    "RecallScore = RecallScore * 100\n",
    "RecallScore"
   ]
  },
  {
   "cell_type": "markdown",
   "metadata": {},
   "source": [
    "Modelin F1 skorunu hesaplayıp yüzdelik ölçekte yazdıralım."
   ]
  },
  {
   "cell_type": "code",
   "execution_count": 71,
   "metadata": {},
   "outputs": [
    {
     "data": {
      "text/plain": [
       "41.97802197802198"
      ]
     },
     "execution_count": 71,
     "metadata": {},
     "output_type": "execute_result"
    }
   ],
   "source": [
    "F1Score = f1_score(y_test, y_pred, average='weighted')  \n",
    "F1Score = F1Score * 100\n",
    "F1Score"
   ]
  },
  {
   "cell_type": "markdown",
   "metadata": {},
   "source": [
    "Modelin ROC - AUC skorunu hesaplayıp yüzdelik ölçekte yazdıralım."
   ]
  },
  {
   "cell_type": "code",
   "execution_count": 72,
   "metadata": {},
   "outputs": [
    {
     "data": {
      "text/plain": [
       "54.166666666666664"
      ]
     },
     "execution_count": 72,
     "metadata": {},
     "output_type": "execute_result"
    }
   ],
   "source": [
    "ROC_AUC_Score = roc_auc_score(y_test, y_pred)\n",
    "ROC_AUC_Score = ROC_AUC_Score * 100\n",
    "ROC_AUC_Score"
   ]
  },
  {
   "cell_type": "markdown",
   "metadata": {},
   "source": [
    "Modelin Log Loss skorunu hesaplayıp yazdıralım."
   ]
  },
  {
   "cell_type": "code",
   "execution_count": 73,
   "metadata": {},
   "outputs": [
    {
     "data": {
      "text/plain": [
       "15.830272514334064"
      ]
     },
     "execution_count": 73,
     "metadata": {},
     "output_type": "execute_result"
    }
   ],
   "source": [
    "LogLoss = log_loss(y_test, y_pred)\n",
    "LogLoss"
   ]
  },
  {
   "cell_type": "markdown",
   "metadata": {},
   "source": [
    "Modelin Brier skorunu hesaplayıp yüzdelik ölçekte yazdıralım."
   ]
  },
  {
   "cell_type": "code",
   "execution_count": 74,
   "metadata": {},
   "outputs": [
    {
     "data": {
      "text/plain": [
       "99.54166666666667"
      ]
     },
     "execution_count": 74,
     "metadata": {},
     "output_type": "execute_result"
    }
   ],
   "source": [
    "BrierScore = brier_score_loss(y_test, y_pred)\n",
    "BrierScore = 100 - BrierScore\n",
    "BrierScore"
   ]
  },
  {
   "cell_type": "markdown",
   "metadata": {},
   "source": [
    "Modelin dengeli doğruluk skorunu hesaplayıp yüzdelik ölçekte yazdıralım."
   ]
  },
  {
   "cell_type": "code",
   "execution_count": 75,
   "metadata": {},
   "outputs": [
    {
     "data": {
      "text/plain": [
       "54.166666666666664"
      ]
     },
     "execution_count": 75,
     "metadata": {},
     "output_type": "execute_result"
    }
   ],
   "source": [
    "BalancedAccuracyScore = balanced_accuracy_score(y_test, y_pred)\n",
    "BalancedAccuracyScore = BalancedAccuracyScore * 100\n",
    "BalancedAccuracyScore"
   ]
  },
  {
   "cell_type": "markdown",
   "metadata": {},
   "source": [
    "Modelin Jaccard skorunu hesaplayıp yüzdelik ölçekte yazdıralım."
   ]
  },
  {
   "cell_type": "code",
   "execution_count": 76,
   "metadata": {},
   "outputs": [
    {
     "data": {
      "text/plain": [
       "8.333333333333332"
      ]
     },
     "execution_count": 76,
     "metadata": {},
     "output_type": "execute_result"
    }
   ],
   "source": [
    "JaccardScore = jaccard_score(y_test, y_pred)\n",
    "JaccardScore = JaccardScore * 100\n",
    "JaccardScore"
   ]
  },
  {
   "cell_type": "markdown",
   "metadata": {},
   "source": [
    "Modelin bu makine öğrenmesi modeli için verdiği tüm başarı metriklerini \"sonuc\" veri çerçevemize gözlem olarak ekleyelim."
   ]
  },
  {
   "cell_type": "code",
   "execution_count": 77,
   "metadata": {},
   "outputs": [],
   "source": [
    "sonuc = pd.DataFrame([[\"KNN\", ConfusionMatrixScore, CrossValScore, ROC_AUC_Score, AUC, RecallScore, F1Score, PrecisionScore, JaccardScore, BrierScore, BalancedAccuracyScore, LogLoss]], columns= [\"Model\", \"ConfusionMatrixScore\", \"CrossValScore\", \"ROC_AUC_Score\", \"AUC\", \"RecallScore\", \"F1Score\", \"PrecisionScore\", \"JaccardScore\",\"BrierScore\",\"BalancedAccuracyScore\", \"LogLoss\"])\n",
    "sonuclar = sonuclar.append(sonuc)"
   ]
  },
  {
   "cell_type": "markdown",
   "metadata": {},
   "source": [
    "## Support Vector Classifier"
   ]
  },
  {
   "cell_type": "markdown",
   "metadata": {},
   "source": [
    "### Support Vector Classifier Modeli İnşası ve Eğitimi"
   ]
  },
  {
   "cell_type": "markdown",
   "metadata": {},
   "source": [
    "Destek Vektör Sınıflandırıcı algoritması için 4 adet parametre üzerinden optimizasyon yaparak modeli kurar ve eğtiriz."
   ]
  },
  {
   "cell_type": "code",
   "execution_count": 78,
   "metadata": {},
   "outputs": [],
   "source": [
    "svc = SVC()"
   ]
  },
  {
   "cell_type": "code",
   "execution_count": 79,
   "metadata": {},
   "outputs": [
    {
     "data": {
      "text/plain": [
       "SVC(C=1.0, break_ties=False, cache_size=200, class_weight=None, coef0=0.0,\n",
       "    decision_function_shape='ovr', degree=3, gamma='scale', kernel='rbf',\n",
       "    max_iter=-1, probability=False, random_state=None, shrinking=True,\n",
       "    tol=0.001, verbose=False)"
      ]
     },
     "execution_count": 79,
     "metadata": {},
     "output_type": "execute_result"
    }
   ],
   "source": [
    "svc"
   ]
  },
  {
   "cell_type": "markdown",
   "metadata": {},
   "source": [
    "Modelin parametre optimizasyonu için kritik 4 parametreyi belirliyoruz. Bu 4 parametrenin optimal değerlerini bulmak için \"GridSearchCV\" fonksiyonunu çağırıyoruz."
   ]
  },
  {
   "cell_type": "code",
   "execution_count": 80,
   "metadata": {},
   "outputs": [],
   "source": [
    "svc_params = {\"C\" : [0.001, 0.1, 1, 1.5, 2.2,3],\n",
    "             \"degree\" : np.arange(1,3),\n",
    "             \"kernel\" : [\"linear\",\"rbf\"],\n",
    "             \"gamma\" : [0.0001, 0.001, 0.1]}"
   ]
  },
  {
   "cell_type": "code",
   "execution_count": 81,
   "metadata": {},
   "outputs": [],
   "source": [
    "svc_cv_model = GridSearchCV(svc,\n",
    "                            svc_params,\n",
    "                            cv = 10,\n",
    "                            n_jobs = -1,\n",
    "                            verbose = 2 )"
   ]
  },
  {
   "cell_type": "code",
   "execution_count": 82,
   "metadata": {
    "scrolled": true
   },
   "outputs": [
    {
     "name": "stdout",
     "output_type": "stream",
     "text": [
      "Fitting 10 folds for each of 72 candidates, totalling 720 fits\n"
     ]
    },
    {
     "name": "stderr",
     "output_type": "stream",
     "text": [
      "[Parallel(n_jobs=-1)]: Using backend LokyBackend with 12 concurrent workers.\n",
      "[Parallel(n_jobs=-1)]: Done  17 tasks      | elapsed:    2.1s\n",
      "[Parallel(n_jobs=-1)]: Done 138 tasks      | elapsed:    4.0s\n",
      "[Parallel(n_jobs=-1)]: Done 341 tasks      | elapsed:    7.5s\n",
      "[Parallel(n_jobs=-1)]: Done 624 tasks      | elapsed:   12.5s\n",
      "[Parallel(n_jobs=-1)]: Done 720 out of 720 | elapsed:   14.0s finished\n"
     ]
    },
    {
     "data": {
      "text/plain": [
       "GridSearchCV(cv=10, error_score=nan,\n",
       "             estimator=SVC(C=1.0, break_ties=False, cache_size=200,\n",
       "                           class_weight=None, coef0=0.0,\n",
       "                           decision_function_shape='ovr', degree=3,\n",
       "                           gamma='scale', kernel='rbf', max_iter=-1,\n",
       "                           probability=False, random_state=None, shrinking=True,\n",
       "                           tol=0.001, verbose=False),\n",
       "             iid='deprecated', n_jobs=-1,\n",
       "             param_grid={'C': [0.001, 0.1, 1, 1.5, 2.2, 3],\n",
       "                         'degree': array([1, 2]), 'gamma': [0.0001, 0.001, 0.1],\n",
       "                         'kernel': ['linear', 'rbf']},\n",
       "             pre_dispatch='2*n_jobs', refit=True, return_train_score=False,\n",
       "             scoring=None, verbose=2)"
      ]
     },
     "execution_count": 82,
     "metadata": {},
     "output_type": "execute_result"
    }
   ],
   "source": [
    "svc_cv_model.fit(X_train, y_train)"
   ]
  },
  {
   "cell_type": "markdown",
   "metadata": {},
   "source": [
    "Modelin en iyi parametrelerini ve en iyi skorunu görüntüleyelim."
   ]
  },
  {
   "cell_type": "code",
   "execution_count": 83,
   "metadata": {},
   "outputs": [
    {
     "name": "stdout",
     "output_type": "stream",
     "text": [
      "En iyi parametreler: {'C': 0.001, 'degree': 1, 'gamma': 0.0001, 'kernel': 'rbf'}\n",
      "En iyi skor: 0.6095238095238095\n"
     ]
    }
   ],
   "source": [
    "print(\"En iyi parametreler: \" + str(svc_cv_model.best_params_))\n",
    "print(\"En iyi skor: \" + str(svc_cv_model.best_score_))"
   ]
  },
  {
   "cell_type": "code",
   "execution_count": 84,
   "metadata": {},
   "outputs": [],
   "source": [
    "svc_tuned = SVC(kernel = svc_cv_model.best_params_[\"kernel\"],\n",
    "                C = svc_cv_model.best_params_[\"C\"],\n",
    "                degree = svc_cv_model.best_params_[\"degree\"],\n",
    "                gamma = svc_cv_model.best_params_[\"gamma\"]).fit(X_train, y_train)"
   ]
  },
  {
   "cell_type": "markdown",
   "metadata": {},
   "source": [
    "### Support Vector Classifier Modeli Tahminleri ve Başarı Metrikleri"
   ]
  },
  {
   "cell_type": "markdown",
   "metadata": {},
   "source": [
    "Tahmin için kurduğumuz modelin \"predict()\" fonksiyonuna test için ayırdığımız \"X_test\" parametresini vereceğiz. "
   ]
  },
  {
   "cell_type": "code",
   "execution_count": 85,
   "metadata": {},
   "outputs": [],
   "source": [
    "y_pred = svc_tuned.predict(X_test)"
   ]
  },
  {
   "cell_type": "markdown",
   "metadata": {},
   "source": [
    "Bu sayede tahmin değerleri ile gerçek değerleri gözlemleyebileceğimiz karmaşıklık matrisini çizdirebiliriz. "
   ]
  },
  {
   "cell_type": "code",
   "execution_count": 86,
   "metadata": {},
   "outputs": [
    {
     "name": "stdout",
     "output_type": "stream",
     "text": [
      "[[12  0]\n",
      " [12  0]]\n"
     ]
    }
   ],
   "source": [
    "karmasiklik_matrisi = confusion_matrix(y_test, y_pred)\n",
    "print(karmasiklik_matrisi)"
   ]
  },
  {
   "cell_type": "markdown",
   "metadata": {},
   "source": [
    "Karmaşıklık matrisi ile modelin doğru ve yanlış tahminlerini mukayese edebiliriz. Sol üst kısım ve sağ alt kısım doğru tahmin sayıları iken, diğer köşegen yanlış tahmin sayılarıdır. Aşağıda yapılan işlemler sonucu modelin karmaşıklık matris için başarı skoru yüzdelik ölçekte görüntülenmektedir."
   ]
  },
  {
   "cell_type": "code",
   "execution_count": 87,
   "metadata": {},
   "outputs": [
    {
     "data": {
      "text/plain": [
       "50.0"
      ]
     },
     "execution_count": 87,
     "metadata": {},
     "output_type": "execute_result"
    }
   ],
   "source": [
    "ConfusionMatrixScore = (karmasiklik_matrisi[0][0] + karmasiklik_matrisi[1][1]) / (karmasiklik_matrisi[0][0] + karmasiklik_matrisi[1][1] + karmasiklik_matrisi[1][0] + karmasiklik_matrisi[0][1])\n",
    "ConfusionMatrixScore  = ConfusionMatrixScore * 100\n",
    "ConfusionMatrixScore"
   ]
  },
  {
   "cell_type": "markdown",
   "metadata": {},
   "source": [
    "Hazır fonksiyon olan \"accuracy_score()\" ile de aynı çıktıyı alırsak skorun sağlamasını yapmış olacağız."
   ]
  },
  {
   "cell_type": "code",
   "execution_count": 88,
   "metadata": {},
   "outputs": [
    {
     "data": {
      "text/plain": [
       "0.5"
      ]
     },
     "execution_count": 88,
     "metadata": {},
     "output_type": "execute_result"
    }
   ],
   "source": [
    "accuracy_score(y_test, y_pred)"
   ]
  },
  {
   "cell_type": "markdown",
   "metadata": {},
   "source": [
    "Öte yandan sınıflandırma raporu olarak da bilinen \"classification_report()\" fonksiyonu bize model hakkında pek çok ayrıntılı bilgiyi detaylı olarak sunar. Modelin başarı durumunu özetleyen, doğruluk, duyarlılık, destek, ağırlıklı ortalama, F istatistikleri gibi pek çok başarı metriğine sınıflandırma raporunu kullanarak erişebiliriz."
   ]
  },
  {
   "cell_type": "code",
   "execution_count": 89,
   "metadata": {},
   "outputs": [
    {
     "name": "stdout",
     "output_type": "stream",
     "text": [
      "              precision    recall  f1-score   support\n",
      "\n",
      "           0       0.50      1.00      0.67        12\n",
      "           1       0.00      0.00      0.00        12\n",
      "\n",
      "    accuracy                           0.50        24\n",
      "   macro avg       0.25      0.50      0.33        24\n",
      "weighted avg       0.25      0.50      0.33        24\n",
      "\n"
     ]
    }
   ],
   "source": [
    "print(classification_report(y_test, y_pred))"
   ]
  },
  {
   "cell_type": "markdown",
   "metadata": {},
   "source": [
    "AUC(area under curve), çizdirdiğimiz çizginin altında kalan alanın büyüklüğüdür. Söz konusu alan 1'e ne kadar yakınsa model o kadar başarılı sayılır."
   ]
  },
  {
   "cell_type": "code",
   "execution_count": 90,
   "metadata": {},
   "outputs": [
    {
     "data": {
      "text/plain": [
       "72.56944444444446"
      ]
     },
     "execution_count": 90,
     "metadata": {},
     "output_type": "execute_result"
    }
   ],
   "source": [
    "AUC = metrics.auc(fpr, tpr)\n",
    "AUC = AUC * 100\n",
    "AUC"
   ]
  },
  {
   "cell_type": "markdown",
   "metadata": {},
   "source": [
    "Tek bir defa başarı skoruna bakmak, model hakkında karar vermek için çok erken ve yanıltıcıdır. Modeli defalarca farklı test ve eğitim olacak şekilde kombinleyerek skorlamak daha sağlıklı olacaktır."
   ]
  },
  {
   "cell_type": "code",
   "execution_count": 91,
   "metadata": {},
   "outputs": [
    {
     "data": {
      "text/plain": [
       "array([0.33333333, 0.33333333, 0.33333333, 0.33333333, 0.5       ,\n",
       "       0.5       , 0.5       , 0.5       , 0.        , 1.        ])"
      ]
     },
     "execution_count": 91,
     "metadata": {},
     "output_type": "execute_result"
    }
   ],
   "source": [
    "cross_val_score(svc_tuned, X_test, y_test, cv = 10)"
   ]
  },
  {
   "cell_type": "markdown",
   "metadata": {},
   "source": [
    "Modeli 10 defa skorladık, bunların ortalamasını alarak daha kesin bir sonuç elde edebiliriz."
   ]
  },
  {
   "cell_type": "code",
   "execution_count": 92,
   "metadata": {},
   "outputs": [
    {
     "data": {
      "text/plain": [
       "43.33333333333333"
      ]
     },
     "execution_count": 92,
     "metadata": {},
     "output_type": "execute_result"
    }
   ],
   "source": [
    "CrossValScore = cross_val_score(svc_tuned, X_test, y_test, cv = 10).mean()\n",
    "CrossValScore = CrossValScore * 100\n",
    "CrossValScore"
   ]
  },
  {
   "cell_type": "markdown",
   "metadata": {},
   "source": [
    "Modelin kesinlik skorunu hesaplayıp yüzdelik ölçekte yazdıralım."
   ]
  },
  {
   "cell_type": "code",
   "execution_count": 93,
   "metadata": {},
   "outputs": [
    {
     "data": {
      "text/plain": [
       "25.0"
      ]
     },
     "execution_count": 93,
     "metadata": {},
     "output_type": "execute_result"
    }
   ],
   "source": [
    "PrecisionScore = metrics.precision_score(y_test, y_pred, average='weighted')\n",
    "PrecisionScore = PrecisionScore * 100\n",
    "PrecisionScore"
   ]
  },
  {
   "cell_type": "markdown",
   "metadata": {},
   "source": [
    "Modelin duyarlılık skorunu hesaplayıp yüzdelik ölçekte yazdıralım."
   ]
  },
  {
   "cell_type": "code",
   "execution_count": 94,
   "metadata": {},
   "outputs": [
    {
     "data": {
      "text/plain": [
       "50.0"
      ]
     },
     "execution_count": 94,
     "metadata": {},
     "output_type": "execute_result"
    }
   ],
   "source": [
    "RecallScore = recall_score(y_test, y_pred, average='weighted')\n",
    "RecallScore = RecallScore * 100\n",
    "RecallScore"
   ]
  },
  {
   "cell_type": "markdown",
   "metadata": {},
   "source": [
    "Modelin F1 skorunu hesaplayıp yüzdelik ölçekte yazdıralım."
   ]
  },
  {
   "cell_type": "code",
   "execution_count": 95,
   "metadata": {},
   "outputs": [
    {
     "data": {
      "text/plain": [
       "33.33333333333333"
      ]
     },
     "execution_count": 95,
     "metadata": {},
     "output_type": "execute_result"
    }
   ],
   "source": [
    "F1Score = f1_score(y_test, y_pred, average='weighted')  \n",
    "F1Score = F1Score * 100\n",
    "F1Score"
   ]
  },
  {
   "cell_type": "markdown",
   "metadata": {},
   "source": [
    "Modelin ROC - AUC skorunu hesaplayıp yüzdelik ölçekte yazdıralım."
   ]
  },
  {
   "cell_type": "code",
   "execution_count": 96,
   "metadata": {},
   "outputs": [
    {
     "data": {
      "text/plain": [
       "50.0"
      ]
     },
     "execution_count": 96,
     "metadata": {},
     "output_type": "execute_result"
    }
   ],
   "source": [
    "ROC_AUC_Score = roc_auc_score(y_test, y_pred)\n",
    "ROC_AUC_Score = ROC_AUC_Score * 100\n",
    "ROC_AUC_Score"
   ]
  },
  {
   "cell_type": "markdown",
   "metadata": {},
   "source": [
    "Modelin Log Loss skorunu hesaplayıp yazdıralım."
   ]
  },
  {
   "cell_type": "code",
   "execution_count": 97,
   "metadata": {},
   "outputs": [
    {
     "data": {
      "text/plain": [
       "17.269388197455342"
      ]
     },
     "execution_count": 97,
     "metadata": {},
     "output_type": "execute_result"
    }
   ],
   "source": [
    "LogLoss = log_loss(y_test, y_pred)\n",
    "LogLoss"
   ]
  },
  {
   "cell_type": "markdown",
   "metadata": {},
   "source": [
    "Modelin Brier skorunu hesaplayıp yüzdelik ölçekte yazdıralım."
   ]
  },
  {
   "cell_type": "code",
   "execution_count": 98,
   "metadata": {},
   "outputs": [
    {
     "data": {
      "text/plain": [
       "99.5"
      ]
     },
     "execution_count": 98,
     "metadata": {},
     "output_type": "execute_result"
    }
   ],
   "source": [
    "BrierScore = brier_score_loss(y_test, y_pred)\n",
    "BrierScore = 100 - BrierScore\n",
    "BrierScore"
   ]
  },
  {
   "cell_type": "markdown",
   "metadata": {},
   "source": [
    "Modelin dengeli doğruluk skorunu hesaplayıp yüzdelik ölçekte yazdıralım."
   ]
  },
  {
   "cell_type": "code",
   "execution_count": 99,
   "metadata": {},
   "outputs": [
    {
     "data": {
      "text/plain": [
       "50.0"
      ]
     },
     "execution_count": 99,
     "metadata": {},
     "output_type": "execute_result"
    }
   ],
   "source": [
    "BalancedAccuracyScore = balanced_accuracy_score(y_test, y_pred)\n",
    "BalancedAccuracyScore = BalancedAccuracyScore * 100\n",
    "BalancedAccuracyScore"
   ]
  },
  {
   "cell_type": "markdown",
   "metadata": {},
   "source": [
    "Modelin Jaccard skorunu hesaplayıp yüzdelik ölçekte yazdıralım."
   ]
  },
  {
   "cell_type": "code",
   "execution_count": 100,
   "metadata": {},
   "outputs": [
    {
     "data": {
      "text/plain": [
       "0.0"
      ]
     },
     "execution_count": 100,
     "metadata": {},
     "output_type": "execute_result"
    }
   ],
   "source": [
    "JaccardScore = jaccard_score(y_test, y_pred)\n",
    "JaccardScore = JaccardScore * 100\n",
    "JaccardScore"
   ]
  },
  {
   "cell_type": "markdown",
   "metadata": {},
   "source": [
    "Modelin bu makine öğrenmesi modeli için verdiği tüm başarı metriklerini \"sonuc\" veri çerçevemize gözlem olarak ekleyelim."
   ]
  },
  {
   "cell_type": "code",
   "execution_count": 101,
   "metadata": {},
   "outputs": [],
   "source": [
    "sonuc = pd.DataFrame([[\"SupportVectorMachine\", ConfusionMatrixScore, CrossValScore, ROC_AUC_Score, AUC, RecallScore, F1Score, PrecisionScore, JaccardScore, BrierScore, BalancedAccuracyScore, LogLoss]], columns= [\"Model\", \"ConfusionMatrixScore\", \"CrossValScore\", \"ROC_AUC_Score\", \"AUC\", \"RecallScore\", \"F1Score\", \"PrecisionScore\", \"JaccardScore\",\"BrierScore\",\"BalancedAccuracyScore\", \"LogLoss\"])\n",
    "sonuclar = sonuclar.append(sonuc)"
   ]
  },
  {
   "cell_type": "markdown",
   "metadata": {},
   "source": [
    "## CART (Classification and Regression Trees) "
   ]
  },
  {
   "cell_type": "markdown",
   "metadata": {},
   "source": [
    "### CART Modeli İnşası ve Eğitimi"
   ]
  },
  {
   "cell_type": "markdown",
   "metadata": {},
   "source": [
    "\"Sınfılandırma ve Regresyon Ağaçları\" olarak ifade edilen bu makine öğrenmesi modelini iki parametre üzerinden optimize ederek modeli kurup eğiteceğiz."
   ]
  },
  {
   "cell_type": "code",
   "execution_count": 102,
   "metadata": {},
   "outputs": [],
   "source": [
    "cart = tree.DecisionTreeClassifier()"
   ]
  },
  {
   "cell_type": "code",
   "execution_count": 103,
   "metadata": {},
   "outputs": [
    {
     "data": {
      "text/plain": [
       "DecisionTreeClassifier(ccp_alpha=0.0, class_weight=None, criterion='gini',\n",
       "                       max_depth=None, max_features=None, max_leaf_nodes=None,\n",
       "                       min_impurity_decrease=0.0, min_impurity_split=None,\n",
       "                       min_samples_leaf=1, min_samples_split=2,\n",
       "                       min_weight_fraction_leaf=0.0, presort='deprecated',\n",
       "                       random_state=None, splitter='best')"
      ]
     },
     "execution_count": 103,
     "metadata": {},
     "output_type": "execute_result"
    }
   ],
   "source": [
    "cart"
   ]
  },
  {
   "cell_type": "code",
   "execution_count": 104,
   "metadata": {},
   "outputs": [],
   "source": [
    "cart_grid = {\"max_depth\": range(1,10),\n",
    "            \"min_samples_split\":list(range(2,50))}"
   ]
  },
  {
   "cell_type": "code",
   "execution_count": 105,
   "metadata": {
    "scrolled": true
   },
   "outputs": [],
   "source": [
    "cart_cv = GridSearchCV(cart, cart_grid, cv = 10, n_jobs = -1, verbose = 2)"
   ]
  },
  {
   "cell_type": "code",
   "execution_count": 106,
   "metadata": {},
   "outputs": [
    {
     "name": "stdout",
     "output_type": "stream",
     "text": [
      "Fitting 10 folds for each of 432 candidates, totalling 4320 fits\n"
     ]
    },
    {
     "name": "stderr",
     "output_type": "stream",
     "text": [
      "[Parallel(n_jobs=-1)]: Using backend LokyBackend with 12 concurrent workers.\n",
      "[Parallel(n_jobs=-1)]: Done  17 tasks      | elapsed:    0.2s\n",
      "[Parallel(n_jobs=-1)]: Done 252 tasks      | elapsed:    2.5s\n",
      "[Parallel(n_jobs=-1)]: Done 658 tasks      | elapsed:    7.0s\n",
      "[Parallel(n_jobs=-1)]: Done 1224 tasks      | elapsed:   14.6s\n",
      "[Parallel(n_jobs=-1)]: Done 1954 tasks      | elapsed:   24.9s\n",
      "[Parallel(n_jobs=-1)]: Done 2844 tasks      | elapsed:   38.1s\n",
      "[Parallel(n_jobs=-1)]: Done 3898 tasks      | elapsed:   54.2s\n",
      "[Parallel(n_jobs=-1)]: Done 4320 out of 4320 | elapsed:  1.0min finished\n"
     ]
    }
   ],
   "source": [
    "cart_cv_model = cart_cv.fit(X_train, y_train)"
   ]
  },
  {
   "cell_type": "markdown",
   "metadata": {},
   "source": [
    "En iyi parametreleri ve en iyi skoru görüntüleyelim."
   ]
  },
  {
   "cell_type": "code",
   "execution_count": 107,
   "metadata": {},
   "outputs": [
    {
     "name": "stdout",
     "output_type": "stream",
     "text": [
      "En iyi parametreler : {'max_depth': 9, 'min_samples_split': 11}\n",
      "En iyi skor : 0.5119047619047619\n"
     ]
    }
   ],
   "source": [
    "print(\"En iyi parametreler : \"+str(cart_cv_model.best_params_))\n",
    "print(\"En iyi skor : \"+str(cart_cv_model.best_score_))"
   ]
  },
  {
   "cell_type": "code",
   "execution_count": 108,
   "metadata": {},
   "outputs": [],
   "source": [
    "cart = tree.DecisionTreeClassifier(max_depth = cart_cv_model.best_params_[\"max_depth\"], min_samples_split = cart_cv_model.best_params_[\"min_samples_split\"])"
   ]
  },
  {
   "cell_type": "markdown",
   "metadata": {},
   "source": [
    "Modeli en iyi parametreler ile kurup eğitelim."
   ]
  },
  {
   "cell_type": "code",
   "execution_count": 109,
   "metadata": {},
   "outputs": [],
   "source": [
    "cart_tuned = cart.fit(X_train, y_train)"
   ]
  },
  {
   "cell_type": "markdown",
   "metadata": {},
   "source": [
    "### CART Modeli Tahminleri ve Başarı Metrikleri "
   ]
  },
  {
   "cell_type": "markdown",
   "metadata": {},
   "source": [
    "Tahmin için kurduğumuz modelin \"predict()\" fonksiyonuna test için ayırdığımız \"X_test\" parametresini vereceğiz. "
   ]
  },
  {
   "cell_type": "code",
   "execution_count": 110,
   "metadata": {},
   "outputs": [],
   "source": [
    "y_pred = cart_tuned.predict(X_test)"
   ]
  },
  {
   "cell_type": "markdown",
   "metadata": {},
   "source": [
    "Bu sayede tahmin değerleri ile gerçek değerleri gözlemleyebileceğimiz karmaşıklık matrisini çizdirebiliriz. "
   ]
  },
  {
   "cell_type": "code",
   "execution_count": 111,
   "metadata": {},
   "outputs": [
    {
     "name": "stdout",
     "output_type": "stream",
     "text": [
      "[[9 3]\n",
      " [8 4]]\n"
     ]
    }
   ],
   "source": [
    "karmasiklik_matrisi = confusion_matrix(y_test, y_pred)\n",
    "print(karmasiklik_matrisi)"
   ]
  },
  {
   "cell_type": "markdown",
   "metadata": {},
   "source": [
    "Karmaşıklık matrisi ile modelin doğru ve yanlış tahminlerini mukayese edebiliriz. Sol üst kısım ve sağ alt kısım doğru tahmin sayıları iken, diğer köşegen yanlış tahmin sayılarıdır. Aşağıda yapılan işlemler sonucu modelin karmaşıklık matris için başarı skoru yüzdelik ölçekte görüntülenmektedir."
   ]
  },
  {
   "cell_type": "code",
   "execution_count": 112,
   "metadata": {},
   "outputs": [
    {
     "data": {
      "text/plain": [
       "54.166666666666664"
      ]
     },
     "execution_count": 112,
     "metadata": {},
     "output_type": "execute_result"
    }
   ],
   "source": [
    "ConfusionMatrixScore = (karmasiklik_matrisi[0][0] + karmasiklik_matrisi[1][1]) / (karmasiklik_matrisi[0][0] + karmasiklik_matrisi[1][1] + karmasiklik_matrisi[1][0] + karmasiklik_matrisi[0][1])\n",
    "ConfusionMatrixScore  = ConfusionMatrixScore*100\n",
    "ConfusionMatrixScore"
   ]
  },
  {
   "cell_type": "markdown",
   "metadata": {},
   "source": [
    "Hazır fonksiyon olan \"accuracy_score()\" ile de aynı çıktıyı alırsak skorun sağlamasını yapmış olacağız."
   ]
  },
  {
   "cell_type": "code",
   "execution_count": 113,
   "metadata": {},
   "outputs": [
    {
     "data": {
      "text/plain": [
       "0.5416666666666666"
      ]
     },
     "execution_count": 113,
     "metadata": {},
     "output_type": "execute_result"
    }
   ],
   "source": [
    "accuracy_score(y_test, y_pred)"
   ]
  },
  {
   "cell_type": "markdown",
   "metadata": {},
   "source": [
    "Öte yandan sınıflandırma raporu olarak da bilinen \"classification_report()\" fonksiyonu bize model hakkında pek çok ayrıntılı bilgiyi detaylı olarak sunar. Modelin başarı durumunu özetleyen, doğruluk, duyarlılık, destek, ağırlıklı ortalama, F istatistikleri gibi pek çok başarı metriğine sınıflandırma raporunu kullanarak erişebiliriz."
   ]
  },
  {
   "cell_type": "code",
   "execution_count": 114,
   "metadata": {},
   "outputs": [
    {
     "name": "stdout",
     "output_type": "stream",
     "text": [
      "              precision    recall  f1-score   support\n",
      "\n",
      "           0       0.53      0.75      0.62        12\n",
      "           1       0.57      0.33      0.42        12\n",
      "\n",
      "    accuracy                           0.54        24\n",
      "   macro avg       0.55      0.54      0.52        24\n",
      "weighted avg       0.55      0.54      0.52        24\n",
      "\n"
     ]
    }
   ],
   "source": [
    "print(classification_report(y_test, y_pred))"
   ]
  },
  {
   "cell_type": "markdown",
   "metadata": {},
   "source": [
    "Sınıflandırma algoritmalarında kullanılan pek çok başarı metriği bazı durumlarda yanıltıcı olabilmektedir. Bu gibi durumlar için ROC - AUC grafiği çizdirilir ve ROC eğrisinin(mavi çizgi) altında kalan alanın büyüklüğü modelin doğruluğu hakkında bize fikir verir. Kırmızı kesikli çizgi ise modelin başarısının %50 olduğu durumu temsil eder. "
   ]
  },
  {
   "cell_type": "code",
   "execution_count": 115,
   "metadata": {},
   "outputs": [
    {
     "data": {
      "image/png": "[encoded data removed]",
      "text/plain": [
       "<Figure size 720x504 with 1 Axes>"
      ]
     },
     "metadata": {
      "needs_background": "light"
     },
     "output_type": "display_data"
    }
   ],
   "source": [
    "logit_roc_auc = roc_auc_score(y_test, cart_tuned.predict(X_test))\n",
    "\n",
    "fpr, tpr, thresholds = roc_curve(y_test, cart_tuned.predict_proba(X_test)[:,1])\n",
    "plt.figure(figsize=(10,7))\n",
    "plt.plot(fpr, tpr, label='AUC (area = %0.2f)' % logit_roc_auc)\n",
    "plt.plot([0, 1], [0, 1],'r--')\n",
    "plt.xlim([0.0, 1.0])\n",
    "plt.ylim([0.0, 1.05])\n",
    "plt.xlabel('False Positive Oranı')\n",
    "plt.ylabel('True Positive Oranı')\n",
    "plt.title('ROC')\n",
    "plt.show()"
   ]
  },
  {
   "cell_type": "markdown",
   "metadata": {},
   "source": [
    "Burada önemli olan AUC(area under curve), çizdirdiğimiz çizginin altında kalan alanın büyüklüğüdür. Söz konusu alan 1'e ne kadar yakınsa model o kadar başarılı sayılır."
   ]
  },
  {
   "cell_type": "code",
   "execution_count": 116,
   "metadata": {},
   "outputs": [
    {
     "data": {
      "text/plain": [
       "54.166666666666664"
      ]
     },
     "execution_count": 116,
     "metadata": {},
     "output_type": "execute_result"
    }
   ],
   "source": [
    "AUC = metrics.auc(fpr, tpr)\n",
    "AUC = AUC * 100\n",
    "AUC"
   ]
  },
  {
   "cell_type": "markdown",
   "metadata": {},
   "source": [
    "Tek bir defa başarı skoruna bakmak, model hakkında karar vermek için çok erken ve yanıltıcıdır. Modeli defalarca farklı test ve eğitim olacak şekilde kombinleyerek skorlamak daha sağlıklı olacaktır."
   ]
  },
  {
   "cell_type": "code",
   "execution_count": 117,
   "metadata": {},
   "outputs": [
    {
     "data": {
      "text/plain": [
       "array([0.66666667, 0.33333333, 1.        , 0.        , 0.5       ,\n",
       "       0.5       , 0.5       , 0.5       , 0.        , 1.        ])"
      ]
     },
     "execution_count": 117,
     "metadata": {},
     "output_type": "execute_result"
    }
   ],
   "source": [
    "cross_val_score(cart_tuned, X_test, y_test, cv = 10)"
   ]
  },
  {
   "cell_type": "markdown",
   "metadata": {},
   "source": [
    "Modeli 10 defa skorladık, bunların ortalamasını alarak daha kesin bir sonuç elde edebiliriz."
   ]
  },
  {
   "cell_type": "code",
   "execution_count": 118,
   "metadata": {},
   "outputs": [
    {
     "data": {
      "text/plain": [
       "50.0"
      ]
     },
     "execution_count": 118,
     "metadata": {},
     "output_type": "execute_result"
    }
   ],
   "source": [
    "CrossValScore = cross_val_score(cart_tuned, X_test, y_test, cv = 10).mean()\n",
    "CrossValScore = CrossValScore * 100\n",
    "CrossValScore"
   ]
  },
  {
   "cell_type": "markdown",
   "metadata": {},
   "source": [
    "Modelin kesinlik skorunu hesaplayıp yüzdelik ölçekte yazdıralım."
   ]
  },
  {
   "cell_type": "code",
   "execution_count": 119,
   "metadata": {},
   "outputs": [
    {
     "data": {
      "text/plain": [
       "55.042016806722685"
      ]
     },
     "execution_count": 119,
     "metadata": {},
     "output_type": "execute_result"
    }
   ],
   "source": [
    "PrecisionScore = metrics.precision_score(y_test, y_pred, average='weighted')\n",
    "PrecisionScore = PrecisionScore * 100\n",
    "PrecisionScore"
   ]
  },
  {
   "cell_type": "markdown",
   "metadata": {},
   "source": [
    "Modelin duyarlılık skorunu hesaplayıp yüzdelik ölçekte yazdıralım."
   ]
  },
  {
   "cell_type": "code",
   "execution_count": 120,
   "metadata": {},
   "outputs": [
    {
     "data": {
      "text/plain": [
       "54.166666666666664"
      ]
     },
     "execution_count": 120,
     "metadata": {},
     "output_type": "execute_result"
    }
   ],
   "source": [
    "RecallScore = recall_score(y_test, y_pred, average='weighted')\n",
    "RecallScore = RecallScore * 100\n",
    "RecallScore"
   ]
  },
  {
   "cell_type": "markdown",
   "metadata": {},
   "source": [
    "Modelin F1 skorunu hesaplayıp yüzdelik ölçekte yazdıralım."
   ]
  },
  {
   "cell_type": "code",
   "execution_count": 121,
   "metadata": {},
   "outputs": [
    {
     "data": {
      "text/plain": [
       "52.08711433756806"
      ]
     },
     "execution_count": 121,
     "metadata": {},
     "output_type": "execute_result"
    }
   ],
   "source": [
    "F1Score = f1_score(y_test, y_pred, average='weighted')  \n",
    "F1Score = F1Score * 100\n",
    "F1Score"
   ]
  },
  {
   "cell_type": "markdown",
   "metadata": {},
   "source": [
    "Modelin ROC - AUC skorunu hesaplayıp yüzdelik ölçekte yazdıralım."
   ]
  },
  {
   "cell_type": "code",
   "execution_count": 122,
   "metadata": {},
   "outputs": [
    {
     "data": {
      "text/plain": [
       "54.166666666666664"
      ]
     },
     "execution_count": 122,
     "metadata": {},
     "output_type": "execute_result"
    }
   ],
   "source": [
    "ROC_AUC_Score = roc_auc_score(y_test, y_pred)\n",
    "ROC_AUC_Score = ROC_AUC_Score * 100\n",
    "ROC_AUC_Score"
   ]
  },
  {
   "cell_type": "markdown",
   "metadata": {},
   "source": [
    "Modelin Log Loss skorunu hesaplayıp yazdıralım."
   ]
  },
  {
   "cell_type": "code",
   "execution_count": 123,
   "metadata": {},
   "outputs": [
    {
     "data": {
      "text/plain": [
       "15.830372464012838"
      ]
     },
     "execution_count": 123,
     "metadata": {},
     "output_type": "execute_result"
    }
   ],
   "source": [
    "LogLoss = log_loss(y_test, y_pred)\n",
    "LogLoss"
   ]
  },
  {
   "cell_type": "markdown",
   "metadata": {},
   "source": [
    "Modelin Brier skorunu hesaplayıp yüzdelik ölçekte yazdıralım."
   ]
  },
  {
   "cell_type": "code",
   "execution_count": 124,
   "metadata": {},
   "outputs": [
    {
     "data": {
      "text/plain": [
       "99.54166666666667"
      ]
     },
     "execution_count": 124,
     "metadata": {},
     "output_type": "execute_result"
    }
   ],
   "source": [
    "BrierScore = brier_score_loss(y_test, y_pred)\n",
    "BrierScore = 100 - BrierScore\n",
    "BrierScore"
   ]
  },
  {
   "cell_type": "markdown",
   "metadata": {},
   "source": [
    "Modelin dengeli doğruluk skorunu hesaplayıp yüzdelik ölçekte yazdıralım."
   ]
  },
  {
   "cell_type": "code",
   "execution_count": 125,
   "metadata": {},
   "outputs": [
    {
     "data": {
      "text/plain": [
       "54.166666666666664"
      ]
     },
     "execution_count": 125,
     "metadata": {},
     "output_type": "execute_result"
    }
   ],
   "source": [
    "BalancedAccuracyScore = balanced_accuracy_score(y_test, y_pred)\n",
    "BalancedAccuracyScore = BalancedAccuracyScore * 100\n",
    "BalancedAccuracyScore"
   ]
  },
  {
   "cell_type": "markdown",
   "metadata": {},
   "source": [
    "Modelin Jaccard skorunu hesaplayıp yüzdelik ölçekte yazdıralım."
   ]
  },
  {
   "cell_type": "code",
   "execution_count": 126,
   "metadata": {},
   "outputs": [
    {
     "data": {
      "text/plain": [
       "26.666666666666668"
      ]
     },
     "execution_count": 126,
     "metadata": {},
     "output_type": "execute_result"
    }
   ],
   "source": [
    "JaccardScore = jaccard_score(y_test, y_pred)\n",
    "JaccardScore = JaccardScore * 100\n",
    "JaccardScore"
   ]
  },
  {
   "cell_type": "markdown",
   "metadata": {},
   "source": [
    "Modelin bu makine öğrenmesi modeli için verdiği tüm başarı metriklerini \"sonuc\" veri çerçevemize gözlem olarak ekleyelim."
   ]
  },
  {
   "cell_type": "code",
   "execution_count": 127,
   "metadata": {},
   "outputs": [],
   "source": [
    "sonuc = pd.DataFrame([[\"CART\", ConfusionMatrixScore, CrossValScore, ROC_AUC_Score, AUC, RecallScore, F1Score, PrecisionScore, JaccardScore, BrierScore, BalancedAccuracyScore, LogLoss]], columns= [\"Model\", \"ConfusionMatrixScore\", \"CrossValScore\", \"ROC_AUC_Score\", \"AUC\", \"RecallScore\", \"F1Score\", \"PrecisionScore\", \"JaccardScore\",\"BrierScore\",\"BalancedAccuracyScore\", \"LogLoss\"])\n",
    "sonuclar = sonuclar.append(sonuc)"
   ]
  },
  {
   "cell_type": "markdown",
   "metadata": {},
   "source": [
    "## Random Forest"
   ]
  },
  {
   "cell_type": "markdown",
   "metadata": {},
   "source": [
    "### Random Forest Modeli İnşası ve Eğitimi"
   ]
  },
  {
   "cell_type": "markdown",
   "metadata": {},
   "source": [
    "\"Rastgele Ağaçlar\" isimli makine öğrenmesi algoritması için 4 adet kritik parametreyi optimize ederek modeli kurar ve eğitiriz."
   ]
  },
  {
   "cell_type": "code",
   "execution_count": 128,
   "metadata": {},
   "outputs": [],
   "source": [
    "rf_model = RandomForestClassifier()"
   ]
  },
  {
   "cell_type": "code",
   "execution_count": 129,
   "metadata": {},
   "outputs": [],
   "source": [
    "rf_params = {\"max_depth\": [1,2,5],\n",
    "            \"max_features\":[1,2,3,4],\n",
    "            \"n_estimators\":[200,250,300,400],\n",
    "            \"min_samples_split\":[2,3,4]}"
   ]
  },
  {
   "cell_type": "code",
   "execution_count": 130,
   "metadata": {},
   "outputs": [],
   "source": [
    "rf_cv_model = GridSearchCV(rf_model,\n",
    "                          rf_params,\n",
    "                          cv = 10,\n",
    "                          n_jobs = -1,\n",
    "                          verbose = 2)"
   ]
  },
  {
   "cell_type": "code",
   "execution_count": 131,
   "metadata": {
    "scrolled": true
   },
   "outputs": [
    {
     "name": "stdout",
     "output_type": "stream",
     "text": [
      "Fitting 10 folds for each of 144 candidates, totalling 1440 fits\n"
     ]
    },
    {
     "name": "stderr",
     "output_type": "stream",
     "text": [
      "[Parallel(n_jobs=-1)]: Using backend LokyBackend with 12 concurrent workers.\n",
      "[Parallel(n_jobs=-1)]: Done  17 tasks      | elapsed:    1.1s\n",
      "[Parallel(n_jobs=-1)]: Done 138 tasks      | elapsed:    8.1s\n",
      "[Parallel(n_jobs=-1)]: Done 341 tasks      | elapsed:   19.3s\n",
      "[Parallel(n_jobs=-1)]: Done 624 tasks      | elapsed:   34.8s\n",
      "[Parallel(n_jobs=-1)]: Done 989 tasks      | elapsed:   54.5s\n",
      "[Parallel(n_jobs=-1)]: Done 1440 out of 1440 | elapsed:  1.4min finished\n"
     ]
    },
    {
     "data": {
      "text/plain": [
       "GridSearchCV(cv=10, error_score=nan,\n",
       "             estimator=RandomForestClassifier(bootstrap=True, ccp_alpha=0.0,\n",
       "                                              class_weight=None,\n",
       "                                              criterion='gini', max_depth=None,\n",
       "                                              max_features='auto',\n",
       "                                              max_leaf_nodes=None,\n",
       "                                              max_samples=None,\n",
       "                                              min_impurity_decrease=0.0,\n",
       "                                              min_impurity_split=None,\n",
       "                                              min_samples_leaf=1,\n",
       "                                              min_samples_split=2,\n",
       "                                              min_weight_fraction_leaf=0.0,\n",
       "                                              n_estimators=100, n_jobs=None,\n",
       "                                              oob_score=False,\n",
       "                                              random_state=None, verbose=0,\n",
       "                                              warm_start=False),\n",
       "             iid='deprecated', n_jobs=-1,\n",
       "             param_grid={'max_depth': [1, 2, 5], 'max_features': [1, 2, 3, 4],\n",
       "                         'min_samples_split': [2, 3, 4],\n",
       "                         'n_estimators': [200, 250, 300, 400]},\n",
       "             pre_dispatch='2*n_jobs', refit=True, return_train_score=False,\n",
       "             scoring=None, verbose=2)"
      ]
     },
     "execution_count": 131,
     "metadata": {},
     "output_type": "execute_result"
    }
   ],
   "source": [
    "rf_cv_model.fit(X_train, y_train)"
   ]
  },
  {
   "cell_type": "markdown",
   "metadata": {},
   "source": [
    "En iyi parametreleri ve en iyi skoru görüntüleyelim."
   ]
  },
  {
   "cell_type": "code",
   "execution_count": 132,
   "metadata": {},
   "outputs": [
    {
     "name": "stdout",
     "output_type": "stream",
     "text": [
      "En iyi parametreler : {'max_depth': 5, 'max_features': 3, 'min_samples_split': 2, 'n_estimators': 300}\n",
      "En iyi skor : 0.6261904761904761\n"
     ]
    }
   ],
   "source": [
    "print(\"En iyi parametreler : \" + str(rf_cv_model.best_params_))\n",
    "print(\"En iyi skor : \" + str(rf_cv_model.best_score_))"
   ]
  },
  {
   "cell_type": "markdown",
   "metadata": {},
   "source": [
    "Optimum parametreler ile modeli kuralım ve eğitelim."
   ]
  },
  {
   "cell_type": "code",
   "execution_count": 133,
   "metadata": {
    "scrolled": true
   },
   "outputs": [],
   "source": [
    "rf_tuned = RandomForestClassifier(max_depth = rf_cv_model.best_params_[\"max_depth\"],\n",
    "                                 max_features = rf_cv_model.best_params_[\"max_features\"],\n",
    "                                 min_samples_split = rf_cv_model.best_params_[\"min_samples_split\"],\n",
    "                                 n_estimators = rf_cv_model.best_params_[\"n_estimators\"])"
   ]
  },
  {
   "cell_type": "code",
   "execution_count": 134,
   "metadata": {},
   "outputs": [
    {
     "data": {
      "text/plain": [
       "RandomForestClassifier(bootstrap=True, ccp_alpha=0.0, class_weight=None,\n",
       "                       criterion='gini', max_depth=5, max_features=3,\n",
       "                       max_leaf_nodes=None, max_samples=None,\n",
       "                       min_impurity_decrease=0.0, min_impurity_split=None,\n",
       "                       min_samples_leaf=1, min_samples_split=2,\n",
       "                       min_weight_fraction_leaf=0.0, n_estimators=300,\n",
       "                       n_jobs=None, oob_score=False, random_state=None,\n",
       "                       verbose=0, warm_start=False)"
      ]
     },
     "execution_count": 134,
     "metadata": {},
     "output_type": "execute_result"
    }
   ],
   "source": [
    "rf_tuned.fit(X_train, y_train)"
   ]
  },
  {
   "cell_type": "markdown",
   "metadata": {},
   "source": [
    "### Random Forest Modeli Tahminleri ve Başarı Metrikleri "
   ]
  },
  {
   "cell_type": "markdown",
   "metadata": {},
   "source": [
    "Tahmin için kurduğumuz modelin \"predict()\" fonksiyonuna test için ayırdığımız \"X_test\" parametresini vereceğiz. "
   ]
  },
  {
   "cell_type": "code",
   "execution_count": 135,
   "metadata": {},
   "outputs": [],
   "source": [
    "y_pred = rf_tuned.predict(X_test)"
   ]
  },
  {
   "cell_type": "markdown",
   "metadata": {},
   "source": [
    "Bu sayede tahmin değerleri ile gerçek değerleri gözlemleyebileceğimiz karmaşıklık matrisini çizdirebiliriz. "
   ]
  },
  {
   "cell_type": "code",
   "execution_count": 136,
   "metadata": {},
   "outputs": [
    {
     "name": "stdout",
     "output_type": "stream",
     "text": [
      "[[12  0]\n",
      " [12  0]]\n"
     ]
    }
   ],
   "source": [
    "karmasiklik_matrisi = confusion_matrix(y_test, y_pred)\n",
    "print(karmasiklik_matrisi)"
   ]
  },
  {
   "cell_type": "markdown",
   "metadata": {},
   "source": [
    "Karmaşıklık matrisi ile modelin doğru ve yanlış tahminlerini mukayese edebiliriz. Sol üst kısım ve sağ alt kısım doğru tahmin sayıları iken, diğer köşegen yanlış tahmin sayılarıdır. Aşağıda yapılan işlemler sonucu modelin karmaşıklık matris için başarı skoru yüzdelik ölçekte görüntülenmektedir."
   ]
  },
  {
   "cell_type": "code",
   "execution_count": 137,
   "metadata": {},
   "outputs": [
    {
     "data": {
      "text/plain": [
       "50.0"
      ]
     },
     "execution_count": 137,
     "metadata": {},
     "output_type": "execute_result"
    }
   ],
   "source": [
    "ConfusionMatrixScore = (karmasiklik_matrisi[0][0] + karmasiklik_matrisi[1][1]) / (karmasiklik_matrisi[0][0] + karmasiklik_matrisi[1][1] + karmasiklik_matrisi[1][0] + karmasiklik_matrisi[0][1])\n",
    "ConfusionMatrixScore  = ConfusionMatrixScore*100\n",
    "ConfusionMatrixScore"
   ]
  },
  {
   "cell_type": "markdown",
   "metadata": {},
   "source": [
    "Hazır fonksiyon olan \"accuracy_score()\" ile de aynı çıktıyı alırsak skorun sağlamasını yapmış olacağız."
   ]
  },
  {
   "cell_type": "code",
   "execution_count": 138,
   "metadata": {},
   "outputs": [
    {
     "data": {
      "text/plain": [
       "0.5"
      ]
     },
     "execution_count": 138,
     "metadata": {},
     "output_type": "execute_result"
    }
   ],
   "source": [
    "accuracy_score(y_test, y_pred)"
   ]
  },
  {
   "cell_type": "markdown",
   "metadata": {},
   "source": [
    "Öte yandan sınıflandırma raporu olarak da bilinen \"classification_report()\" fonksiyonu bize model hakkında pek çok ayrıntılı bilgiyi detaylı olarak sunar. Modelin başarı durumunu özetleyen, doğruluk, duyarlılık, destek, ağırlıklı ortalama, F istatistikleri gibi pek çok başarı metriğine sınıflandırma raporunu kullanarak erişebiliriz."
   ]
  },
  {
   "cell_type": "code",
   "execution_count": 139,
   "metadata": {},
   "outputs": [
    {
     "name": "stdout",
     "output_type": "stream",
     "text": [
      "              precision    recall  f1-score   support\n",
      "\n",
      "           0       0.50      1.00      0.67        12\n",
      "           1       0.00      0.00      0.00        12\n",
      "\n",
      "    accuracy                           0.50        24\n",
      "   macro avg       0.25      0.50      0.33        24\n",
      "weighted avg       0.25      0.50      0.33        24\n",
      "\n"
     ]
    }
   ],
   "source": [
    "print(classification_report(y_test, y_pred))"
   ]
  },
  {
   "cell_type": "markdown",
   "metadata": {},
   "source": [
    "Sınıflandırma algoritmalarında kullanılan pek çok başarı metriği bazı durumlarda yanıltıcı olabilmektedir. Bu gibi durumlar için ROC - AUC grafiği çizdirilir ve ROC eğrisinin(mavi çizgi) altında kalan alanın büyüklüğü modelin doğruluğu hakkında bize fikir verir. Kırmızı kesikli çizgi ise modelin başarısının %50 olduğu durumu temsil eder. "
   ]
  },
  {
   "cell_type": "code",
   "execution_count": 140,
   "metadata": {},
   "outputs": [
    {
     "data": {
      "image/png": "[encoded data removed]",
      "text/plain": [
       "<Figure size 720x504 with 1 Axes>"
      ]
     },
     "metadata": {
      "needs_background": "light"
     },
     "output_type": "display_data"
    }
   ],
   "source": [
    "logit_roc_auc = roc_auc_score(y_test, rf_tuned.predict(X_test))\n",
    "\n",
    "fpr, tpr, thresholds = roc_curve(y_test, rf_tuned.predict_proba(X_test)[:,1])\n",
    "plt.figure(figsize=(10,7))\n",
    "plt.plot(fpr, tpr, label='AUC (area = %0.2f)' % logit_roc_auc)\n",
    "plt.plot([0, 1], [0, 1],'r--')\n",
    "plt.xlim([0.0, 1.0])\n",
    "plt.ylim([0.0, 1.05])\n",
    "plt.xlabel('False Positive Oranı')\n",
    "plt.ylabel('True Positive Oranı')\n",
    "plt.title('ROC')\n",
    "plt.show()"
   ]
  },
  {
   "cell_type": "markdown",
   "metadata": {},
   "source": [
    "Burada önemli olan AUC(area under curve) dediğimiz, çizginin altında kalan alanın büyüklüğüdür. Söz konusu alan 1'e ne kadar yakınsa model o kadar başarılı sayılır."
   ]
  },
  {
   "cell_type": "code",
   "execution_count": 141,
   "metadata": {},
   "outputs": [
    {
     "data": {
      "text/plain": [
       "63.888888888888886"
      ]
     },
     "execution_count": 141,
     "metadata": {},
     "output_type": "execute_result"
    }
   ],
   "source": [
    "AUC = metrics.auc(fpr, tpr)\n",
    "AUC = AUC * 100\n",
    "AUC"
   ]
  },
  {
   "cell_type": "markdown",
   "metadata": {},
   "source": [
    "Tek bir defa başarı skoruna bakmak, model hakkında karar vermek için çok erken ve yanıltıcıdır. Modeli defalarca farklı test ve eğitim olacak şekilde kombinleyerek skorlamak daha sağlıklı olacaktır."
   ]
  },
  {
   "cell_type": "code",
   "execution_count": 142,
   "metadata": {},
   "outputs": [
    {
     "data": {
      "text/plain": [
       "array([0.66666667, 0.33333333, 0.66666667, 0.66666667, 0.5       ,\n",
       "       1.        , 0.5       , 0.5       , 0.        , 1.        ])"
      ]
     },
     "execution_count": 142,
     "metadata": {},
     "output_type": "execute_result"
    }
   ],
   "source": [
    "cross_val_score(rf_tuned, X_test, y_test, cv = 10)"
   ]
  },
  {
   "cell_type": "markdown",
   "metadata": {},
   "source": [
    "Modeli 10 defa skorladık, bunların ortalamasını alarak daha kesin bir sonuç elde edebiliriz."
   ]
  },
  {
   "cell_type": "code",
   "execution_count": 143,
   "metadata": {},
   "outputs": [
    {
     "data": {
      "text/plain": [
       "63.33333333333333"
      ]
     },
     "execution_count": 143,
     "metadata": {},
     "output_type": "execute_result"
    }
   ],
   "source": [
    "CrossValScore = cross_val_score(rf_tuned, X_test, y_test, cv = 10).mean()\n",
    "CrossValScore = CrossValScore * 100\n",
    "CrossValScore"
   ]
  },
  {
   "cell_type": "markdown",
   "metadata": {},
   "source": [
    "Modelin kesinlik skorunu hesaplayıp yüzdelik ölçekte yazdıralım."
   ]
  },
  {
   "cell_type": "code",
   "execution_count": 144,
   "metadata": {},
   "outputs": [
    {
     "data": {
      "text/plain": [
       "25.0"
      ]
     },
     "execution_count": 144,
     "metadata": {},
     "output_type": "execute_result"
    }
   ],
   "source": [
    "PrecisionScore = metrics.precision_score(y_test, y_pred, average='weighted')\n",
    "PrecisionScore = PrecisionScore * 100\n",
    "PrecisionScore"
   ]
  },
  {
   "cell_type": "markdown",
   "metadata": {},
   "source": [
    "Modelin duyarlılık skorunu hesaplayıp yüzdelik ölçekte yazdıralım."
   ]
  },
  {
   "cell_type": "code",
   "execution_count": 145,
   "metadata": {},
   "outputs": [
    {
     "data": {
      "text/plain": [
       "50.0"
      ]
     },
     "execution_count": 145,
     "metadata": {},
     "output_type": "execute_result"
    }
   ],
   "source": [
    "RecallScore = recall_score(y_test, y_pred, average='weighted')\n",
    "RecallScore = RecallScore * 100\n",
    "RecallScore"
   ]
  },
  {
   "cell_type": "markdown",
   "metadata": {},
   "source": [
    "Modelin F1 skorunu hesaplayıp yüzdelik ölçekte yazdıralım."
   ]
  },
  {
   "cell_type": "code",
   "execution_count": 146,
   "metadata": {},
   "outputs": [
    {
     "data": {
      "text/plain": [
       "33.33333333333333"
      ]
     },
     "execution_count": 146,
     "metadata": {},
     "output_type": "execute_result"
    }
   ],
   "source": [
    "F1Score = f1_score(y_test, y_pred, average='weighted')  \n",
    "F1Score = F1Score * 100\n",
    "F1Score"
   ]
  },
  {
   "cell_type": "markdown",
   "metadata": {},
   "source": [
    "Modelin ROC - AUC skorunu hesaplayıp yüzdelik ölçekte yazdıralım."
   ]
  },
  {
   "cell_type": "code",
   "execution_count": 147,
   "metadata": {},
   "outputs": [
    {
     "data": {
      "text/plain": [
       "50.0"
      ]
     },
     "execution_count": 147,
     "metadata": {},
     "output_type": "execute_result"
    }
   ],
   "source": [
    "ROC_AUC_Score = roc_auc_score(y_test, y_pred)\n",
    "ROC_AUC_Score = ROC_AUC_Score * 100\n",
    "ROC_AUC_Score"
   ]
  },
  {
   "cell_type": "markdown",
   "metadata": {},
   "source": [
    "Modelin Log Loss skorunu hesaplayıp yazdıralım."
   ]
  },
  {
   "cell_type": "code",
   "execution_count": 148,
   "metadata": {},
   "outputs": [
    {
     "data": {
      "text/plain": [
       "17.269388197455342"
      ]
     },
     "execution_count": 148,
     "metadata": {},
     "output_type": "execute_result"
    }
   ],
   "source": [
    "LogLoss = log_loss(y_test, y_pred)\n",
    "LogLoss"
   ]
  },
  {
   "cell_type": "markdown",
   "metadata": {},
   "source": [
    "Modelin Brier skorunu hesaplayıp yüzdelik ölçekte yazdıralım."
   ]
  },
  {
   "cell_type": "code",
   "execution_count": 149,
   "metadata": {},
   "outputs": [
    {
     "data": {
      "text/plain": [
       "99.5"
      ]
     },
     "execution_count": 149,
     "metadata": {},
     "output_type": "execute_result"
    }
   ],
   "source": [
    "BrierScore = brier_score_loss(y_test, y_pred)\n",
    "BrierScore = 100 - BrierScore\n",
    "BrierScore"
   ]
  },
  {
   "cell_type": "markdown",
   "metadata": {},
   "source": [
    "Modelin dengeli doğruluk skorunu hesaplayıp yüzdelik ölçekte yazdıralım."
   ]
  },
  {
   "cell_type": "code",
   "execution_count": 150,
   "metadata": {},
   "outputs": [
    {
     "data": {
      "text/plain": [
       "50.0"
      ]
     },
     "execution_count": 150,
     "metadata": {},
     "output_type": "execute_result"
    }
   ],
   "source": [
    "BalancedAccuracyScore = balanced_accuracy_score(y_test, y_pred)\n",
    "BalancedAccuracyScore = BalancedAccuracyScore * 100\n",
    "BalancedAccuracyScore"
   ]
  },
  {
   "cell_type": "markdown",
   "metadata": {},
   "source": [
    "Modelin Jaccard skorunu hesaplayıp yüzdelik ölçekte yazdıralım."
   ]
  },
  {
   "cell_type": "code",
   "execution_count": 151,
   "metadata": {},
   "outputs": [
    {
     "data": {
      "text/plain": [
       "0.0"
      ]
     },
     "execution_count": 151,
     "metadata": {},
     "output_type": "execute_result"
    }
   ],
   "source": [
    "JaccardScore = jaccard_score(y_test, y_pred)\n",
    "JaccardScore = JaccardScore * 100\n",
    "JaccardScore"
   ]
  },
  {
   "cell_type": "markdown",
   "metadata": {},
   "source": [
    "Modelin bu makine öğrenmesi modeli için verdiği tüm başarı metriklerini \"sonuc\" veri çerçevemize gözlem olarak ekleyelim."
   ]
  },
  {
   "cell_type": "code",
   "execution_count": 152,
   "metadata": {},
   "outputs": [],
   "source": [
    "sonuc = pd.DataFrame([[\"RandomForest\", ConfusionMatrixScore, CrossValScore, ROC_AUC_Score, AUC, RecallScore, F1Score, PrecisionScore, JaccardScore, BrierScore, BalancedAccuracyScore, LogLoss]], columns= [\"Model\", \"ConfusionMatrixScore\", \"CrossValScore\", \"ROC_AUC_Score\", \"AUC\", \"RecallScore\", \"F1Score\", \"PrecisionScore\", \"JaccardScore\",\"BrierScore\",\"BalancedAccuracyScore\", \"LogLoss\"])\n",
    "sonuclar = sonuclar.append(sonuc)"
   ]
  },
  {
   "cell_type": "markdown",
   "metadata": {},
   "source": [
    "## Gradient Boosting Machine"
   ]
  },
  {
   "cell_type": "markdown",
   "metadata": {},
   "source": [
    "### GBM Modeli İnşası ve Eğitimi"
   ]
  },
  {
   "cell_type": "markdown",
   "metadata": {},
   "source": [
    "GBM algoritması için kritik gördüğümüz 4 adet parametreyi optimize ederek modeli kurar ve eğitiriz."
   ]
  },
  {
   "cell_type": "code",
   "execution_count": 153,
   "metadata": {},
   "outputs": [],
   "source": [
    "gbm = GradientBoostingClassifier()"
   ]
  },
  {
   "cell_type": "code",
   "execution_count": 154,
   "metadata": {},
   "outputs": [
    {
     "data": {
      "text/plain": [
       "GradientBoostingClassifier(ccp_alpha=0.0, criterion='friedman_mse', init=None,\n",
       "                           learning_rate=0.1, loss='deviance', max_depth=3,\n",
       "                           max_features=None, max_leaf_nodes=None,\n",
       "                           min_impurity_decrease=0.0, min_impurity_split=None,\n",
       "                           min_samples_leaf=1, min_samples_split=2,\n",
       "                           min_weight_fraction_leaf=0.0, n_estimators=100,\n",
       "                           n_iter_no_change=None, presort='deprecated',\n",
       "                           random_state=None, subsample=1.0, tol=0.0001,\n",
       "                           validation_fraction=0.1, verbose=0,\n",
       "                           warm_start=False)"
      ]
     },
     "execution_count": 154,
     "metadata": {},
     "output_type": "execute_result"
    }
   ],
   "source": [
    "gbm"
   ]
  },
  {
   "cell_type": "code",
   "execution_count": 155,
   "metadata": {},
   "outputs": [],
   "source": [
    "gbm_params = {\"learning_rate\" : [0.001,0.01,0.1],\n",
    "             \"n_estimators\" : [100,500],\n",
    "             \"max_depth\" : [3,5,10],\n",
    "             \"min_samples_split\": [5,7,10,13,15]}"
   ]
  },
  {
   "cell_type": "code",
   "execution_count": 156,
   "metadata": {},
   "outputs": [],
   "source": [
    "gbm_cv = GridSearchCV(gbm, gbm_params, cv = 5, n_jobs = -1, verbose = 2)"
   ]
  },
  {
   "cell_type": "code",
   "execution_count": 157,
   "metadata": {},
   "outputs": [
    {
     "name": "stdout",
     "output_type": "stream",
     "text": [
      "Fitting 10 folds for each of 90 candidates, totalling 900 fits\n"
     ]
    },
    {
     "name": "stderr",
     "output_type": "stream",
     "text": [
      "[Parallel(n_jobs=-1)]: Using backend LokyBackend with 12 concurrent workers.\n",
      "[Parallel(n_jobs=-1)]: Done  17 tasks      | elapsed:   57.8s\n",
      "[Parallel(n_jobs=-1)]: Done 138 tasks      | elapsed:  8.0min\n",
      "[Parallel(n_jobs=-1)]: Done 341 tasks      | elapsed: 20.4min\n",
      "[Parallel(n_jobs=-1)]: Done 624 tasks      | elapsed: 36.8min\n",
      "[Parallel(n_jobs=-1)]: Done 900 out of 900 | elapsed: 41.0min finished\n"
     ]
    },
    {
     "data": {
      "text/plain": [
       "GridSearchCV(cv=10, error_score=nan,\n",
       "             estimator=GradientBoostingClassifier(ccp_alpha=0.0,\n",
       "                                                  criterion='friedman_mse',\n",
       "                                                  init=None, learning_rate=0.1,\n",
       "                                                  loss='deviance', max_depth=3,\n",
       "                                                  max_features=None,\n",
       "                                                  max_leaf_nodes=None,\n",
       "                                                  min_impurity_decrease=0.0,\n",
       "                                                  min_impurity_split=None,\n",
       "                                                  min_samples_leaf=1,\n",
       "                                                  min_samples_split=2,\n",
       "                                                  min_weight_fraction_leaf=0.0,\n",
       "                                                  n_estimators=100,\n",
       "                                                  n_iter_no_...\n",
       "                                                  presort='deprecated',\n",
       "                                                  random_state=None,\n",
       "                                                  subsample=1.0, tol=0.0001,\n",
       "                                                  validation_fraction=0.1,\n",
       "                                                  verbose=0, warm_start=False),\n",
       "             iid='deprecated', n_jobs=-1,\n",
       "             param_grid={'learning_rate': [0.001, 0.01, 0.1],\n",
       "                         'max_depth': [3, 5, 10],\n",
       "                         'min_samples_split': [5, 7, 10, 13, 15],\n",
       "                         'n_estimators': [100, 500]},\n",
       "             pre_dispatch='2*n_jobs', refit=True, return_train_score=False,\n",
       "             scoring=None, verbose=2)"
      ]
     },
     "execution_count": 157,
     "metadata": {},
     "output_type": "execute_result"
    }
   ],
   "source": [
    "gbm_cv.fit(X_train, y_train)"
   ]
  },
  {
   "cell_type": "markdown",
   "metadata": {},
   "source": [
    "En iyi parametreleri ve en iyi skoru görüntüleyelim."
   ]
  },
  {
   "cell_type": "code",
   "execution_count": 158,
   "metadata": {
    "scrolled": true
   },
   "outputs": [
    {
     "name": "stdout",
     "output_type": "stream",
     "text": [
      "En iyi parametreler : {'learning_rate': 0.001, 'max_depth': 3, 'min_samples_split': 5, 'n_estimators': 100}\n",
      "En iyi skor : 0.6095238095238095\n"
     ]
    }
   ],
   "source": [
    "print(\"En iyi parametreler : \" + str(gbm_cv.best_params_))\n",
    "print(\"En iyi skor : \" + str(gbm_cv.best_score_))"
   ]
  },
  {
   "cell_type": "markdown",
   "metadata": {},
   "source": [
    "En iyi parametrelerle modeli kuralım ve eğitelim."
   ]
  },
  {
   "cell_type": "code",
   "execution_count": 159,
   "metadata": {},
   "outputs": [],
   "source": [
    "gbm = GradientBoostingClassifier(learning_rate = gbm_cv.best_params_[\"learning_rate\"],\n",
    "                                max_depth = gbm_cv.best_params_[\"max_depth\"],\n",
    "                                min_samples_split = gbm_cv.best_params_[\"min_samples_split\"],\n",
    "                                n_estimators = gbm_cv.best_params_[\"n_estimators\"])"
   ]
  },
  {
   "cell_type": "code",
   "execution_count": 160,
   "metadata": {},
   "outputs": [],
   "source": [
    "gbm_tuned = gbm.fit(X_train, y_train)"
   ]
  },
  {
   "cell_type": "markdown",
   "metadata": {},
   "source": [
    "### GBM Modeli Tahminleri ve Başarı Metrikleri"
   ]
  },
  {
   "cell_type": "markdown",
   "metadata": {},
   "source": [
    "Tahmin için kurduğumuz modelin \"predict()\" fonksiyonuna test için ayırdığımız \"X_test\" parametresini vereceğiz. "
   ]
  },
  {
   "cell_type": "code",
   "execution_count": 161,
   "metadata": {},
   "outputs": [],
   "source": [
    "y_pred = gbm_tuned.predict(X_test)"
   ]
  },
  {
   "cell_type": "markdown",
   "metadata": {},
   "source": [
    "Bu sayede tahmin değerleri ile gerçek değerleri gözlemleyebileceğimiz karmaşıklık matrisini çizdirebiliriz. "
   ]
  },
  {
   "cell_type": "code",
   "execution_count": 162,
   "metadata": {},
   "outputs": [
    {
     "name": "stdout",
     "output_type": "stream",
     "text": [
      "[[12  0]\n",
      " [12  0]]\n"
     ]
    }
   ],
   "source": [
    "karmasiklik_matrisi = confusion_matrix(y_test, y_pred)\n",
    "print(karmasiklik_matrisi)"
   ]
  },
  {
   "cell_type": "markdown",
   "metadata": {},
   "source": [
    "Karmaşıklık matrisi ile modelin doğru ve yanlış tahminlerini mukayese edebiliriz. Sol üst kısım ve sağ alt kısım doğru tahmin sayıları iken, diğer köşegen yanlış tahmin sayılarıdır. Aşağıda yapılan işlemler sonucu modelin karmaşıklık matris için başarı skoru yüzdelik ölçekte görüntülenmektedir."
   ]
  },
  {
   "cell_type": "code",
   "execution_count": 163,
   "metadata": {},
   "outputs": [
    {
     "data": {
      "text/plain": [
       "50.0"
      ]
     },
     "execution_count": 163,
     "metadata": {},
     "output_type": "execute_result"
    }
   ],
   "source": [
    "ConfusionMatrixScore = (karmasiklik_matrisi[0][0] + karmasiklik_matrisi[1][1]) / (karmasiklik_matrisi[0][0] + karmasiklik_matrisi[1][1] + karmasiklik_matrisi[1][0] + karmasiklik_matrisi[0][1])\n",
    "ConfusionMatrixScore  = ConfusionMatrixScore*100\n",
    "ConfusionMatrixScore"
   ]
  },
  {
   "cell_type": "markdown",
   "metadata": {},
   "source": [
    "Hazır fonksiyon olan \"accuracy_score()\" ile de aynı çıktıyı alırsak skorun sağlamasını yapmış olacağız."
   ]
  },
  {
   "cell_type": "code",
   "execution_count": 164,
   "metadata": {},
   "outputs": [
    {
     "data": {
      "text/plain": [
       "0.5"
      ]
     },
     "execution_count": 164,
     "metadata": {},
     "output_type": "execute_result"
    }
   ],
   "source": [
    "accuracy_score(y_test, y_pred)"
   ]
  },
  {
   "cell_type": "markdown",
   "metadata": {},
   "source": [
    "Öte yandan sınıflandırma raporu olarak da bilinen \"classification_report()\" fonksiyonu bize model hakkında pek çok ayrıntılı bilgiyi detaylı olarak sunar. Modelin başarı durumunu özetleyen, doğruluk, duyarlılık, destek, ağırlıklı ortalama, F istatistikleri gibi pek çok başarı metriğine sınıflandırma raporunu kullanarak erişebiliriz."
   ]
  },
  {
   "cell_type": "code",
   "execution_count": 165,
   "metadata": {},
   "outputs": [
    {
     "name": "stdout",
     "output_type": "stream",
     "text": [
      "              precision    recall  f1-score   support\n",
      "\n",
      "           0       0.50      1.00      0.67        12\n",
      "           1       0.00      0.00      0.00        12\n",
      "\n",
      "    accuracy                           0.50        24\n",
      "   macro avg       0.25      0.50      0.33        24\n",
      "weighted avg       0.25      0.50      0.33        24\n",
      "\n"
     ]
    }
   ],
   "source": [
    "print(classification_report(y_test, y_pred))"
   ]
  },
  {
   "cell_type": "markdown",
   "metadata": {},
   "source": [
    "Sınıflandırma algoritmalarında kullanılan pek çok başarı metriği bazı durumlarda yanıltıcı olabilmektedir. Bu gibi durumlar için ROC - AUC grafiği çizdirilir ve ROC eğrisinin(mavi çizgi) altında kalan alanın büyüklüğü modelin doğruluğu hakkında bize fikir verir. Kırmızı kesikli çizgi ise modelin başarısının %50 olduğu durumu temsil eder. "
   ]
  },
  {
   "cell_type": "code",
   "execution_count": 166,
   "metadata": {},
   "outputs": [
    {
     "data": {
      "image/png": "[encoded data removed]",
      "text/plain": [
       "<Figure size 720x504 with 1 Axes>"
      ]
     },
     "metadata": {
      "needs_background": "light"
     },
     "output_type": "display_data"
    }
   ],
   "source": [
    "logit_roc_auc = roc_auc_score(y_test, gbm_tuned.predict(X_test))\n",
    "\n",
    "fpr, tpr, thresholds = roc_curve(y_test, gbm_tuned.predict_proba(X_test)[:,1])\n",
    "plt.figure(figsize=(10,7))\n",
    "plt.plot(fpr, tpr, label='AUC (area = %0.2f)' % logit_roc_auc)\n",
    "plt.plot([0, 1], [0, 1],'r--')\n",
    "plt.xlim([0.0, 1.0])\n",
    "plt.ylim([0.0, 1.05])\n",
    "plt.xlabel('False Positive Oranı')\n",
    "plt.ylabel('True Positive Oranı')\n",
    "plt.title('ROC')\n",
    "plt.show()"
   ]
  },
  {
   "cell_type": "markdown",
   "metadata": {},
   "source": [
    "Burada önemli olan AUC(area under curve) dediğimiz, çizginin altında kalan alanın büyüklüğüdür. Söz konusu alan 1'e ne kadar yakınsa model o kadar başarılı sayılır."
   ]
  },
  {
   "cell_type": "code",
   "execution_count": 167,
   "metadata": {},
   "outputs": [
    {
     "data": {
      "text/plain": [
       "80.55555555555556"
      ]
     },
     "execution_count": 167,
     "metadata": {},
     "output_type": "execute_result"
    }
   ],
   "source": [
    "AUC = metrics.auc(fpr, tpr)\n",
    "AUC = AUC * 100\n",
    "AUC"
   ]
  },
  {
   "cell_type": "markdown",
   "metadata": {},
   "source": [
    "Tek bir defa başarı skoruna bakmak, model hakkında karar vermek için çok erken ve yanıltıcıdır. Modeli defalarca farklı test ve eğitim olacak şekilde kombinleyerek skorlamak daha sağlıklı olacaktır."
   ]
  },
  {
   "cell_type": "code",
   "execution_count": 168,
   "metadata": {},
   "outputs": [
    {
     "data": {
      "text/plain": [
       "array([0.66666667, 0.        , 0.66666667, 0.        , 0.5       ,\n",
       "       0.5       , 0.5       , 1.        , 0.        , 1.        ])"
      ]
     },
     "execution_count": 168,
     "metadata": {},
     "output_type": "execute_result"
    }
   ],
   "source": [
    "cross_val_score(gbm_tuned, X_test, y_test, cv = 10)"
   ]
  },
  {
   "cell_type": "markdown",
   "metadata": {},
   "source": [
    "Modeli 10 defa skorladık, bunların ortalamasını alarak daha kesin bir sonuç elde edebiliriz."
   ]
  },
  {
   "cell_type": "code",
   "execution_count": 169,
   "metadata": {},
   "outputs": [
    {
     "data": {
      "text/plain": [
       "51.66666666666666"
      ]
     },
     "execution_count": 169,
     "metadata": {},
     "output_type": "execute_result"
    }
   ],
   "source": [
    "CrossValScore = cross_val_score(gbm_tuned, X_test, y_test, cv = 10).mean()\n",
    "CrossValScore = CrossValScore * 100\n",
    "CrossValScore"
   ]
  },
  {
   "cell_type": "markdown",
   "metadata": {},
   "source": [
    "Modelin kesinlik skorunu hesaplayıp yüzdelik ölçekte yazdıralım."
   ]
  },
  {
   "cell_type": "code",
   "execution_count": 170,
   "metadata": {},
   "outputs": [
    {
     "data": {
      "text/plain": [
       "25.0"
      ]
     },
     "execution_count": 170,
     "metadata": {},
     "output_type": "execute_result"
    }
   ],
   "source": [
    "PrecisionScore = metrics.precision_score(y_test, y_pred, average='weighted')\n",
    "PrecisionScore = PrecisionScore * 100\n",
    "PrecisionScore"
   ]
  },
  {
   "cell_type": "markdown",
   "metadata": {},
   "source": [
    "Modelin duyarlılık skorunu hesaplayıp yüzdelik ölçekte yazdıralım."
   ]
  },
  {
   "cell_type": "code",
   "execution_count": 171,
   "metadata": {},
   "outputs": [
    {
     "data": {
      "text/plain": [
       "50.0"
      ]
     },
     "execution_count": 171,
     "metadata": {},
     "output_type": "execute_result"
    }
   ],
   "source": [
    "RecallScore = recall_score(y_test, y_pred, average='weighted')\n",
    "RecallScore = RecallScore * 100\n",
    "RecallScore"
   ]
  },
  {
   "cell_type": "markdown",
   "metadata": {},
   "source": [
    "Modelin F1 skorunu hesaplayıp yüzdelik ölçekte yazdıralım."
   ]
  },
  {
   "cell_type": "code",
   "execution_count": 172,
   "metadata": {},
   "outputs": [
    {
     "data": {
      "text/plain": [
       "33.33333333333333"
      ]
     },
     "execution_count": 172,
     "metadata": {},
     "output_type": "execute_result"
    }
   ],
   "source": [
    "F1Score = f1_score(y_test, y_pred, average='weighted')  \n",
    "F1Score = F1Score * 100\n",
    "F1Score"
   ]
  },
  {
   "cell_type": "markdown",
   "metadata": {},
   "source": [
    "Modelin ROC - AUC skorunu hesaplayıp yüzdelik ölçekte yazdıralım."
   ]
  },
  {
   "cell_type": "code",
   "execution_count": 173,
   "metadata": {},
   "outputs": [
    {
     "data": {
      "text/plain": [
       "50.0"
      ]
     },
     "execution_count": 173,
     "metadata": {},
     "output_type": "execute_result"
    }
   ],
   "source": [
    "ROC_AUC_Score = roc_auc_score(y_test, y_pred)\n",
    "ROC_AUC_Score = ROC_AUC_Score * 100\n",
    "ROC_AUC_Score"
   ]
  },
  {
   "cell_type": "markdown",
   "metadata": {},
   "source": [
    "Modelin Log Loss skorunu hesaplayıp yazdıralım."
   ]
  },
  {
   "cell_type": "code",
   "execution_count": 174,
   "metadata": {},
   "outputs": [
    {
     "data": {
      "text/plain": [
       "17.269388197455342"
      ]
     },
     "execution_count": 174,
     "metadata": {},
     "output_type": "execute_result"
    }
   ],
   "source": [
    "LogLoss = log_loss(y_test, y_pred)\n",
    "LogLoss"
   ]
  },
  {
   "cell_type": "markdown",
   "metadata": {},
   "source": [
    "Modelin Brier skorunu hesaplayıp yüzdelik ölçekte yazdıralım."
   ]
  },
  {
   "cell_type": "code",
   "execution_count": 175,
   "metadata": {},
   "outputs": [
    {
     "data": {
      "text/plain": [
       "99.5"
      ]
     },
     "execution_count": 175,
     "metadata": {},
     "output_type": "execute_result"
    }
   ],
   "source": [
    "BrierScore = brier_score_loss(y_test, y_pred)\n",
    "BrierScore = 100 - BrierScore\n",
    "BrierScore"
   ]
  },
  {
   "cell_type": "markdown",
   "metadata": {},
   "source": [
    "Modelin dengeli doğruluk skorunu hesaplayıp yüzdelik ölçekte yazdıralım."
   ]
  },
  {
   "cell_type": "code",
   "execution_count": 176,
   "metadata": {},
   "outputs": [
    {
     "data": {
      "text/plain": [
       "50.0"
      ]
     },
     "execution_count": 176,
     "metadata": {},
     "output_type": "execute_result"
    }
   ],
   "source": [
    "BalancedAccuracyScore = balanced_accuracy_score(y_test, y_pred)\n",
    "BalancedAccuracyScore = BalancedAccuracyScore * 100\n",
    "BalancedAccuracyScore"
   ]
  },
  {
   "cell_type": "markdown",
   "metadata": {},
   "source": [
    "Modelin Jaccard skorunu hesaplayıp yüzdelik ölçekte yazdıralım."
   ]
  },
  {
   "cell_type": "code",
   "execution_count": 177,
   "metadata": {},
   "outputs": [
    {
     "data": {
      "text/plain": [
       "0.0"
      ]
     },
     "execution_count": 177,
     "metadata": {},
     "output_type": "execute_result"
    }
   ],
   "source": [
    "JaccardScore = jaccard_score(y_test, y_pred)\n",
    "JaccardScore = JaccardScore * 100\n",
    "JaccardScore"
   ]
  },
  {
   "cell_type": "markdown",
   "metadata": {},
   "source": [
    "Modelin bu makine öğrenmesi modeli için verdiği tüm başarı metriklerini \"sonuc\" veri çerçevemize gözlem olarak ekleyelim."
   ]
  },
  {
   "cell_type": "code",
   "execution_count": 178,
   "metadata": {},
   "outputs": [],
   "source": [
    "sonuc = pd.DataFrame([[\"GBM\", ConfusionMatrixScore, CrossValScore, ROC_AUC_Score, AUC, RecallScore, F1Score, PrecisionScore, JaccardScore, BrierScore, BalancedAccuracyScore, LogLoss]], columns= [\"Model\", \"ConfusionMatrixScore\", \"CrossValScore\", \"ROC_AUC_Score\", \"AUC\", \"RecallScore\", \"F1Score\", \"PrecisionScore\", \"JaccardScore\",\"BrierScore\",\"BalancedAccuracyScore\", \"LogLoss\"])\n",
    "sonuclar = sonuclar.append(sonuc)"
   ]
  },
  {
   "cell_type": "markdown",
   "metadata": {},
   "source": [
    "## Extreme Gradient Boost"
   ]
  },
  {
   "cell_type": "markdown",
   "metadata": {},
   "source": [
    "### XGBoost Modeli İnşası ve Eğitimi"
   ]
  },
  {
   "cell_type": "markdown",
   "metadata": {},
   "source": [
    "XGBoost algoritması için 5 adet kritik parametreyi optimize ederek modeli kurup, eğiteceğiz."
   ]
  },
  {
   "cell_type": "code",
   "execution_count": 179,
   "metadata": {},
   "outputs": [],
   "source": [
    "xgb = XGBClassifier()"
   ]
  },
  {
   "cell_type": "code",
   "execution_count": 180,
   "metadata": {},
   "outputs": [],
   "source": [
    "xgb_params = {\n",
    "    \"n_estimators\" : [100, 500, 1000],\n",
    "    \"subsample\" : [0.6, 0.8, 1.0],\n",
    "    \"max_depth\" : [3,4,6],\n",
    "    \"learning_rate\":[0.01, 0.1, 0.05],\n",
    "    \"min_samples_split\":[2, 5, 100]\n",
    "}"
   ]
  },
  {
   "cell_type": "code",
   "execution_count": 181,
   "metadata": {},
   "outputs": [],
   "source": [
    "xgb_cv_model = GridSearchCV(xgb, xgb_params, cv = 5, n_jobs = -1, verbose =2)"
   ]
  },
  {
   "cell_type": "code",
   "execution_count": 182,
   "metadata": {
    "scrolled": true
   },
   "outputs": [
    {
     "name": "stdout",
     "output_type": "stream",
     "text": [
      "Fitting 10 folds for each of 243 candidates, totalling 2430 fits\n"
     ]
    },
    {
     "name": "stderr",
     "output_type": "stream",
     "text": [
      "[Parallel(n_jobs=-1)]: Using backend LokyBackend with 12 concurrent workers.\n",
      "[Parallel(n_jobs=-1)]: Done  17 tasks      | elapsed:   14.5s\n",
      "[Parallel(n_jobs=-1)]: Done 138 tasks      | elapsed:  5.8min\n",
      "[Parallel(n_jobs=-1)]: Done 341 tasks      | elapsed: 16.4min\n",
      "[Parallel(n_jobs=-1)]: Done 624 tasks      | elapsed: 30.9min\n",
      "[Parallel(n_jobs=-1)]: Done 989 tasks      | elapsed: 44.2min\n",
      "[Parallel(n_jobs=-1)]: Done 1434 tasks      | elapsed: 55.8min\n",
      "[Parallel(n_jobs=-1)]: Done 1961 tasks      | elapsed: 78.1min\n",
      "[Parallel(n_jobs=-1)]: Done 2430 out of 2430 | elapsed: 100.8min finished\n"
     ]
    },
    {
     "data": {
      "text/plain": [
       "GridSearchCV(cv=10, error_score=nan,\n",
       "             estimator=XGBClassifier(base_score=0.5, booster='gbtree',\n",
       "                                     colsample_bylevel=1, colsample_bynode=1,\n",
       "                                     colsample_bytree=1, gamma=0,\n",
       "                                     learning_rate=0.1, max_delta_step=0,\n",
       "                                     max_depth=3, min_child_weight=1,\n",
       "                                     missing=None, n_estimators=100, n_jobs=1,\n",
       "                                     nthread=None, objective='binary:logistic',\n",
       "                                     random_state=0, reg_alpha=0, reg_lambda=1,\n",
       "                                     scale_pos_weight=1, seed=None, silent=None,\n",
       "                                     subsample=1, verbosity=1),\n",
       "             iid='deprecated', n_jobs=-1,\n",
       "             param_grid={'learning_rate': [0.01, 0.1, 0.05],\n",
       "                         'max_depth': [3, 4, 6],\n",
       "                         'min_samples_split': [2, 5, 100],\n",
       "                         'n_estimators': [100, 500, 1000],\n",
       "                         'subsample': [0.6, 0.8, 1.0]},\n",
       "             pre_dispatch='2*n_jobs', refit=True, return_train_score=False,\n",
       "             scoring=None, verbose=2)"
      ]
     },
     "execution_count": 182,
     "metadata": {},
     "output_type": "execute_result"
    }
   ],
   "source": [
    "xgb_cv_model.fit(X_train, y_train)"
   ]
  },
  {
   "cell_type": "markdown",
   "metadata": {},
   "source": [
    "En iyi parametreleri ve en iyi skoru görüntüleyelim."
   ]
  },
  {
   "cell_type": "code",
   "execution_count": 183,
   "metadata": {},
   "outputs": [
    {
     "name": "stdout",
     "output_type": "stream",
     "text": [
      "En iyi parametreler: {'learning_rate': 0.1, 'max_depth': 3, 'min_samples_split': 2, 'n_estimators': 500, 'subsample': 0.6}\n",
      "En iyi skor: 0.5928571428571427\n"
     ]
    }
   ],
   "source": [
    "print(\"En iyi parametreler: \" + str(xgb_cv_model.best_params_))\n",
    "print(\"En iyi skor: \" + str(xgb_cv_model.best_score_))"
   ]
  },
  {
   "cell_type": "markdown",
   "metadata": {},
   "source": [
    "En iyi parametreler ile modelimizi kurup eğitelim."
   ]
  },
  {
   "cell_type": "code",
   "execution_count": 184,
   "metadata": {},
   "outputs": [],
   "source": [
    "xgb = XGBClassifier(learning_rate = xgb_cv_model.best_params_[\"learning_rate\"],\n",
    "                   max_depth = xgb_cv_model.best_params_[\"max_depth\"],\n",
    "                   min_samples_split = xgb_cv_model.best_params_[\"min_samples_split\"],\n",
    "                   n_estimators = xgb_cv_model.best_params_[\"n_estimators\"],\n",
    "                   subsample = xgb_cv_model.best_params_[\"subsample\"])"
   ]
  },
  {
   "cell_type": "code",
   "execution_count": 185,
   "metadata": {},
   "outputs": [],
   "source": [
    "xgb_tuned = xgb.fit(X_train, y_train)"
   ]
  },
  {
   "cell_type": "markdown",
   "metadata": {},
   "source": [
    "### XGBoost Modeli Tahminleri ve Başarı Metrikleri "
   ]
  },
  {
   "cell_type": "markdown",
   "metadata": {},
   "source": [
    "Tahmin için kurduğumuz modelin \"predict()\" fonksiyonuna test için ayırdığımız \"X_test\" parametresini vereceğiz. "
   ]
  },
  {
   "cell_type": "code",
   "execution_count": 186,
   "metadata": {},
   "outputs": [],
   "source": [
    "y_pred = xgb_tuned.predict(X_test)"
   ]
  },
  {
   "cell_type": "markdown",
   "metadata": {},
   "source": [
    "Bu sayede tahmin değerleri ile gerçek değerleri gözlemleyebileceğimiz karmaşıklık matrisini çizdirebiliriz. "
   ]
  },
  {
   "cell_type": "code",
   "execution_count": 187,
   "metadata": {},
   "outputs": [
    {
     "name": "stdout",
     "output_type": "stream",
     "text": [
      "[[11  1]\n",
      " [ 9  3]]\n"
     ]
    }
   ],
   "source": [
    "karmasiklik_matrisi = confusion_matrix(y_test, y_pred)\n",
    "print(karmasiklik_matrisi)"
   ]
  },
  {
   "cell_type": "markdown",
   "metadata": {},
   "source": [
    "Karmaşıklık matrisi ile modelin doğru ve yanlış tahminlerini mukayese edebiliriz. Sol üst kısım ve sağ alt kısım doğru tahmin sayıları iken, diğer köşegen yanlış tahmin sayılarıdır. Aşağıda yapılan işlemler sonucu modelin karmaşıklık matris için başarı skoru yüzdelik ölçekte görüntülenmektedir."
   ]
  },
  {
   "cell_type": "code",
   "execution_count": 188,
   "metadata": {},
   "outputs": [
    {
     "data": {
      "text/plain": [
       "58.333333333333336"
      ]
     },
     "execution_count": 188,
     "metadata": {},
     "output_type": "execute_result"
    }
   ],
   "source": [
    "ConfusionMatrixScore = (karmasiklik_matrisi[0][0] + karmasiklik_matrisi[1][1]) / (karmasiklik_matrisi[0][0] + karmasiklik_matrisi[1][1] + karmasiklik_matrisi[1][0] + karmasiklik_matrisi[0][1])\n",
    "ConfusionMatrixScore  = ConfusionMatrixScore*100\n",
    "ConfusionMatrixScore"
   ]
  },
  {
   "cell_type": "markdown",
   "metadata": {},
   "source": [
    "Hazır fonksiyon olan \"accuracy_score()\" ile de aynı çıktıyı alırsak skorun sağlamasını yapmış olacağız."
   ]
  },
  {
   "cell_type": "code",
   "execution_count": 189,
   "metadata": {},
   "outputs": [
    {
     "data": {
      "text/plain": [
       "0.5833333333333334"
      ]
     },
     "execution_count": 189,
     "metadata": {},
     "output_type": "execute_result"
    }
   ],
   "source": [
    "accuracy_score(y_test, y_pred)"
   ]
  },
  {
   "cell_type": "markdown",
   "metadata": {},
   "source": [
    "Öte yandan sınıflandırma raporu olarak da bilinen \"classification_report()\" fonksiyonu bize model hakkında pek çok ayrıntılı bilgiyi detaylı olarak sunar. Modelin başarı durumunu özetleyen, doğruluk, duyarlılık, destek, ağırlıklı ortalama, F istatistikleri gibi pek çok başarı metriğine sınıflandırma raporunu kullanarak erişebiliriz."
   ]
  },
  {
   "cell_type": "code",
   "execution_count": 190,
   "metadata": {},
   "outputs": [
    {
     "name": "stdout",
     "output_type": "stream",
     "text": [
      "              precision    recall  f1-score   support\n",
      "\n",
      "           0       0.55      0.92      0.69        12\n",
      "           1       0.75      0.25      0.38        12\n",
      "\n",
      "    accuracy                           0.58        24\n",
      "   macro avg       0.65      0.58      0.53        24\n",
      "weighted avg       0.65      0.58      0.53        24\n",
      "\n"
     ]
    }
   ],
   "source": [
    "print(classification_report(y_test, y_pred))"
   ]
  },
  {
   "cell_type": "markdown",
   "metadata": {},
   "source": [
    "Sınıflandırma algoritmalarında kullanılan pek çok başarı metriği bazı durumlarda yanıltıcı olabilmektedir. Bu gibi durumlar için ROC - AUC grafiği çizdirilir ve ROC eğrisinin(mavi çizgi) altında kalan alanın büyüklüğü modelin doğruluğu hakkında bize fikir verir. Kırmızı kesikli çizgi ise modelin başarısının %50 olduğu durumu temsil eder. "
   ]
  },
  {
   "cell_type": "code",
   "execution_count": 191,
   "metadata": {},
   "outputs": [
    {
     "data": {
      "image/png": "[encoded data removed]",
      "text/plain": [
       "<Figure size 432x288 with 1 Axes>"
      ]
     },
     "metadata": {
      "needs_background": "light"
     },
     "output_type": "display_data"
    }
   ],
   "source": [
    "logit_roc_auc = roc_auc_score(y_test, xgb_tuned.predict(X_test))\n",
    "\n",
    "fpr, tpr, thresholds = roc_curve(y_test, xgb_tuned.predict_proba(X_test)[:,1])\n",
    "plt.figure()\n",
    "plt.plot(fpr, tpr, label='AUC (area = %0.2f)' % logit_roc_auc)\n",
    "plt.plot([0, 1], [0, 1],'r--')\n",
    "plt.xlim([0.0, 1.0])\n",
    "plt.ylim([0.0, 1.05])\n",
    "plt.xlabel('False Positive Oranı')\n",
    "plt.ylabel('True Positive Oranı')\n",
    "plt.title('ROC')\n",
    "plt.show()"
   ]
  },
  {
   "cell_type": "markdown",
   "metadata": {},
   "source": [
    "Burada önemli olan AUC(area under curve) dediğimiz, çizginin altında kalan alanın büyüklüğüdür. Söz konusu alan 1'e ne kadar yakınsa model o kadar başarılı sayılır."
   ]
  },
  {
   "cell_type": "code",
   "execution_count": 192,
   "metadata": {},
   "outputs": [
    {
     "data": {
      "text/plain": [
       "69.44444444444444"
      ]
     },
     "execution_count": 192,
     "metadata": {},
     "output_type": "execute_result"
    }
   ],
   "source": [
    "AUC = metrics.auc(fpr, tpr)\n",
    "AUC = AUC * 100\n",
    "AUC"
   ]
  },
  {
   "cell_type": "markdown",
   "metadata": {},
   "source": [
    "Tek bir defa başarı skoruna bakmak, model hakkında karar vermek için çok erken ve yanıltıcıdır. Modeli defalarca farklı test ve eğitim olacak şekilde kombinleyerek skorlamak daha sağlıklı olacaktır."
   ]
  },
  {
   "cell_type": "code",
   "execution_count": 193,
   "metadata": {},
   "outputs": [
    {
     "data": {
      "text/plain": [
       "array([0.66666667, 0.33333333, 1.        , 0.66666667, 0.5       ,\n",
       "       1.        , 0.5       , 1.        , 0.        , 1.        ])"
      ]
     },
     "execution_count": 193,
     "metadata": {},
     "output_type": "execute_result"
    }
   ],
   "source": [
    "cross_val_score(xgb_tuned, X_test, y_test, cv = 10)"
   ]
  },
  {
   "cell_type": "markdown",
   "metadata": {},
   "source": [
    "Modeli 10 defa skorladık, bunların ortalamasını alarak daha kesin bir sonuç elde edebiliriz."
   ]
  },
  {
   "cell_type": "code",
   "execution_count": 194,
   "metadata": {},
   "outputs": [
    {
     "data": {
      "text/plain": [
       "66.66666666666666"
      ]
     },
     "execution_count": 194,
     "metadata": {},
     "output_type": "execute_result"
    }
   ],
   "source": [
    "CrossValScore = cross_val_score(xgb_tuned, X_test, y_test, cv = 10).mean()\n",
    "CrossValScore = CrossValScore * 100\n",
    "CrossValScore"
   ]
  },
  {
   "cell_type": "markdown",
   "metadata": {},
   "source": [
    "Modelin kesinlik skorunu hesaplayıp yüzdelik ölçekte yazdıralım."
   ]
  },
  {
   "cell_type": "code",
   "execution_count": 195,
   "metadata": {},
   "outputs": [
    {
     "data": {
      "text/plain": [
       "65.0"
      ]
     },
     "execution_count": 195,
     "metadata": {},
     "output_type": "execute_result"
    }
   ],
   "source": [
    "PrecisionScore = metrics.precision_score(y_test, y_pred, average='weighted')\n",
    "PrecisionScore = PrecisionScore * 100\n",
    "PrecisionScore"
   ]
  },
  {
   "cell_type": "markdown",
   "metadata": {},
   "source": [
    "Modelin duyarlılık skorunu hesaplayıp yüzdelik ölçekte yazdıralım."
   ]
  },
  {
   "cell_type": "code",
   "execution_count": 196,
   "metadata": {},
   "outputs": [
    {
     "data": {
      "text/plain": [
       "58.333333333333336"
      ]
     },
     "execution_count": 196,
     "metadata": {},
     "output_type": "execute_result"
    }
   ],
   "source": [
    "RecallScore = recall_score(y_test, y_pred, average='weighted')\n",
    "RecallScore = RecallScore * 100\n",
    "RecallScore"
   ]
  },
  {
   "cell_type": "markdown",
   "metadata": {},
   "source": [
    "Modelin F1 skorunu hesaplayıp yüzdelik ölçekte yazdıralım."
   ]
  },
  {
   "cell_type": "code",
   "execution_count": 197,
   "metadata": {},
   "outputs": [
    {
     "data": {
      "text/plain": [
       "53.124999999999986"
      ]
     },
     "execution_count": 197,
     "metadata": {},
     "output_type": "execute_result"
    }
   ],
   "source": [
    "F1Score = f1_score(y_test, y_pred, average='weighted')  \n",
    "F1Score = F1Score * 100\n",
    "F1Score"
   ]
  },
  {
   "cell_type": "markdown",
   "metadata": {},
   "source": [
    "Modelin ROC - AUC skorunu hesaplayıp yüzdelik ölçekte yazdıralım."
   ]
  },
  {
   "cell_type": "code",
   "execution_count": 198,
   "metadata": {},
   "outputs": [
    {
     "data": {
      "text/plain": [
       "58.33333333333333"
      ]
     },
     "execution_count": 198,
     "metadata": {},
     "output_type": "execute_result"
    }
   ],
   "source": [
    "ROC_AUC_Score = roc_auc_score(y_test, y_pred)\n",
    "ROC_AUC_Score = ROC_AUC_Score * 100\n",
    "ROC_AUC_Score"
   ]
  },
  {
   "cell_type": "markdown",
   "metadata": {},
   "source": [
    "Modelin Log Loss skorunu hesaplayıp yazdıralım."
   ]
  },
  {
   "cell_type": "code",
   "execution_count": 199,
   "metadata": {},
   "outputs": [
    {
     "data": {
      "text/plain": [
       "14.391190147772377"
      ]
     },
     "execution_count": 199,
     "metadata": {},
     "output_type": "execute_result"
    }
   ],
   "source": [
    "LogLoss = log_loss(y_test, y_pred)\n",
    "LogLoss"
   ]
  },
  {
   "cell_type": "markdown",
   "metadata": {},
   "source": [
    "Modelin Brier skorunu hesaplayıp yüzdelik ölçekte yazdıralım."
   ]
  },
  {
   "cell_type": "code",
   "execution_count": 200,
   "metadata": {},
   "outputs": [
    {
     "data": {
      "text/plain": [
       "99.58333333333333"
      ]
     },
     "execution_count": 200,
     "metadata": {},
     "output_type": "execute_result"
    }
   ],
   "source": [
    "BrierScore = brier_score_loss(y_test, y_pred)\n",
    "BrierScore = 100 - BrierScore\n",
    "BrierScore"
   ]
  },
  {
   "cell_type": "markdown",
   "metadata": {},
   "source": [
    "Modelin dengeli doğruluk skorunu hesaplayıp yüzdelik ölçekte yazdıralım."
   ]
  },
  {
   "cell_type": "code",
   "execution_count": 201,
   "metadata": {},
   "outputs": [
    {
     "data": {
      "text/plain": [
       "58.33333333333333"
      ]
     },
     "execution_count": 201,
     "metadata": {},
     "output_type": "execute_result"
    }
   ],
   "source": [
    "BalancedAccuracyScore = balanced_accuracy_score(y_test, y_pred)\n",
    "BalancedAccuracyScore = BalancedAccuracyScore * 100\n",
    "BalancedAccuracyScore"
   ]
  },
  {
   "cell_type": "markdown",
   "metadata": {},
   "source": [
    "Modelin Jaccard skorunu hesaplayıp yüzdelik ölçekte yazdıralım."
   ]
  },
  {
   "cell_type": "code",
   "execution_count": 202,
   "metadata": {},
   "outputs": [
    {
     "data": {
      "text/plain": [
       "23.076923076923077"
      ]
     },
     "execution_count": 202,
     "metadata": {},
     "output_type": "execute_result"
    }
   ],
   "source": [
    "JaccardScore = jaccard_score(y_test, y_pred)\n",
    "JaccardScore = JaccardScore * 100\n",
    "JaccardScore"
   ]
  },
  {
   "cell_type": "markdown",
   "metadata": {},
   "source": [
    "Modelin bu makine öğrenmesi modeli için verdiği tüm başarı metriklerini \"sonuc\" veri çerçevemize gözlem olarak ekleyelim."
   ]
  },
  {
   "cell_type": "code",
   "execution_count": 203,
   "metadata": {},
   "outputs": [],
   "source": [
    "sonuc = pd.DataFrame([[\"XGB\", ConfusionMatrixScore, CrossValScore, ROC_AUC_Score, AUC, RecallScore, F1Score, PrecisionScore, JaccardScore, BrierScore, BalancedAccuracyScore, LogLoss]], columns= [\"Model\", \"ConfusionMatrixScore\", \"CrossValScore\", \"ROC_AUC_Score\", \"AUC\", \"RecallScore\", \"F1Score\", \"PrecisionScore\", \"JaccardScore\",\"BrierScore\",\"BalancedAccuracyScore\", \"LogLoss\"])\n",
    "sonuclar = sonuclar.append(sonuc)"
   ]
  },
  {
   "cell_type": "markdown",
   "metadata": {},
   "source": [
    "## Light Gradient Boosting Machine"
   ]
  },
  {
   "cell_type": "markdown",
   "metadata": {},
   "source": [
    "### LGBM Modeli İnşası ve Eğitimi"
   ]
  },
  {
   "cell_type": "markdown",
   "metadata": {},
   "source": [
    "LGBM algoritması için \"Gradient Boosting Machine\" algoritmalarında gördüğümüz en kritik 5 parametreyi optimize ederek modeli kurar ve eğitiriz."
   ]
  },
  {
   "cell_type": "code",
   "execution_count": 204,
   "metadata": {},
   "outputs": [],
   "source": [
    "lgbm = LGBMClassifier()"
   ]
  },
  {
   "cell_type": "code",
   "execution_count": 205,
   "metadata": {},
   "outputs": [
    {
     "data": {
      "text/plain": [
       "LGBMClassifier(boosting_type='gbdt', class_weight=None, colsample_bytree=1.0,\n",
       "               importance_type='split', learning_rate=0.1, max_depth=-1,\n",
       "               min_child_samples=20, min_child_weight=0.001, min_split_gain=0.0,\n",
       "               n_estimators=100, n_jobs=-1, num_leaves=31, objective=None,\n",
       "               random_state=None, reg_alpha=0.0, reg_lambda=0.0, silent=True,\n",
       "               subsample=1.0, subsample_for_bin=200000, subsample_freq=0)"
      ]
     },
     "execution_count": 205,
     "metadata": {},
     "output_type": "execute_result"
    }
   ],
   "source": [
    "lgbm"
   ]
  },
  {
   "cell_type": "code",
   "execution_count": 206,
   "metadata": {},
   "outputs": [],
   "source": [
    "lgbm_params = {\"n_estimators\" : [100,500,2000],\n",
    "              \"subsample\" : [0.6, 0.8, 1],\n",
    "              \"max_depth\" : [3,4,5,6],\n",
    "              \"learning_rate\" : [0.1, 0.001, 0.002, 0.05],\n",
    "              \"min_child_samples\" : [5,10,20]}"
   ]
  },
  {
   "cell_type": "code",
   "execution_count": 209,
   "metadata": {},
   "outputs": [],
   "source": [
    "lgbm_cv_model = GridSearchCV(lgbm, lgbm_params, cv = 5, n_jobs = -1, verbose = 2)"
   ]
  },
  {
   "cell_type": "code",
   "execution_count": 210,
   "metadata": {
    "scrolled": true
   },
   "outputs": [
    {
     "name": "stdout",
     "output_type": "stream",
     "text": [
      "Fitting 7 folds for each of 432 candidates, totalling 3024 fits\n"
     ]
    },
    {
     "name": "stderr",
     "output_type": "stream",
     "text": [
      "[Parallel(n_jobs=-1)]: Using backend LokyBackend with 12 concurrent workers.\n"
     ]
    },
    {
     "ename": "KeyboardInterrupt",
     "evalue": "",
     "output_type": "error",
     "traceback": [
      "\u001b[1;31m---------------------------------------------------------------------------\u001b[0m",
      "\u001b[1;31mKeyboardInterrupt\u001b[0m                         Traceback (most recent call last)",
      "\u001b[1;32m<ipython-input-210-9e9af50ac0d9>\u001b[0m in \u001b[0;36m<module>\u001b[1;34m\u001b[0m\n\u001b[1;32m----> 1\u001b[1;33m \u001b[0mlgbm_cv_model\u001b[0m\u001b[1;33m.\u001b[0m\u001b[0mfit\u001b[0m\u001b[1;33m(\u001b[0m\u001b[0mX_train\u001b[0m\u001b[1;33m,\u001b[0m \u001b[0my_train\u001b[0m\u001b[1;33m)\u001b[0m\u001b[1;33m\u001b[0m\u001b[1;33m\u001b[0m\u001b[0m\n\u001b[0m",
      "\u001b[1;32m~\\.conda\\envs\\muratxs\\lib\\site-packages\\sklearn\\model_selection\\_search.py\u001b[0m in \u001b[0;36mfit\u001b[1;34m(self, X, y, groups, **fit_params)\u001b[0m\n\u001b[0;32m    710\u001b[0m                 \u001b[1;32mreturn\u001b[0m \u001b[0mresults\u001b[0m\u001b[1;33m\u001b[0m\u001b[1;33m\u001b[0m\u001b[0m\n\u001b[0;32m    711\u001b[0m \u001b[1;33m\u001b[0m\u001b[0m\n\u001b[1;32m--> 712\u001b[1;33m             \u001b[0mself\u001b[0m\u001b[1;33m.\u001b[0m\u001b[0m_run_search\u001b[0m\u001b[1;33m(\u001b[0m\u001b[0mevaluate_candidates\u001b[0m\u001b[1;33m)\u001b[0m\u001b[1;33m\u001b[0m\u001b[1;33m\u001b[0m\u001b[0m\n\u001b[0m\u001b[0;32m    713\u001b[0m \u001b[1;33m\u001b[0m\u001b[0m\n\u001b[0;32m    714\u001b[0m         \u001b[1;31m# For multi-metric evaluation, store the best_index_, best_params_ and\u001b[0m\u001b[1;33m\u001b[0m\u001b[1;33m\u001b[0m\u001b[1;33m\u001b[0m\u001b[0m\n",
      "\u001b[1;32m~\\.conda\\envs\\muratxs\\lib\\site-packages\\sklearn\\model_selection\\_search.py\u001b[0m in \u001b[0;36m_run_search\u001b[1;34m(self, evaluate_candidates)\u001b[0m\n\u001b[0;32m   1151\u001b[0m     \u001b[1;32mdef\u001b[0m \u001b[0m_run_search\u001b[0m\u001b[1;33m(\u001b[0m\u001b[0mself\u001b[0m\u001b[1;33m,\u001b[0m \u001b[0mevaluate_candidates\u001b[0m\u001b[1;33m)\u001b[0m\u001b[1;33m:\u001b[0m\u001b[1;33m\u001b[0m\u001b[1;33m\u001b[0m\u001b[0m\n\u001b[0;32m   1152\u001b[0m         \u001b[1;34m\"\"\"Search all candidates in param_grid\"\"\"\u001b[0m\u001b[1;33m\u001b[0m\u001b[1;33m\u001b[0m\u001b[0m\n\u001b[1;32m-> 1153\u001b[1;33m         \u001b[0mevaluate_candidates\u001b[0m\u001b[1;33m(\u001b[0m\u001b[0mParameterGrid\u001b[0m\u001b[1;33m(\u001b[0m\u001b[0mself\u001b[0m\u001b[1;33m.\u001b[0m\u001b[0mparam_grid\u001b[0m\u001b[1;33m)\u001b[0m\u001b[1;33m)\u001b[0m\u001b[1;33m\u001b[0m\u001b[1;33m\u001b[0m\u001b[0m\n\u001b[0m\u001b[0;32m   1154\u001b[0m \u001b[1;33m\u001b[0m\u001b[0m\n\u001b[0;32m   1155\u001b[0m \u001b[1;33m\u001b[0m\u001b[0m\n",
      "\u001b[1;32m~\\.conda\\envs\\muratxs\\lib\\site-packages\\sklearn\\model_selection\\_search.py\u001b[0m in \u001b[0;36mevaluate_candidates\u001b[1;34m(candidate_params)\u001b[0m\n\u001b[0;32m    689\u001b[0m                                \u001b[1;32mfor\u001b[0m \u001b[0mparameters\u001b[0m\u001b[1;33m,\u001b[0m \u001b[1;33m(\u001b[0m\u001b[0mtrain\u001b[0m\u001b[1;33m,\u001b[0m \u001b[0mtest\u001b[0m\u001b[1;33m)\u001b[0m\u001b[1;33m\u001b[0m\u001b[1;33m\u001b[0m\u001b[0m\n\u001b[0;32m    690\u001b[0m                                in product(candidate_params,\n\u001b[1;32m--> 691\u001b[1;33m                                           cv.split(X, y, groups)))\n\u001b[0m\u001b[0;32m    692\u001b[0m \u001b[1;33m\u001b[0m\u001b[0m\n\u001b[0;32m    693\u001b[0m                 \u001b[1;32mif\u001b[0m \u001b[0mlen\u001b[0m\u001b[1;33m(\u001b[0m\u001b[0mout\u001b[0m\u001b[1;33m)\u001b[0m \u001b[1;33m<\u001b[0m \u001b[1;36m1\u001b[0m\u001b[1;33m:\u001b[0m\u001b[1;33m\u001b[0m\u001b[1;33m\u001b[0m\u001b[0m\n",
      "\u001b[1;32m~\\.conda\\envs\\muratxs\\lib\\site-packages\\joblib\\parallel.py\u001b[0m in \u001b[0;36m__call__\u001b[1;34m(self, iterable)\u001b[0m\n\u001b[0;32m   1015\u001b[0m \u001b[1;33m\u001b[0m\u001b[0m\n\u001b[0;32m   1016\u001b[0m             \u001b[1;32mwith\u001b[0m \u001b[0mself\u001b[0m\u001b[1;33m.\u001b[0m\u001b[0m_backend\u001b[0m\u001b[1;33m.\u001b[0m\u001b[0mretrieval_context\u001b[0m\u001b[1;33m(\u001b[0m\u001b[1;33m)\u001b[0m\u001b[1;33m:\u001b[0m\u001b[1;33m\u001b[0m\u001b[1;33m\u001b[0m\u001b[0m\n\u001b[1;32m-> 1017\u001b[1;33m                 \u001b[0mself\u001b[0m\u001b[1;33m.\u001b[0m\u001b[0mretrieve\u001b[0m\u001b[1;33m(\u001b[0m\u001b[1;33m)\u001b[0m\u001b[1;33m\u001b[0m\u001b[1;33m\u001b[0m\u001b[0m\n\u001b[0m\u001b[0;32m   1018\u001b[0m             \u001b[1;31m# Make sure that we get a last message telling us we are done\u001b[0m\u001b[1;33m\u001b[0m\u001b[1;33m\u001b[0m\u001b[1;33m\u001b[0m\u001b[0m\n\u001b[0;32m   1019\u001b[0m             \u001b[0melapsed_time\u001b[0m \u001b[1;33m=\u001b[0m \u001b[0mtime\u001b[0m\u001b[1;33m.\u001b[0m\u001b[0mtime\u001b[0m\u001b[1;33m(\u001b[0m\u001b[1;33m)\u001b[0m \u001b[1;33m-\u001b[0m \u001b[0mself\u001b[0m\u001b[1;33m.\u001b[0m\u001b[0m_start_time\u001b[0m\u001b[1;33m\u001b[0m\u001b[1;33m\u001b[0m\u001b[0m\n",
      "\u001b[1;32m~\\.conda\\envs\\muratxs\\lib\\site-packages\\joblib\\parallel.py\u001b[0m in \u001b[0;36mretrieve\u001b[1;34m(self)\u001b[0m\n\u001b[0;32m    907\u001b[0m             \u001b[1;32mtry\u001b[0m\u001b[1;33m:\u001b[0m\u001b[1;33m\u001b[0m\u001b[1;33m\u001b[0m\u001b[0m\n\u001b[0;32m    908\u001b[0m                 \u001b[1;32mif\u001b[0m \u001b[0mgetattr\u001b[0m\u001b[1;33m(\u001b[0m\u001b[0mself\u001b[0m\u001b[1;33m.\u001b[0m\u001b[0m_backend\u001b[0m\u001b[1;33m,\u001b[0m \u001b[1;34m'supports_timeout'\u001b[0m\u001b[1;33m,\u001b[0m \u001b[1;32mFalse\u001b[0m\u001b[1;33m)\u001b[0m\u001b[1;33m:\u001b[0m\u001b[1;33m\u001b[0m\u001b[1;33m\u001b[0m\u001b[0m\n\u001b[1;32m--> 909\u001b[1;33m                     \u001b[0mself\u001b[0m\u001b[1;33m.\u001b[0m\u001b[0m_output\u001b[0m\u001b[1;33m.\u001b[0m\u001b[0mextend\u001b[0m\u001b[1;33m(\u001b[0m\u001b[0mjob\u001b[0m\u001b[1;33m.\u001b[0m\u001b[0mget\u001b[0m\u001b[1;33m(\u001b[0m\u001b[0mtimeout\u001b[0m\u001b[1;33m=\u001b[0m\u001b[0mself\u001b[0m\u001b[1;33m.\u001b[0m\u001b[0mtimeout\u001b[0m\u001b[1;33m)\u001b[0m\u001b[1;33m)\u001b[0m\u001b[1;33m\u001b[0m\u001b[1;33m\u001b[0m\u001b[0m\n\u001b[0m\u001b[0;32m    910\u001b[0m                 \u001b[1;32melse\u001b[0m\u001b[1;33m:\u001b[0m\u001b[1;33m\u001b[0m\u001b[1;33m\u001b[0m\u001b[0m\n\u001b[0;32m    911\u001b[0m                     \u001b[0mself\u001b[0m\u001b[1;33m.\u001b[0m\u001b[0m_output\u001b[0m\u001b[1;33m.\u001b[0m\u001b[0mextend\u001b[0m\u001b[1;33m(\u001b[0m\u001b[0mjob\u001b[0m\u001b[1;33m.\u001b[0m\u001b[0mget\u001b[0m\u001b[1;33m(\u001b[0m\u001b[1;33m)\u001b[0m\u001b[1;33m)\u001b[0m\u001b[1;33m\u001b[0m\u001b[1;33m\u001b[0m\u001b[0m\n",
      "\u001b[1;32m~\\.conda\\envs\\muratxs\\lib\\site-packages\\joblib\\_parallel_backends.py\u001b[0m in \u001b[0;36mwrap_future_result\u001b[1;34m(future, timeout)\u001b[0m\n\u001b[0;32m    560\u001b[0m         AsyncResults.get from multiprocessing.\"\"\"\n\u001b[0;32m    561\u001b[0m         \u001b[1;32mtry\u001b[0m\u001b[1;33m:\u001b[0m\u001b[1;33m\u001b[0m\u001b[1;33m\u001b[0m\u001b[0m\n\u001b[1;32m--> 562\u001b[1;33m             \u001b[1;32mreturn\u001b[0m \u001b[0mfuture\u001b[0m\u001b[1;33m.\u001b[0m\u001b[0mresult\u001b[0m\u001b[1;33m(\u001b[0m\u001b[0mtimeout\u001b[0m\u001b[1;33m=\u001b[0m\u001b[0mtimeout\u001b[0m\u001b[1;33m)\u001b[0m\u001b[1;33m\u001b[0m\u001b[1;33m\u001b[0m\u001b[0m\n\u001b[0m\u001b[0;32m    563\u001b[0m         \u001b[1;32mexcept\u001b[0m \u001b[0mLokyTimeoutError\u001b[0m\u001b[1;33m:\u001b[0m\u001b[1;33m\u001b[0m\u001b[1;33m\u001b[0m\u001b[0m\n\u001b[0;32m    564\u001b[0m             \u001b[1;32mraise\u001b[0m \u001b[0mTimeoutError\u001b[0m\u001b[1;33m(\u001b[0m\u001b[1;33m)\u001b[0m\u001b[1;33m\u001b[0m\u001b[1;33m\u001b[0m\u001b[0m\n",
      "\u001b[1;32m~\\.conda\\envs\\muratxs\\lib\\concurrent\\futures\\_base.py\u001b[0m in \u001b[0;36mresult\u001b[1;34m(self, timeout)\u001b[0m\n\u001b[0;32m    428\u001b[0m                 \u001b[1;32mreturn\u001b[0m \u001b[0mself\u001b[0m\u001b[1;33m.\u001b[0m\u001b[0m__get_result\u001b[0m\u001b[1;33m(\u001b[0m\u001b[1;33m)\u001b[0m\u001b[1;33m\u001b[0m\u001b[1;33m\u001b[0m\u001b[0m\n\u001b[0;32m    429\u001b[0m \u001b[1;33m\u001b[0m\u001b[0m\n\u001b[1;32m--> 430\u001b[1;33m             \u001b[0mself\u001b[0m\u001b[1;33m.\u001b[0m\u001b[0m_condition\u001b[0m\u001b[1;33m.\u001b[0m\u001b[0mwait\u001b[0m\u001b[1;33m(\u001b[0m\u001b[0mtimeout\u001b[0m\u001b[1;33m)\u001b[0m\u001b[1;33m\u001b[0m\u001b[1;33m\u001b[0m\u001b[0m\n\u001b[0m\u001b[0;32m    431\u001b[0m \u001b[1;33m\u001b[0m\u001b[0m\n\u001b[0;32m    432\u001b[0m             \u001b[1;32mif\u001b[0m \u001b[0mself\u001b[0m\u001b[1;33m.\u001b[0m\u001b[0m_state\u001b[0m \u001b[1;32min\u001b[0m \u001b[1;33m[\u001b[0m\u001b[0mCANCELLED\u001b[0m\u001b[1;33m,\u001b[0m \u001b[0mCANCELLED_AND_NOTIFIED\u001b[0m\u001b[1;33m]\u001b[0m\u001b[1;33m:\u001b[0m\u001b[1;33m\u001b[0m\u001b[1;33m\u001b[0m\u001b[0m\n",
      "\u001b[1;32m~\\.conda\\envs\\muratxs\\lib\\threading.py\u001b[0m in \u001b[0;36mwait\u001b[1;34m(self, timeout)\u001b[0m\n\u001b[0;32m    294\u001b[0m         \u001b[1;32mtry\u001b[0m\u001b[1;33m:\u001b[0m    \u001b[1;31m# restore state no matter what (e.g., KeyboardInterrupt)\u001b[0m\u001b[1;33m\u001b[0m\u001b[1;33m\u001b[0m\u001b[0m\n\u001b[0;32m    295\u001b[0m             \u001b[1;32mif\u001b[0m \u001b[0mtimeout\u001b[0m \u001b[1;32mis\u001b[0m \u001b[1;32mNone\u001b[0m\u001b[1;33m:\u001b[0m\u001b[1;33m\u001b[0m\u001b[1;33m\u001b[0m\u001b[0m\n\u001b[1;32m--> 296\u001b[1;33m                 \u001b[0mwaiter\u001b[0m\u001b[1;33m.\u001b[0m\u001b[0macquire\u001b[0m\u001b[1;33m(\u001b[0m\u001b[1;33m)\u001b[0m\u001b[1;33m\u001b[0m\u001b[1;33m\u001b[0m\u001b[0m\n\u001b[0m\u001b[0;32m    297\u001b[0m                 \u001b[0mgotit\u001b[0m \u001b[1;33m=\u001b[0m \u001b[1;32mTrue\u001b[0m\u001b[1;33m\u001b[0m\u001b[1;33m\u001b[0m\u001b[0m\n\u001b[0;32m    298\u001b[0m             \u001b[1;32melse\u001b[0m\u001b[1;33m:\u001b[0m\u001b[1;33m\u001b[0m\u001b[1;33m\u001b[0m\u001b[0m\n",
      "\u001b[1;31mKeyboardInterrupt\u001b[0m: "
     ]
    }
   ],
   "source": [
    "lgbm_cv_model.fit(X_train, y_train)"
   ]
  },
  {
   "cell_type": "markdown",
   "metadata": {},
   "source": [
    "En iyi parametreleri ve en iyi skoru görüntüleyelim."
   ]
  },
  {
   "cell_type": "code",
   "execution_count": null,
   "metadata": {},
   "outputs": [],
   "source": [
    "print(\"En iyi parametreler: \" + str(lgbm_cv_model.best_params_))\n",
    "print(\"En iyi skor: \" + str(lgbm_cv_model.best_score_))"
   ]
  },
  {
   "cell_type": "markdown",
   "metadata": {},
   "source": [
    "En iyi parametreler ile modeli kurup eğitelim."
   ]
  },
  {
   "cell_type": "code",
   "execution_count": null,
   "metadata": {},
   "outputs": [],
   "source": [
    "lgbm = LGBMClassifier(learning_rate = lgbm_cv_model.best_params_[\"learning_rate\"],\n",
    "                     max_depth = lgbm_cv_model.best_params_[\"max_depth\"],\n",
    "                     subsample = lgbm_cv_model.best_params_[\"subsample\"],\n",
    "                     n_estimators = lgbm_cv_model.best_params_[\"n_estimators\"],\n",
    "                     min_child_samples = lgbm_cv_model.best_params_[\"min_child_samples\"])"
   ]
  },
  {
   "cell_type": "code",
   "execution_count": null,
   "metadata": {},
   "outputs": [],
   "source": [
    "lgbm_tuned = lgbm.fit(X_train, y_train)"
   ]
  },
  {
   "cell_type": "markdown",
   "metadata": {},
   "source": [
    "### LGBM Modeli Tahminleri ve Başarı Metrikleri "
   ]
  },
  {
   "cell_type": "markdown",
   "metadata": {},
   "source": [
    "Tahmin için kurduğumuz modelin \"predict()\" fonksiyonuna test için ayırdığımız \"X_test\" parametresini vereceğiz. "
   ]
  },
  {
   "cell_type": "code",
   "execution_count": null,
   "metadata": {},
   "outputs": [],
   "source": [
    "y_pred = lgbm_tuned.predict(X_test)"
   ]
  },
  {
   "cell_type": "markdown",
   "metadata": {},
   "source": [
    "Bu sayede tahmin değerleri ile gerçek değerleri gözlemleyebileceğimiz karmaşıklık matrisini çizdirebiliriz. "
   ]
  },
  {
   "cell_type": "code",
   "execution_count": null,
   "metadata": {},
   "outputs": [],
   "source": [
    "karmasiklik_matrisi = confusion_matrix(y_test, y_pred)\n",
    "print(karmasiklik_matrisi)"
   ]
  },
  {
   "cell_type": "markdown",
   "metadata": {},
   "source": [
    "Karmaşıklık matrisi ile modelin doğru ve yanlış tahminlerini mukayese edebiliriz. Sol üst kısım ve sağ alt kısım doğru tahmin sayıları iken, diğer köşegen yanlış tahmin sayılarıdır. Aşağıda yapılan işlemler sonucu modelin karmaşıklık matris için başarı skoru yüzdelik ölçekte görüntülenmektedir."
   ]
  },
  {
   "cell_type": "code",
   "execution_count": null,
   "metadata": {},
   "outputs": [],
   "source": [
    "ConfusionMatrixScore = (karmasiklik_matrisi[0][0] + karmasiklik_matrisi[1][1]) / (karmasiklik_matrisi[0][0] + karmasiklik_matrisi[1][1] + karmasiklik_matrisi[1][0] + karmasiklik_matrisi[0][1])\n",
    "ConfusionMatrixScore  = ConfusionMatrixScore * 100\n",
    "ConfusionMatrixScore"
   ]
  },
  {
   "cell_type": "markdown",
   "metadata": {},
   "source": [
    "Hazır fonksiyon olan \"accuracy_score()\" ile de aynı çıktıyı alırsak skorun sağlamasını yapmış olacağız."
   ]
  },
  {
   "cell_type": "code",
   "execution_count": null,
   "metadata": {},
   "outputs": [],
   "source": [
    "accuracy_score(y_test, y_pred)"
   ]
  },
  {
   "cell_type": "markdown",
   "metadata": {},
   "source": [
    "Öte yandan sınıflandırma raporu olarak da bilinen \"classification_report()\" fonksiyonu bize model hakkında pek çok ayrıntılı bilgiyi detaylı olarak sunar. Modelin başarı durumunu özetleyen, doğruluk, duyarlılık, destek, ağırlıklı ortalama, F istatistikleri gibi pek çok başarı metriğine sınıflandırma raporunu kullanarak erişebiliriz."
   ]
  },
  {
   "cell_type": "code",
   "execution_count": null,
   "metadata": {},
   "outputs": [],
   "source": [
    "print(classification_report(y_test, y_pred))"
   ]
  },
  {
   "cell_type": "markdown",
   "metadata": {},
   "source": [
    "Sınıflandırma algoritmalarında kullanılan pek çok başarı metriği bazı durumlarda yanıltıcı olabilmektedir. Bu gibi durumlar için ROC - AUC grafiği çizdirilir ve ROC eğrisinin(mavi çizgi) altında kalan alanın büyüklüğü modelin doğruluğu hakkında bize fikir verir. Kırmızı kesikli çizgi ise modelin başarısının %50 olduğu durumu temsil eder. "
   ]
  },
  {
   "cell_type": "code",
   "execution_count": null,
   "metadata": {},
   "outputs": [],
   "source": [
    "logit_roc_auc = roc_auc_score(y_test, lgbm_tuned.predict(X_test))\n",
    "\n",
    "fpr, tpr, thresholds = roc_curve(y_test, lgbm_tuned.predict_proba(X_test)[:,1])\n",
    "plt.figure(figsize=(10,7))\n",
    "plt.plot(fpr, tpr, label='AUC (area = %0.2f)' % logit_roc_auc)\n",
    "plt.plot([0, 1], [0, 1],'r--')\n",
    "plt.xlim([0.0, 1.0])\n",
    "plt.ylim([0.0, 1.05])\n",
    "plt.xlabel('False Positive Oranı')\n",
    "plt.ylabel('True Positive Oranı')\n",
    "plt.title('ROC')\n",
    "plt.show()"
   ]
  },
  {
   "cell_type": "markdown",
   "metadata": {},
   "source": [
    "Burada önemli olan AUC(area under curve) dediğimiz, çizginin altında kalan alanın büyüklüğüdür. Söz konusu alan 1'e ne kadar yakınsa model o kadar başarılı sayılır."
   ]
  },
  {
   "cell_type": "code",
   "execution_count": null,
   "metadata": {},
   "outputs": [],
   "source": [
    "AUC = metrics.auc(fpr, tpr)\n",
    "AUC = AUC * 100\n",
    "AUC"
   ]
  },
  {
   "cell_type": "markdown",
   "metadata": {},
   "source": [
    "Tek bir defa başarı skoruna bakmak, model hakkında karar vermek için çok erken ve yanıltıcıdır. Modeli defalarca farklı test ve eğitim olacak şekilde kombinleyerek skorlamak daha sağlıklı olacaktır."
   ]
  },
  {
   "cell_type": "code",
   "execution_count": null,
   "metadata": {},
   "outputs": [],
   "source": [
    "cross_val_score(lgbm_tuned, X_test, y_test, cv = 10)"
   ]
  },
  {
   "cell_type": "markdown",
   "metadata": {},
   "source": [
    "Modeli 10 defa skorladık, bunların ortalamasını alarak daha kesin bir sonuç elde edebiliriz."
   ]
  },
  {
   "cell_type": "code",
   "execution_count": null,
   "metadata": {},
   "outputs": [],
   "source": [
    "CrossValScore = cross_val_score(lgbm_tuned, X_test, y_test, cv = 10).mean()\n",
    "CrossValScore = CrossValScore * 100\n",
    "CrossValScore"
   ]
  },
  {
   "cell_type": "markdown",
   "metadata": {},
   "source": [
    "Modelin kesinlik skorunu hesaplayıp yüzdelik ölçekte yazdıralım."
   ]
  },
  {
   "cell_type": "code",
   "execution_count": null,
   "metadata": {},
   "outputs": [],
   "source": [
    "PrecisionScore = metrics.precision_score(y_test, y_pred, average='weighted')\n",
    "PrecisionScore = PrecisionScore * 100\n",
    "PrecisionScore"
   ]
  },
  {
   "cell_type": "markdown",
   "metadata": {},
   "source": [
    "Modelin duyarlılık skorunu hesaplayıp yüzdelik ölçekte yazdıralım."
   ]
  },
  {
   "cell_type": "code",
   "execution_count": null,
   "metadata": {},
   "outputs": [],
   "source": [
    "RecallScore = recall_score(y_test, y_pred, average='weighted')\n",
    "RecallScore = RecallScore * 100\n",
    "RecallScore"
   ]
  },
  {
   "cell_type": "markdown",
   "metadata": {},
   "source": [
    "Modelin F1 skorunu hesaplayıp yüzdelik ölçekte yazdıralım."
   ]
  },
  {
   "cell_type": "code",
   "execution_count": null,
   "metadata": {},
   "outputs": [],
   "source": [
    "F1Score = f1_score(y_test, y_pred, average='weighted')  \n",
    "F1Score = F1Score * 100\n",
    "F1Score"
   ]
  },
  {
   "cell_type": "markdown",
   "metadata": {},
   "source": [
    "Modelin ROC - AUC skorunu hesaplayıp yüzdelik ölçekte yazdıralım."
   ]
  },
  {
   "cell_type": "code",
   "execution_count": null,
   "metadata": {},
   "outputs": [],
   "source": [
    "ROC_AUC_Score = roc_auc_score(y_test, y_pred)\n",
    "ROC_AUC_Score = ROC_AUC_Score * 100\n",
    "ROC_AUC_Score"
   ]
  },
  {
   "cell_type": "markdown",
   "metadata": {},
   "source": [
    "Modelin Log Loss skorunu hesaplayıp yazdıralım."
   ]
  },
  {
   "cell_type": "code",
   "execution_count": null,
   "metadata": {},
   "outputs": [],
   "source": [
    "LogLoss = log_loss(y_test, y_pred)\n",
    "LogLoss"
   ]
  },
  {
   "cell_type": "markdown",
   "metadata": {},
   "source": [
    "Modelin Brier skorunu hesaplayıp yüzdelik ölçekte yazdıralım."
   ]
  },
  {
   "cell_type": "code",
   "execution_count": null,
   "metadata": {},
   "outputs": [],
   "source": [
    "BrierScore = brier_score_loss(y_test, y_pred)\n",
    "BrierScore = 100 - BrierScore\n",
    "BrierScore"
   ]
  },
  {
   "cell_type": "markdown",
   "metadata": {},
   "source": [
    "Modelin dengeli doğruluk skorunu hesaplayıp yüzdelik ölçekte yazdıralım."
   ]
  },
  {
   "cell_type": "code",
   "execution_count": null,
   "metadata": {},
   "outputs": [],
   "source": [
    "BalancedAccuracyScore = balanced_accuracy_score(y_test, y_pred)\n",
    "BalancedAccuracyScore = BalancedAccuracyScore * 100\n",
    "BalancedAccuracyScore"
   ]
  },
  {
   "cell_type": "markdown",
   "metadata": {},
   "source": [
    "Modelin Jaccard skorunu hesaplayıp yüzdelik ölçekte yazdıralım."
   ]
  },
  {
   "cell_type": "code",
   "execution_count": null,
   "metadata": {},
   "outputs": [],
   "source": [
    "JaccardScore = jaccard_score(y_test, y_pred)\n",
    "JaccardScore = JaccardScore * 100\n",
    "JaccardScore"
   ]
  },
  {
   "cell_type": "markdown",
   "metadata": {},
   "source": [
    "Modelin bu makine öğrenmesi modeli için verdiği tüm başarı metriklerini \"sonuc\" veri çerçevemize gözlem olarak ekleyelim."
   ]
  },
  {
   "cell_type": "code",
   "execution_count": null,
   "metadata": {},
   "outputs": [],
   "source": [
    "sonuc = pd.DataFrame([[\"LGBM\", ConfusionMatrixScore, CrossValScore, ROC_AUC_Score, AUC, RecallScore, F1Score, PrecisionScore, JaccardScore, BrierScore, BalancedAccuracyScore, LogLoss]], columns= [\"Model\", \"ConfusionMatrixScore\", \"CrossValScore\", \"ROC_AUC_Score\", \"AUC\", \"RecallScore\", \"F1Score\", \"PrecisionScore\", \"JaccardScore\",\"BrierScore\",\"BalancedAccuracyScore\", \"LogLoss\"])\n",
    "sonuclar = sonuclar.append(sonuc)"
   ]
  },
  {
   "cell_type": "markdown",
   "metadata": {},
   "source": [
    "## Cat Boost"
   ]
  },
  {
   "cell_type": "markdown",
   "metadata": {},
   "source": [
    "### Cat Boost Modeli İnşası ve Eğitimi"
   ]
  },
  {
   "cell_type": "markdown",
   "metadata": {},
   "source": [
    "\"Cat Boost\" algoritması için kritik 3 parametreyi optimize ederek modeli kurar ve eğitiriz."
   ]
  },
  {
   "cell_type": "code",
   "execution_count": null,
   "metadata": {
    "jupyter": {
     "outputs_hidden": true
    }
   },
   "outputs": [],
   "source": [
    "catb = CatBoostClassifier()"
   ]
  },
  {
   "cell_type": "code",
   "execution_count": null,
   "metadata": {},
   "outputs": [],
   "source": [
    "catb_params = {\n",
    "    \"iterations\": [100,200,400],\n",
    "    \"learning_rate\":[0.01, 0.05, 0.1],\n",
    "    \"depth\" : [3,5,8]\n",
    "}"
   ]
  },
  {
   "cell_type": "code",
   "execution_count": null,
   "metadata": {
    "jupyter": {
     "outputs_hidden": true
    }
   },
   "outputs": [],
   "source": [
    "catb_cv_model = GridSearchCV(catb, catb_params, cv=5, n_jobs = 1, verbose =2)"
   ]
  },
  {
   "cell_type": "code",
   "execution_count": null,
   "metadata": {},
   "outputs": [],
   "source": [
    "catb_cv_model.fit(X_train, y_train)"
   ]
  },
  {
   "cell_type": "markdown",
   "metadata": {},
   "source": [
    "En iyi parametreleri ve en iyi skoru görüntüleyelim."
   ]
  },
  {
   "cell_type": "code",
   "execution_count": null,
   "metadata": {},
   "outputs": [],
   "source": [
    "print(\"En iyi parametreler: \" + str(catb_cv_model.best_params_))\n",
    "print(\"En iyi skor: \" + str(catb_cv_model.best_score_))"
   ]
  },
  {
   "cell_type": "markdown",
   "metadata": {},
   "source": [
    "En iyi parametreler ile modeli kurup eğitelim."
   ]
  },
  {
   "cell_type": "code",
   "execution_count": null,
   "metadata": {
    "jupyter": {
     "outputs_hidden": true
    }
   },
   "outputs": [],
   "source": [
    "catb = CatBoostClassifier(iterations = catb_cv_model.best_params_[\"iterations\"],\n",
    "                         learning_rate = catb_cv_model.best_params_[\"learning_rate\"],\n",
    "                         depth = catb_cv_model.best_params_[\"depth\"])"
   ]
  },
  {
   "cell_type": "code",
   "execution_count": null,
   "metadata": {},
   "outputs": [],
   "source": [
    "catb_tuned = catb.fit(X_train, y_train)"
   ]
  },
  {
   "cell_type": "markdown",
   "metadata": {},
   "source": [
    "###  CAT Boost Modeli Tahminleri ve Başarı Metrikleri "
   ]
  },
  {
   "cell_type": "markdown",
   "metadata": {},
   "source": [
    "Tahmin için kurduğumuz modelin \"predict()\" fonksiyonuna test için ayırdığımız \"X_test\" parametresini vereceğiz. "
   ]
  },
  {
   "cell_type": "code",
   "execution_count": null,
   "metadata": {},
   "outputs": [],
   "source": [
    "y_pred = catb_tuned.predict(X_test)"
   ]
  },
  {
   "cell_type": "markdown",
   "metadata": {},
   "source": [
    "Bu sayede tahmin değerleri ile gerçek değerleri gözlemleyebileceğimiz karmaşıklık matrisini çizdirebiliriz. "
   ]
  },
  {
   "cell_type": "code",
   "execution_count": null,
   "metadata": {},
   "outputs": [],
   "source": [
    "karmasiklik_matrisi = confusion_matrix(y_test, y_pred)\n",
    "print(karmasiklik_matrisi)"
   ]
  },
  {
   "cell_type": "markdown",
   "metadata": {},
   "source": [
    "Karmaşıklık matrisi ile modelin doğru ve yanlış tahminlerini mukayese edebiliriz. Sol üst kısım ve sağ alt kısım doğru tahmin sayıları iken, diğer köşegen yanlış tahmin sayılarıdır. Aşağıda yapılan işlemler sonucu modelin karmaşıklık matris için başarı skoru yüzdelik ölçekte görüntülenmektedir."
   ]
  },
  {
   "cell_type": "code",
   "execution_count": null,
   "metadata": {},
   "outputs": [],
   "source": [
    "ConfusionMatrixScore = (karmasiklik_matrisi[0][0] + karmasiklik_matrisi[1][1]) / (karmasiklik_matrisi[0][0] + karmasiklik_matrisi[1][1] + karmasiklik_matrisi[1][0] + karmasiklik_matrisi[0][1])\n",
    "ConfusionMatrixScore  = ConfusionMatrixScore*100\n",
    "ConfusionMatrixScore"
   ]
  },
  {
   "cell_type": "markdown",
   "metadata": {},
   "source": [
    "Hazır fonksiyon olan \"accuracy_score()\" ile de aynı çıktıyı alırsak skorun sağlamasını yapmış olacağız."
   ]
  },
  {
   "cell_type": "code",
   "execution_count": null,
   "metadata": {},
   "outputs": [],
   "source": [
    "accuracy_score(y_test, y_pred)"
   ]
  },
  {
   "cell_type": "markdown",
   "metadata": {},
   "source": [
    "Öte yandan sınıflandırma raporu olarak da bilinen \"classification_report()\" fonksiyonu bize model hakkında pek çok ayrıntılı bilgiyi detaylı olarak sunar. Modelin başarı durumunu özetleyen, doğruluk, duyarlılık, destek, ağırlıklı ortalama, F istatistikleri gibi pek çok başarı metriğine sınıflandırma raporunu kullanarak erişebiliriz."
   ]
  },
  {
   "cell_type": "code",
   "execution_count": null,
   "metadata": {},
   "outputs": [],
   "source": [
    "print(classification_report(y_test, y_pred))"
   ]
  },
  {
   "cell_type": "markdown",
   "metadata": {},
   "source": [
    "Sınıflandırma algoritmalarında kullanılan pek çok başarı metriği bazı durumlarda yanıltıcı olabilmektedir. Bu gibi durumlar için ROC - AUC grafiği çizdirilir ve ROC eğrisinin(mavi çizgi) altında kalan alanın büyüklüğü modelin doğruluğu hakkında bize fikir verir. Kırmızı kesikli çizgi ise modelin başarısının %50 olduğu durumu temsil eder. "
   ]
  },
  {
   "cell_type": "code",
   "execution_count": null,
   "metadata": {},
   "outputs": [],
   "source": [
    "logit_roc_auc = roc_auc_score(y_test, catb_tuned.predict(X_test))\n",
    "\n",
    "fpr, tpr, thresholds = roc_curve(y_test, catb_tuned.predict_proba(X_test)[:,1])\n",
    "plt.figure(figsize=(10,7))\n",
    "plt.plot(fpr, tpr, label='AUC (area = %0.2f)' % logit_roc_auc)\n",
    "plt.plot([0, 1], [0, 1],'r--')\n",
    "plt.xlim([0.0, 1.0])\n",
    "plt.ylim([0.0, 1.05])\n",
    "plt.xlabel('False Positive Oranı')\n",
    "plt.ylabel('True Positive Oranı')\n",
    "plt.title('ROC')\n",
    "plt.show()"
   ]
  },
  {
   "cell_type": "markdown",
   "metadata": {},
   "source": [
    "Burada önemli olan AUC(area under curve) dediğimiz, çizginin altında kalan alanın büyüklüğüdür. Söz konusu alan 1'e ne kadar yakınsa model o kadar başarılı sayılır."
   ]
  },
  {
   "cell_type": "code",
   "execution_count": null,
   "metadata": {},
   "outputs": [],
   "source": [
    "AUC = metrics.auc(fpr, tpr)\n",
    "AUC = AUC * 100\n",
    "AUC"
   ]
  },
  {
   "cell_type": "markdown",
   "metadata": {},
   "source": [
    "Tek bir defa başarı skoruna bakmak, model hakkında karar vermek için çok erken ve yanıltıcıdır. Modeli defalarca farklı test ve eğitim olacak şekilde kombinleyerek skorlamak daha sağlıklı olacaktır."
   ]
  },
  {
   "cell_type": "code",
   "execution_count": null,
   "metadata": {},
   "outputs": [],
   "source": [
    "cross_val_score(catb_tuned, X_test, y_test, cv = 10)"
   ]
  },
  {
   "cell_type": "markdown",
   "metadata": {},
   "source": [
    "Modeli 10 defa skorladık, bunların ortalamasını alarak daha kesin bir sonuç elde edebiliriz."
   ]
  },
  {
   "cell_type": "code",
   "execution_count": null,
   "metadata": {},
   "outputs": [],
   "source": [
    "CrossValScore = cross_val_score(catb_tuned, X_test, y_test, cv = 10).mean()\n",
    "CrossValScore = CrossValScore * 100\n",
    "CrossValScore"
   ]
  },
  {
   "cell_type": "markdown",
   "metadata": {},
   "source": [
    "Modelin kesinlik skorunu hesaplayıp yüzdelik ölçekte yazdıralım."
   ]
  },
  {
   "cell_type": "code",
   "execution_count": null,
   "metadata": {},
   "outputs": [],
   "source": [
    "PrecisionScore = metrics.precision_score(y_test, y_pred, average='weighted')\n",
    "PrecisionScore = PrecisionScore * 100\n",
    "PrecisionScore"
   ]
  },
  {
   "cell_type": "markdown",
   "metadata": {},
   "source": [
    "Modelin duyarlılık skorunu hesaplayıp yüzdelik ölçekte yazdıralım."
   ]
  },
  {
   "cell_type": "code",
   "execution_count": null,
   "metadata": {},
   "outputs": [],
   "source": [
    "RecallScore = recall_score(y_test, y_pred, average='weighted')\n",
    "RecallScore = RecallScore * 100\n",
    "RecallScore"
   ]
  },
  {
   "cell_type": "markdown",
   "metadata": {},
   "source": [
    "Modelin F1 skorunu hesaplayıp yüzdelik ölçekte yazdıralım."
   ]
  },
  {
   "cell_type": "code",
   "execution_count": null,
   "metadata": {},
   "outputs": [],
   "source": [
    "F1Score = f1_score(y_test, y_pred, average='weighted')  \n",
    "F1Score = F1Score * 100\n",
    "F1Score"
   ]
  },
  {
   "cell_type": "markdown",
   "metadata": {},
   "source": [
    "Modelin ROC - AUC skorunu hesaplayıp yüzdelik ölçekte yazdıralım."
   ]
  },
  {
   "cell_type": "code",
   "execution_count": null,
   "metadata": {},
   "outputs": [],
   "source": [
    "ROC_AUC_Score = roc_auc_score(y_test, y_pred)\n",
    "ROC_AUC_Score = ROC_AUC_Score * 100\n",
    "ROC_AUC_Score"
   ]
  },
  {
   "cell_type": "markdown",
   "metadata": {},
   "source": [
    "Modelin Log Loss skorunu hesaplayıp yazdıralım."
   ]
  },
  {
   "cell_type": "code",
   "execution_count": null,
   "metadata": {},
   "outputs": [],
   "source": [
    "LogLoss = log_loss(y_test, y_pred)\n",
    "LogLoss"
   ]
  },
  {
   "cell_type": "markdown",
   "metadata": {},
   "source": [
    "Modelin Brier skorunu hesaplayıp yüzdelik ölçekte yazdıralım."
   ]
  },
  {
   "cell_type": "code",
   "execution_count": null,
   "metadata": {},
   "outputs": [],
   "source": [
    "BrierScore = brier_score_loss(y_test, y_pred)\n",
    "BrierScore = 100 - BrierScore\n",
    "BrierScore"
   ]
  },
  {
   "cell_type": "markdown",
   "metadata": {},
   "source": [
    "Modelin dengeli doğruluk skorunu hesaplayıp yüzdelik ölçekte yazdıralım."
   ]
  },
  {
   "cell_type": "code",
   "execution_count": null,
   "metadata": {},
   "outputs": [],
   "source": [
    "BalancedAccuracyScore = balanced_accuracy_score(y_test, y_pred)\n",
    "BalancedAccuracyScore = BalancedAccuracyScore * 100\n",
    "BalancedAccuracyScore"
   ]
  },
  {
   "cell_type": "markdown",
   "metadata": {},
   "source": [
    "Modelin Jaccard skorunu hesaplayıp yüzdelik ölçekte yazdıralım."
   ]
  },
  {
   "cell_type": "code",
   "execution_count": null,
   "metadata": {},
   "outputs": [],
   "source": [
    "JaccardScore = jaccard_score(y_test, y_pred)\n",
    "JaccardScore = JaccardScore * 100\n",
    "JaccardScore"
   ]
  },
  {
   "cell_type": "markdown",
   "metadata": {},
   "source": [
    "Modelin bu makine öğrenmesi modeli için verdiği tüm başarı metriklerini \"sonuc\" veri çerçevemize gözlem olarak ekleyelim."
   ]
  },
  {
   "cell_type": "code",
   "execution_count": null,
   "metadata": {},
   "outputs": [],
   "source": [
    "sonuc = pd.DataFrame([[\"CatBoost\", ConfusionMatrixScore, CrossValScore, ROC_AUC_Score, AUC, RecallScore, F1Score, PrecisionScore, JaccardScore, BrierScore, BalancedAccuracyScore, LogLoss]], columns= [\"Model\", \"ConfusionMatrixScore\", \"CrossValScore\", \"ROC_AUC_Score\", \"AUC\", \"RecallScore\", \"F1Score\", \"PrecisionScore\", \"JaccardScore\",\"BrierScore\",\"BalancedAccuracyScore\", \"LogLoss\"])\n",
    "sonuclar = sonuclar.append(sonuc)"
   ]
  },
  {
   "cell_type": "markdown",
   "metadata": {},
   "source": [
    "## Multilayer Perceptron Classifier (Yapay Sinir Ağları)"
   ]
  },
  {
   "cell_type": "markdown",
   "metadata": {},
   "source": [
    "### MLPC Modeli İnşası ve Eğitimi"
   ]
  },
  {
   "cell_type": "markdown",
   "metadata": {},
   "source": [
    "\"Çok Katmanlı Algılayıcı Sınıflandırıcısı\" olarak adlandırabileceğimiz MLPC algoritması için 4 adet kritik parametreyi optimize ederek modeli kurar ve eğitiriz."
   ]
  },
  {
   "cell_type": "code",
   "execution_count": null,
   "metadata": {},
   "outputs": [],
   "source": [
    "mlpc = MLPClassifier()"
   ]
  },
  {
   "cell_type": "code",
   "execution_count": null,
   "metadata": {},
   "outputs": [],
   "source": [
    "mlpc"
   ]
  },
  {
   "cell_type": "markdown",
   "metadata": {},
   "source": [
    "Model için parametre optimizasyonu yaparak optimal değerleri tespit edelim."
   ]
  },
  {
   "cell_type": "code",
   "execution_count": null,
   "metadata": {},
   "outputs": [],
   "source": [
    "mlpc_params = {\"alpha\": [0.1, 0.01, 0.02, 0.005, 0.0001,0.00001],\n",
    "              \"hidden_layer_sizes\": [(10,10,10),\n",
    "                                     (100,100,100),\n",
    "                                     (100,100),\n",
    "                                     (3,5), \n",
    "                                     (5, 3)],\n",
    "              \"solver\" : [\"lbfgs\",\"adam\",\"sgd\"],\n",
    "              \"activation\": [\"relu\",\"logistic\"]}"
   ]
  },
  {
   "cell_type": "markdown",
   "metadata": {},
   "source": [
    "Yapay sinir ağları modeline girecek verileri eğitimcen önce ölçeklendirmemiz gerekiyor."
   ]
  },
  {
   "cell_type": "code",
   "execution_count": null,
   "metadata": {},
   "outputs": [],
   "source": [
    "scaler = StandardScaler()\n",
    "scaler.fit(X_train)\n",
    "X_train_scaled = scaler.transform(X_train)\n",
    "X_test_scaled = scaler.transform(X_test)"
   ]
  },
  {
   "cell_type": "code",
   "execution_count": null,
   "metadata": {},
   "outputs": [],
   "source": [
    "mlpc_cv_model = GridSearchCV(mlpc,\n",
    "                             mlpc_params, \n",
    "                             cv = 5, \n",
    "                             n_jobs = -1,\n",
    "                             verbose = 2)"
   ]
  },
  {
   "cell_type": "code",
   "execution_count": null,
   "metadata": {
    "scrolled": true
   },
   "outputs": [],
   "source": [
    "mlpc_cv_model.fit(X_train_scaled, y_train)"
   ]
  },
  {
   "cell_type": "markdown",
   "metadata": {},
   "source": [
    "En iyi parametreleri ve en iyi skoru görüntüleyelim."
   ]
  },
  {
   "cell_type": "code",
   "execution_count": null,
   "metadata": {},
   "outputs": [],
   "source": [
    "print(\"En iyi parametreler : \" + str(mlpc_cv_model.best_params_))\n",
    "print(\"En iyi skor : \" + str(mlpc_cv_model.best_score_))"
   ]
  },
  {
   "cell_type": "markdown",
   "metadata": {},
   "source": [
    "En iyi parametreleri kullanarak modeli kurup eğitelim."
   ]
  },
  {
   "cell_type": "code",
   "execution_count": null,
   "metadata": {},
   "outputs": [],
   "source": [
    "mlpc_tuned = MLPClassifier(activation = mlpc_cv_model.best_params_[\"activation\"],\n",
    "                           alpha =  mlpc_cv_model.best_params_[\"alpha\"],\n",
    "                           hidden_layer_sizes =  mlpc_cv_model.best_params_[\"hidden_layer_sizes\"],\n",
    "                           solver =  mlpc_cv_model.best_params_[\"solver\"])"
   ]
  },
  {
   "cell_type": "code",
   "execution_count": null,
   "metadata": {},
   "outputs": [],
   "source": [
    "mlpc_tuned.fit(X_train_scaled, y_train)"
   ]
  },
  {
   "cell_type": "markdown",
   "metadata": {},
   "source": [
    "### MLPC Modeli Tahminleri ve Başarı Metrikleri "
   ]
  },
  {
   "cell_type": "markdown",
   "metadata": {},
   "source": [
    "Tahmin için kurduğumuz modelin \"predict()\" fonksiyonuna test için ayırdığımız \"X_test\" parametresini vereceğiz. "
   ]
  },
  {
   "cell_type": "code",
   "execution_count": null,
   "metadata": {},
   "outputs": [],
   "source": [
    "y_pred = mlpc_tuned.predict(X_test)"
   ]
  },
  {
   "cell_type": "markdown",
   "metadata": {},
   "source": [
    "Bu sayede tahmin değerleri ile gerçek değerleri gözlemleyebileceğimiz karmaşıklık matrisini çizdirebiliriz. "
   ]
  },
  {
   "cell_type": "code",
   "execution_count": null,
   "metadata": {},
   "outputs": [],
   "source": [
    "karmasiklik_matrisi = confusion_matrix(y_test, y_pred)\n",
    "print(karmasiklik_matrisi)"
   ]
  },
  {
   "cell_type": "markdown",
   "metadata": {},
   "source": [
    "Karmaşıklık matrisi ile modelin doğru ve yanlış tahminlerini mukayese edebiliriz. Sol üst ve sağ alt doğru tahmin çıktıları iken, diğer köşegen yanlış tahmin çıktılarıdır. Aşağıda yapılan işlemler sonucu modelin karmaşıklık matris için başarı skoru yüzdelik ölçekte görüntülenmektedir."
   ]
  },
  {
   "cell_type": "code",
   "execution_count": null,
   "metadata": {},
   "outputs": [],
   "source": [
    "ConfusionMatrixScore = (karmasiklik_matrisi[0][0] + karmasiklik_matrisi[1][1]) / (karmasiklik_matrisi[0][0] + karmasiklik_matrisi[1][1] + karmasiklik_matrisi[1][0] + karmasiklik_matrisi[0][1])\n",
    "ConfusionMatrixScore  = ConfusionMatrixScore*100\n",
    "ConfusionMatrixScore"
   ]
  },
  {
   "cell_type": "markdown",
   "metadata": {},
   "source": [
    "Hazır fonksiyon olan \"accuracy_score()\" ile de aynı çıktıyı alırsak skorun sağlamasını yapmış olacağız."
   ]
  },
  {
   "cell_type": "code",
   "execution_count": null,
   "metadata": {},
   "outputs": [],
   "source": [
    "accuracy_score(y_test, y_pred)"
   ]
  },
  {
   "cell_type": "markdown",
   "metadata": {},
   "source": [
    "Öte yandan sınıflandırma raporu olarak da bilinen \"classification_report()\" fonksiyonu bize model hakkında pek çok ayrıntılı bilgiyi detaylı olarak sunar. Modelin başarı durumunu özetleyen, doğruluk, duyarlılık, destek, ağırlıklı ortalama, F istatistikleri gibi pek çok başarı metriğine sınıflandırma raporunu kullanarak erişebiliriz."
   ]
  },
  {
   "cell_type": "code",
   "execution_count": null,
   "metadata": {},
   "outputs": [],
   "source": [
    "print(classification_report(y_test, y_pred))"
   ]
  },
  {
   "cell_type": "markdown",
   "metadata": {},
   "source": [
    "Sınıflandırma algoritmalarında kullanılan pek çok başarı metriği bazı durumlarda yanıltıcı olabilmektedir. Bu gibi durumlar için ROC - AUC grafiği çizdirilir ve ROC eğrisinin(mavi çizgi) altında kalan alanın büyüklüğü modelin doğruluğu hakkında bize fikir verir. Kırmızı kesikli çizgi ise modelin başarısının %50 olduğu durumu temsil eder. "
   ]
  },
  {
   "cell_type": "code",
   "execution_count": null,
   "metadata": {},
   "outputs": [],
   "source": [
    "logit_roc_auc = roc_auc_score(y_test, mlpc_tuned.predict(X_test))\n",
    "\n",
    "fpr, tpr, thresholds = roc_curve(y_test, mlpc_tuned.predict_proba(X_test)[:,1])\n",
    "plt.figure(figsize=(10,7))\n",
    "plt.plot(fpr, tpr, label='AUC (area = %0.2f)' % logit_roc_auc)\n",
    "plt.plot([0, 1], [0, 1],'r--')\n",
    "plt.xlim([0.0, 1.0])\n",
    "plt.ylim([0.0, 1.05])\n",
    "plt.xlabel('False Positive Oranı')\n",
    "plt.ylabel('True Positive Oranı')\n",
    "plt.title('ROC')\n",
    "plt.show()"
   ]
  },
  {
   "cell_type": "markdown",
   "metadata": {},
   "source": [
    "Burada önemli olan AUC(area under curve) dediğimiz, çizginin altında kalan alanın büyüklüğüdür. Söz konusu alan 1'e ne kadar yakınsa model o kadar başarılı sayılır."
   ]
  },
  {
   "cell_type": "code",
   "execution_count": null,
   "metadata": {},
   "outputs": [],
   "source": [
    "AUC = metrics.auc(fpr, tpr)\n",
    "AUC = AUC * 100\n",
    "AUC"
   ]
  },
  {
   "cell_type": "markdown",
   "metadata": {},
   "source": [
    "Tek bir defa başarı skoruna bakmak, model hakkında karar vermek için çok erken ve yanıltıcıdır. Modeli defalarca farklı test ve eğitim olacak şekilde kombinleyerek skorlamak daha sağlıklı olacaktır."
   ]
  },
  {
   "cell_type": "code",
   "execution_count": null,
   "metadata": {},
   "outputs": [],
   "source": [
    "cross_val_score(mlpc_tuned, X_test, y_test, cv = 10)"
   ]
  },
  {
   "cell_type": "markdown",
   "metadata": {},
   "source": [
    "Modeli 10 defa skorladık, bunların ortalamasını alarak daha kesin bir sonuç elde edebiliriz."
   ]
  },
  {
   "cell_type": "code",
   "execution_count": null,
   "metadata": {},
   "outputs": [],
   "source": [
    "CrossValScore = cross_val_score(mlpc_tuned, X_test, y_test, cv = 10).mean()\n",
    "CrossValScore = CrossValScore * 100\n",
    "CrossValScore"
   ]
  },
  {
   "cell_type": "markdown",
   "metadata": {},
   "source": [
    "Modelin kesinlik skorunu hesaplayıp yüzdelik ölçekte yazdıralım."
   ]
  },
  {
   "cell_type": "code",
   "execution_count": null,
   "metadata": {},
   "outputs": [],
   "source": [
    "PrecisionScore = metrics.precision_score(y_test, y_pred, average='weighted')\n",
    "PrecisionScore = PrecisionScore * 100\n",
    "PrecisionScore"
   ]
  },
  {
   "cell_type": "markdown",
   "metadata": {},
   "source": [
    "Modelin duyarlılık skorunu hesaplayıp yüzdelik ölçekte yazdıralım."
   ]
  },
  {
   "cell_type": "code",
   "execution_count": null,
   "metadata": {},
   "outputs": [],
   "source": [
    "RecallScore = recall_score(y_test, y_pred, average='weighted')\n",
    "RecallScore = RecallScore * 100\n",
    "RecallScore"
   ]
  },
  {
   "cell_type": "markdown",
   "metadata": {},
   "source": [
    "Modelin F1 skorunu hesaplayıp yüzdelik ölçekte yazdıralım."
   ]
  },
  {
   "cell_type": "code",
   "execution_count": null,
   "metadata": {},
   "outputs": [],
   "source": [
    "F1Score = f1_score(y_test, y_pred, average='weighted')  \n",
    "F1Score = F1Score * 100\n",
    "F1Score"
   ]
  },
  {
   "cell_type": "markdown",
   "metadata": {},
   "source": [
    "Modelin ROC - AUC skorunu hesaplayıp yüzdelik ölçekte yazdıralım."
   ]
  },
  {
   "cell_type": "code",
   "execution_count": null,
   "metadata": {},
   "outputs": [],
   "source": [
    "ROC_AUC_Score = roc_auc_score(y_test, y_pred)\n",
    "ROC_AUC_Score = ROC_AUC_Score * 100\n",
    "ROC_AUC_Score"
   ]
  },
  {
   "cell_type": "markdown",
   "metadata": {},
   "source": [
    "Modelin Log Loss skorunu hesaplayıp yazdıralım."
   ]
  },
  {
   "cell_type": "code",
   "execution_count": null,
   "metadata": {},
   "outputs": [],
   "source": [
    "LogLoss = log_loss(y_test, y_pred)\n",
    "LogLoss"
   ]
  },
  {
   "cell_type": "markdown",
   "metadata": {},
   "source": [
    "Modelin Brier skorunu hesaplayıp yüzdelik ölçekte yazdıralım."
   ]
  },
  {
   "cell_type": "code",
   "execution_count": null,
   "metadata": {},
   "outputs": [],
   "source": [
    "BrierScore = brier_score_loss(y_test, y_pred)\n",
    "BrierScore = 100 - BrierScore\n",
    "BrierScore"
   ]
  },
  {
   "cell_type": "markdown",
   "metadata": {},
   "source": [
    "Modelin dengeli doğruluk skorunu hesaplayıp yüzdelik ölçekte yazdıralım."
   ]
  },
  {
   "cell_type": "code",
   "execution_count": null,
   "metadata": {},
   "outputs": [],
   "source": [
    "BalancedAccuracyScore = balanced_accuracy_score(y_test, y_pred)\n",
    "BalancedAccuracyScore = BalancedAccuracyScore * 100\n",
    "BalancedAccuracyScore"
   ]
  },
  {
   "cell_type": "markdown",
   "metadata": {},
   "source": [
    "Modelin Jaccard skorunu hesaplayıp yüzdelik ölçekte yazdıralım."
   ]
  },
  {
   "cell_type": "code",
   "execution_count": null,
   "metadata": {},
   "outputs": [],
   "source": [
    "JaccardScore = jaccard_score(y_test, y_pred)\n",
    "JaccardScore = JaccardScore * 100\n",
    "JaccardScore"
   ]
  },
  {
   "cell_type": "markdown",
   "metadata": {},
   "source": [
    "Modelin bu makine öğrenmesi modeli için verdiği tüm başarı metriklerini \"sonuc\" veri çerçevemize gözlem olarak ekleyelim."
   ]
  },
  {
   "cell_type": "code",
   "execution_count": null,
   "metadata": {},
   "outputs": [],
   "source": [
    "sonuc = pd.DataFrame([[\"MLPC\", ConfusionMatrixScore, CrossValScore, ROC_AUC_Score, AUC, RecallScore, F1Score, PrecisionScore, JaccardScore, BrierScore, BalancedAccuracyScore, LogLoss]], columns= [\"Model\", \"ConfusionMatrixScore\", \"CrossValScore\", \"ROC_AUC_Score\", \"AUC\", \"RecallScore\", \"F1Score\", \"PrecisionScore\", \"JaccardScore\",\"BrierScore\",\"BalancedAccuracyScore\", \"LogLoss\"])\n",
    "sonuclar = sonuclar.append(sonuc)"
   ]
  },
  {
   "cell_type": "markdown",
   "metadata": {},
   "source": [
    "# Makine Öğrenmesi Modellerinin Mukayese Edilmesi"
   ]
  },
  {
   "cell_type": "markdown",
   "metadata": {},
   "source": [
    "Makine öğrenmesi modellemeye başlamadan önce oluşturduğumuz sonuclar isimli veri çerçevesine her modellemeden sonra bir gözlem ekledik. Şimdi veri çerçevesine göz atabiliriz."
   ]
  },
  {
   "cell_type": "code",
   "execution_count": null,
   "metadata": {
    "scrolled": true
   },
   "outputs": [],
   "source": [
    "sonuclar"
   ]
  },
  {
   "cell_type": "markdown",
   "metadata": {},
   "source": [
    "Pek çok başarı metriği ile elde ettiğimiz skorların ortalamasını alarak daha net bir değer elde etmiş oluruz."
   ]
  },
  {
   "cell_type": "code",
   "execution_count": null,
   "metadata": {},
   "outputs": [],
   "source": [
    "sonuclar[\"AVG\"] = (sonuclar[\"ConfusionMatrixScore\"]\n",
    "                   + sonuclar[\"CrossValScore\"]\n",
    "                   + sonuclar[\"ROC_AUC_Score\"]\n",
    "                   + sonuclar[\"AUC\"]\n",
    "                   + sonuclar[\"RecallScore\"]\n",
    "                   + sonuclar[\"F1Score\"]\n",
    "                   + sonuclar[\"PrecisionScore\"]\n",
    "                   + sonuclar[\"JaccardScore\"] \n",
    "                   + sonuclar[\"BrierScore\"] \n",
    "                   + sonuclar[\"BalancedAccuracyScore\"]) / 10"
   ]
  },
  {
   "cell_type": "code",
   "execution_count": null,
   "metadata": {},
   "outputs": [],
   "source": [
    "sonuclar[\"FinalScore\"] = (sonuclar[\"ConfusionMatrixScore\"] * 0.25\n",
    "                   + sonuclar[\"CrossValScore\"] * 0.25\n",
    "                   + sonuclar[\"ROC_AUC_Score\"] * 0.1\n",
    "                   + sonuclar[\"AUC\"] * 0.1\n",
    "                   + sonuclar[\"RecallScore\"] * 0.05\n",
    "                   + sonuclar[\"F1Score\"] * 0.05\n",
    "                   + sonuclar[\"PrecisionScore\"] * 0.05\n",
    "                   + sonuclar[\"JaccardScore\"] * 0.05\n",
    "                   + sonuclar[\"BrierScore\"] * 0.05\n",
    "                   + sonuclar[\"BalancedAccuracyScore\"] * 0.05)"
   ]
  },
  {
   "cell_type": "markdown",
   "metadata": {},
   "source": [
    "Skorların ortalamasını büyükten küçüğe doğru sıralayarak \"Model\" özniteliği ile birlikte gösterelim."
   ]
  },
  {
   "cell_type": "code",
   "execution_count": null,
   "metadata": {},
   "outputs": [],
   "source": [
    "sonuclar.sort_values(by = \"FinalScore\", ascending = False, inplace = True)"
   ]
  },
  {
   "cell_type": "code",
   "execution_count": null,
   "metadata": {
    "scrolled": true
   },
   "outputs": [],
   "source": [
    "sonuclar[[\"Model\", \"AVG\"]]"
   ]
  },
  {
   "cell_type": "code",
   "execution_count": null,
   "metadata": {},
   "outputs": [],
   "source": [
    "sonuclar[[\"Model\",\"FinalScore\"]]"
   ]
  },
  {
   "cell_type": "markdown",
   "metadata": {},
   "source": [
    "Daha efektif bir görünüm için \"bar plot\" çizdirerek modellerin birbirine üstünlüklerini gözlemleyebiliriz."
   ]
  },
  {
   "cell_type": "code",
   "execution_count": null,
   "metadata": {},
   "outputs": [],
   "source": [
    "sns.barplot(x = \"Model\", y = \"FinalScore\", data = sonuclar, color = \"b\")\n",
    "plt.xticks(rotation = 20)\n",
    "sns.set(rc={'figure.figsize':(15,10)})\n",
    "plt.ylabel(\"Modellerin Başarı Oranları %\")\n",
    "plt.title(\"Modellerin Başarı Skorları Karşılaştırılması\");"
   ]
  }
 ],
 "metadata": {
  "kernelspec": {
   "display_name": "Python 3",
   "language": "python",
   "name": "python3"
  },
  "language_info": {
   "codemirror_mode": {
    "name": "ipython",
    "version": 3
   },
   "file_extension": ".py",
   "mimetype": "text/x-python",
   "name": "python",
   "nbconvert_exporter": "python",
   "pygments_lexer": "ipython3",
   "version": "3.7.5"
  }
 },
 "nbformat": 4,
 "nbformat_minor": 4
}
